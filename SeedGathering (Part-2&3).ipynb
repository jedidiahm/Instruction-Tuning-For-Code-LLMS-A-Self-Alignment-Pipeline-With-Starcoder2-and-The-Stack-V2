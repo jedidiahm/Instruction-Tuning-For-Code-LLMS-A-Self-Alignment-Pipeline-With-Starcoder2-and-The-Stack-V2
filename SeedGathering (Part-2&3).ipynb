{
  "cells": [
    {
      "cell_type": "code",
      "source": [
        "print(\"hi\")"
      ],
      "outputs": [
        {
          "output_type": "stream",
          "name": "stdout",
          "text": "hi\n"
        }
      ],
      "execution_count": 1,
      "metadata": {
        "jupyter": {
          "is_executing": true
        },
        "gather": {
          "logged": 1747079260518
        }
      },
      "id": "9dc64d1cd15dd388"
    },
    {
      "cell_type": "code",
      "source": [
        "os.cpu_count()"
      ],
      "outputs": [
        {
          "output_type": "execute_result",
          "execution_count": 2,
          "data": {
            "text/plain": "16"
          },
          "metadata": {}
        }
      ],
      "execution_count": 2,
      "metadata": {
        "gather": {
          "logged": 1747079290952
        }
      },
      "id": "cc0ed354-f56b-48ca-87e9-548e67d2ff1c"
    },
    {
      "cell_type": "code",
      "source": [
        "!git clone https://github.com/bigcode-project/selfcodealign.git"
      ],
      "outputs": [
        {
          "output_type": "stream",
          "name": "stdout",
          "text": "fatal: destination path 'selfcodealign' already exists and is not an empty directory.\r\n"
        }
      ],
      "execution_count": 2,
      "metadata": {
        "colab": {
          "base_uri": "https://localhost:8080/"
        },
        "id": "2xcmc6O8DqO4",
        "outputId": "0dcca8dc-b3fb-49bb-f66e-ba8d9007302f",
        "jupyter": {
          "is_executing": true
        }
      },
      "id": "2xcmc6O8DqO4"
    },
    {
      "cell_type": "code",
      "source": [
        "!cd selfcodealign"
      ],
      "outputs": [],
      "execution_count": 3,
      "metadata": {
        "id": "7bjvMXP8Du_t"
      },
      "id": "7bjvMXP8Du_t"
    },
    {
      "cell_type": "code",
      "source": [
        "%cd selfcodealign/seed_gathering"
      ],
      "outputs": [
        {
          "output_type": "stream",
          "name": "stderr",
          "text": "/anaconda/envs/azureml_py38/lib/python3.10/site-packages/IPython/core/magics/osm.py:417: UserWarning: This is now an optional IPython functionality, setting dhist requires you to install the `pickleshare` library.\n  self.shell.db['dhist'] = compress_dhist(dhist)[-100:]\n"
        }
      ],
      "execution_count": 1,
      "metadata": {
        "colab": {
          "base_uri": "https://localhost:8080/"
        },
        "id": "PrkHGTB3EBSX",
        "outputId": "89e6246a-75d7-4d65-fac4-fa209f013576"
      },
      "id": "PrkHGTB3EBSX"
    },
    {
      "cell_type": "code",
      "source": [
        "pwd"
      ],
      "outputs": [
        {
          "output_type": "execute_result",
          "execution_count": 4,
          "data": {
            "text/plain": "'/mnt/batch/tasks/shared/LS_root/mounts/clusters/bhargavj20002/code/Users/bhargavj2000/selfcodealign/seed_gathering'"
          },
          "metadata": {}
        }
      ],
      "execution_count": 4,
      "metadata": {
        "gather": {
          "logged": 1747079319051
        }
      },
      "id": "83265679-8a2a-473a-b1b0-1d8e34b9d629"
    },
    {
      "cell_type": "code",
      "source": [
        "cd .."
      ],
      "outputs": [
        {
          "output_type": "stream",
          "name": "stderr",
          "text": "/anaconda/envs/azureml_py38/lib/python3.10/site-packages/IPython/core/magics/osm.py:417: UserWarning: This is now an optional IPython functionality, setting dhist requires you to install the `pickleshare` library.\n  self.shell.db['dhist'] = compress_dhist(dhist)[-100:]\n"
        }
      ],
      "execution_count": 6,
      "metadata": {
        "gather": {
          "logged": 1747010015740
        }
      },
      "id": "82a396ff-2def-4d94-a00c-f2dd9b6f4f52"
    },
    {
      "cell_type": "code",
      "source": [
        "!git clone https://github.com/tree-sitter/tree-sitter-python.git"
      ],
      "outputs": [
        {
          "output_type": "stream",
          "name": "stdout",
          "text": "Cloning into 'tree-sitter-python'...\nremote: Enumerating objects: 3520, done.\u001b[K\nremote: Counting objects: 100% (1375/1375), done.\u001b[K\nremote: Compressing objects: 100% (201/201), done.\u001b[K\nremote: Total 3520 (delta 1262), reused 1174 (delta 1174), pack-reused 2145 (from 3)\u001b[K\nReceiving objects: 100% (3520/3520), 22.54 MiB | 12.91 MiB/s, done.\nResolving deltas: 100% (2148/2148), done.\nUpdating files: 100% (76/76), done.\n"
        }
      ],
      "execution_count": 7,
      "metadata": {
        "colab": {
          "base_uri": "https://localhost:8080/"
        },
        "id": "13lmWL1wJcXF",
        "outputId": "05f2be11-f60b-4fa6-f17b-8f855ab03bce"
      },
      "id": "13lmWL1wJcXF"
    },
    {
      "cell_type": "code",
      "source": [
        "!pip install -r requirements.txt"
      ],
      "outputs": [
        {
          "output_type": "stream",
          "name": "stdout",
          "text": "Collecting datasets==2.18.0\n  Downloading datasets-2.18.0-py3-none-any.whl (510 kB)\n\u001b[2K     \u001b[90m━━━━━━━━━━━━━━━━━━━━━━━━━━━━━━━━━━━━━━\u001b[0m \u001b[32m510.5/510.5 kB\u001b[0m \u001b[31m27.9 MB/s\u001b[0m eta \u001b[36m0:00:00\u001b[0m\n\u001b[?25hCollecting tree-sitter==0.20.4\n  Downloading tree_sitter-0.20.4-cp310-cp310-manylinux_2_17_x86_64.manylinux2014_x86_64.whl (488 kB)\n\u001b[2K     \u001b[90m━━━━━━━━━━━━━━━━━━━━━━━━━━━━━━━━━━━━━━\u001b[0m \u001b[32m488.2/488.2 kB\u001b[0m \u001b[31m29.1 MB/s\u001b[0m eta \u001b[36m0:00:00\u001b[0m\n\u001b[?25hCollecting tqdm==4.65.0\n  Downloading tqdm-4.65.0-py3-none-any.whl (77 kB)\n\u001b[2K     \u001b[90m━━━━━━━━━━━━━━━━━━━━━━━━━━━━━━━━━━━━━━━━\u001b[0m \u001b[32m77.1/77.1 kB\u001b[0m \u001b[31m8.8 MB/s\u001b[0m eta \u001b[36m0:00:00\u001b[0m\n\u001b[?25hCollecting torch==2.2.1\n  Downloading torch-2.2.1-cp310-cp310-manylinux1_x86_64.whl (755.5 MB)\n\u001b[2K     \u001b[90m━━━━━━━━━━━━━━━━━━━━━━━━━━━━━━━━━━━━━━━\u001b[0m \u001b[32m755.5/755.5 MB\u001b[0m \u001b[31m1.9 MB/s\u001b[0m eta \u001b[36m0:00:00\u001b[0m00:01\u001b[0m00:01\u001b[0m\n\u001b[?25hCollecting vllm==0.4.1\n  Downloading vllm-0.4.1-cp310-cp310-manylinux1_x86_64.whl (84.0 MB)\n\u001b[2K     \u001b[90m━━━━━━━━━━━━━━━━━━━━━━━━━━━━━━━━━━━━━━━━\u001b[0m \u001b[32m84.0/84.0 MB\u001b[0m \u001b[31m17.4 MB/s\u001b[0m eta \u001b[36m0:00:00\u001b[0m00:01\u001b[0m00:01\u001b[0m\n\u001b[?25hRequirement already satisfied: huggingface-hub>=0.19.4 in /anaconda/envs/azureml_py38/lib/python3.10/site-packages (from datasets==2.18.0->-r requirements.txt (line 1)) (0.30.2)\nRequirement already satisfied: dill<0.3.9,>=0.3.0 in /anaconda/envs/azureml_py38/lib/python3.10/site-packages (from datasets==2.18.0->-r requirements.txt (line 1)) (0.3.7)\nRequirement already satisfied: aiohttp in /anaconda/envs/azureml_py38/lib/python3.10/site-packages (from datasets==2.18.0->-r requirements.txt (line 1)) (3.11.16)\nRequirement already satisfied: pandas in /anaconda/envs/azureml_py38/lib/python3.10/site-packages (from datasets==2.18.0->-r requirements.txt (line 1)) (1.5.3)\nRequirement already satisfied: pyarrow>=12.0.0 in /anaconda/envs/azureml_py38/lib/python3.10/site-packages (from datasets==2.18.0->-r requirements.txt (line 1)) (14.0.2)\nRequirement already satisfied: pyyaml>=5.1 in /anaconda/envs/azureml_py38/lib/python3.10/site-packages (from datasets==2.18.0->-r requirements.txt (line 1)) (6.0.2)\nRequirement already satisfied: numpy>=1.17 in /anaconda/envs/azureml_py38/lib/python3.10/site-packages (from datasets==2.18.0->-r requirements.txt (line 1)) (1.23.5)\nRequirement already satisfied: multiprocess in /anaconda/envs/azureml_py38/lib/python3.10/site-packages (from datasets==2.18.0->-r requirements.txt (line 1)) (0.70.15)\nRequirement already satisfied: requests>=2.19.0 in /anaconda/envs/azureml_py38/lib/python3.10/site-packages (from datasets==2.18.0->-r requirements.txt (line 1)) (2.32.3)\nRequirement already satisfied: filelock in /anaconda/envs/azureml_py38/lib/python3.10/site-packages (from datasets==2.18.0->-r requirements.txt (line 1)) (3.18.0)\nRequirement already satisfied: fsspec[http]<=2024.2.0,>=2023.1.0 in /anaconda/envs/azureml_py38/lib/python3.10/site-packages (from datasets==2.18.0->-r requirements.txt (line 1)) (2023.10.0)\nRequirement already satisfied: xxhash in /anaconda/envs/azureml_py38/lib/python3.10/site-packages (from datasets==2.18.0->-r requirements.txt (line 1)) (3.5.0)\nRequirement already satisfied: pyarrow-hotfix in /anaconda/envs/azureml_py38/lib/python3.10/site-packages (from datasets==2.18.0->-r requirements.txt (line 1)) (0.6)\nRequirement already satisfied: packaging in /anaconda/envs/azureml_py38/lib/python3.10/site-packages (from datasets==2.18.0->-r requirements.txt (line 1)) (25.0)\nCollecting nvidia-nccl-cu12==2.19.3\n  Downloading nvidia_nccl_cu12-2.19.3-py3-none-manylinux1_x86_64.whl (166.0 MB)\n\u001b[2K     \u001b[90m━━━━━━━━━━━━━━━━━━━━━━━━━━━━━━━━━━━━━━━\u001b[0m \u001b[32m166.0/166.0 MB\u001b[0m \u001b[31m8.6 MB/s\u001b[0m eta \u001b[36m0:00:00\u001b[0m00:01\u001b[0m00:01\u001b[0m\n\u001b[?25hCollecting nvidia-cusparse-cu12==12.1.0.106\n  Downloading nvidia_cusparse_cu12-12.1.0.106-py3-none-manylinux1_x86_64.whl (196.0 MB)\n\u001b[2K     \u001b[90m━━━━━━━━━━━━━━━━━━━━━━━━━━━━━━━━━━━━━━━\u001b[0m \u001b[32m196.0/196.0 MB\u001b[0m \u001b[31m7.4 MB/s\u001b[0m eta \u001b[36m0:00:00\u001b[0m00:01\u001b[0m00:01\u001b[0m\n\u001b[?25hCollecting nvidia-cublas-cu12==12.1.3.1\n  Downloading nvidia_cublas_cu12-12.1.3.1-py3-none-manylinux1_x86_64.whl (410.6 MB)\n\u001b[2K     \u001b[90m━━━━━━━━━━━━━━━━━━━━━━━━━━━━━━━━━━━━━━━\u001b[0m \u001b[32m410.6/410.6 MB\u001b[0m \u001b[31m3.5 MB/s\u001b[0m eta \u001b[36m0:00:00\u001b[0m00:01\u001b[0m00:01\u001b[0m\n\u001b[?25hCollecting nvidia-cuda-cupti-cu12==12.1.105\n  Downloading nvidia_cuda_cupti_cu12-12.1.105-py3-none-manylinux1_x86_64.whl (14.1 MB)\n\u001b[2K     \u001b[90m━━━━━━━━━━━━━━━━━━━━━━━━━━━━━━━━━━━━━━━━\u001b[0m \u001b[32m14.1/14.1 MB\u001b[0m \u001b[31m99.4 MB/s\u001b[0m eta \u001b[36m0:00:00\u001b[0m00:01\u001b[0m00:01\u001b[0m\n\u001b[?25hCollecting nvidia-cuda-runtime-cu12==12.1.105\n  Downloading nvidia_cuda_runtime_cu12-12.1.105-py3-none-manylinux1_x86_64.whl (823 kB)\n\u001b[2K     \u001b[90m━━━━━━━━━━━━━━━━━━━━━━━━━━━━━━━━━━━━━━\u001b[0m \u001b[32m823.6/823.6 kB\u001b[0m \u001b[31m53.5 MB/s\u001b[0m eta \u001b[36m0:00:00\u001b[0m\n\u001b[?25hCollecting nvidia-curand-cu12==10.3.2.106\n  Downloading nvidia_curand_cu12-10.3.2.106-py3-none-manylinux1_x86_64.whl (56.5 MB)\n\u001b[2K     \u001b[90m━━━━━━━━━━━━━━━━━━━━━━━━━━━━━━━━━━━━━━━━\u001b[0m \u001b[32m56.5/56.5 MB\u001b[0m \u001b[31m27.2 MB/s\u001b[0m eta \u001b[36m0:00:00\u001b[0m00:01\u001b[0m00:01\u001b[0m\n\u001b[?25hCollecting triton==2.2.0\n  Downloading triton-2.2.0-cp310-cp310-manylinux_2_17_x86_64.manylinux2014_x86_64.whl (167.9 MB)\n\u001b[2K     \u001b[90m━━━━━━━━━━━━━━━━━━━━━━━━━━━━━━━━━━━━━━━\u001b[0m \u001b[32m167.9/167.9 MB\u001b[0m \u001b[31m8.7 MB/s\u001b[0m eta \u001b[36m0:00:00\u001b[0m00:01\u001b[0m00:01\u001b[0m\n\u001b[?25hRequirement already satisfied: sympy in /anaconda/envs/azureml_py38/lib/python3.10/site-packages (from torch==2.2.1->-r requirements.txt (line 4)) (1.13.1)\nRequirement already satisfied: jinja2 in /anaconda/envs/azureml_py38/lib/python3.10/site-packages (from torch==2.2.1->-r requirements.txt (line 4)) (3.1.6)\nCollecting nvidia-nvtx-cu12==12.1.105\n  Downloading nvidia_nvtx_cu12-12.1.105-py3-none-manylinux1_x86_64.whl (99 kB)\n\u001b[2K     \u001b[90m━━━━━━━━━━━━━━━━━━━━━━━━━━━━━━━━━━━━━━━━\u001b[0m \u001b[32m99.1/99.1 kB\u001b[0m \u001b[31m10.8 MB/s\u001b[0m eta \u001b[36m0:00:00\u001b[0m\n\u001b[?25hRequirement already satisfied: networkx in /anaconda/envs/azureml_py38/lib/python3.10/site-packages (from torch==2.2.1->-r requirements.txt (line 4)) (3.4)\nCollecting nvidia-cuda-nvrtc-cu12==12.1.105\n  Downloading nvidia_cuda_nvrtc_cu12-12.1.105-py3-none-manylinux1_x86_64.whl (23.7 MB)\n\u001b[2K     \u001b[90m━━━━━━━━━━━━━━━━━━━━━━━━━━━━━━━━━━━━━━━━\u001b[0m \u001b[32m23.7/23.7 MB\u001b[0m \u001b[31m70.7 MB/s\u001b[0m eta \u001b[36m0:00:00\u001b[0m00:01\u001b[0m00:01\u001b[0m\n\u001b[?25hCollecting nvidia-cusolver-cu12==11.4.5.107\n  Downloading nvidia_cusolver_cu12-11.4.5.107-py3-none-manylinux1_x86_64.whl (124.2 MB)\n\u001b[2K     \u001b[90m━━━━━━━━━━━━━━━━━━━━━━━━━━━━━━━━━━━━━━\u001b[0m \u001b[32m124.2/124.2 MB\u001b[0m \u001b[31m11.8 MB/s\u001b[0m eta \u001b[36m0:00:00\u001b[0m00:01\u001b[0m00:01\u001b[0m\n\u001b[?25hCollecting nvidia-cufft-cu12==11.0.2.54\n  Downloading nvidia_cufft_cu12-11.0.2.54-py3-none-manylinux1_x86_64.whl (121.6 MB)\n\u001b[2K     \u001b[90m━━━━━━━━━━━━━━━━━━━━━━━━━━━━━━━━━━━━━━\u001b[0m \u001b[32m121.6/121.6 MB\u001b[0m \u001b[31m12.4 MB/s\u001b[0m eta \u001b[36m0:00:00\u001b[0m00:01\u001b[0m00:01\u001b[0m\n\u001b[?25hRequirement already satisfied: typing-extensions>=4.8.0 in /anaconda/envs/azureml_py38/lib/python3.10/site-packages (from torch==2.2.1->-r requirements.txt (line 4)) (4.13.2)\nCollecting nvidia-cudnn-cu12==8.9.2.26\n  Downloading nvidia_cudnn_cu12-8.9.2.26-py3-none-manylinux1_x86_64.whl (731.7 MB)\n\u001b[2K     \u001b[90m━━━━━━━━━━━━━━━━━━━━━━━━━━━━━━━━━━━━━━━\u001b[0m \u001b[32m731.7/731.7 MB\u001b[0m \u001b[31m2.0 MB/s\u001b[0m eta \u001b[36m0:00:00\u001b[0m00:01\u001b[0m00:01\u001b[0m\n\u001b[?25hRequirement already satisfied: uvicorn[standard] in /anaconda/envs/azureml_py38/lib/python3.10/site-packages (from vllm==0.4.1->-r requirements.txt (line 5)) (0.34.0)\nCollecting lm-format-enforcer==0.9.8\n  Downloading lm_format_enforcer-0.9.8-py3-none-any.whl (40 kB)\n\u001b[2K     \u001b[90m━━━━━━━━━━━━━━━━━━━━━━━━━━━━━━━━━━━━━━━━\u001b[0m \u001b[32m40.9/40.9 kB\u001b[0m \u001b[31m2.5 MB/s\u001b[0m eta \u001b[36m0:00:00\u001b[0m\n\u001b[?25hCollecting py-cpuinfo\n  Downloading py_cpuinfo-9.0.0-py3-none-any.whl (22 kB)\nRequirement already satisfied: prometheus-client>=0.18.0 in /anaconda/envs/azureml_py38/lib/python3.10/site-packages (from vllm==0.4.1->-r requirements.txt (line 5)) (0.21.1)\nCollecting xformers==0.0.25\n  Downloading xformers-0.0.25-cp310-cp310-manylinux2014_x86_64.whl (222.5 MB)\n\u001b[2K     \u001b[90m━━━━━━━━━━━━━━━━━━━━━━━━━━━━━━━━━━━━━━━\u001b[0m \u001b[32m222.5/222.5 MB\u001b[0m \u001b[31m4.3 MB/s\u001b[0m eta \u001b[36m0:00:00\u001b[0m00:01\u001b[0m00:01\u001b[0m\n\u001b[?25hCollecting tokenizers>=0.19.1\n  Downloading tokenizers-0.21.1-cp39-abi3-manylinux_2_17_x86_64.manylinux2014_x86_64.whl (3.0 MB)\n\u001b[2K     \u001b[90m━━━━━━━━━━━━━━━━━━━━━━━━━━━━━━━━━━━━━━━━\u001b[0m \u001b[32m3.0/3.0 MB\u001b[0m \u001b[31m89.8 MB/s\u001b[0m eta \u001b[36m0:00:00\u001b[0m:00:01\u001b[0m\n\u001b[?25hCollecting ninja\n  Downloading ninja-1.11.1.4-py3-none-manylinux_2_12_x86_64.manylinux2010_x86_64.whl (422 kB)\n\u001b[2K     \u001b[90m━━━━━━━━━━━━━━━━━━━━━━━━━━━━━━━━━━━━━━\u001b[0m \u001b[32m422.8/422.8 kB\u001b[0m \u001b[31m29.2 MB/s\u001b[0m eta \u001b[36m0:00:00\u001b[0m\n\u001b[?25hCollecting outlines==0.0.34\n  Downloading outlines-0.0.34-py3-none-any.whl (76 kB)\n\u001b[2K     \u001b[90m━━━━━━━━━━━━━━━━━━━━━━━━━━━━━━━━━━━━━━━━\u001b[0m \u001b[32m76.5/76.5 kB\u001b[0m \u001b[31m2.2 MB/s\u001b[0m eta \u001b[36m0:00:00\u001b[0m\n\u001b[?25hCollecting tiktoken==0.6.0\n  Downloading tiktoken-0.6.0-cp310-cp310-manylinux_2_17_x86_64.manylinux2014_x86_64.whl (1.8 MB)\n\u001b[2K     \u001b[90m━━━━━━━━━━━━━━━━━━━━━━━━━━━━━━━━━━━━━━━━\u001b[0m \u001b[32m1.8/1.8 MB\u001b[0m \u001b[31m67.6 MB/s\u001b[0m eta \u001b[36m0:00:00\u001b[0m\n\u001b[?25hRequirement already satisfied: ray>=2.9 in /anaconda/envs/azureml_py38/lib/python3.10/site-packages (from vllm==0.4.1->-r requirements.txt (line 5)) (2.31.0)\nRequirement already satisfied: fastapi in /anaconda/envs/azureml_py38/lib/python3.10/site-packages (from vllm==0.4.1->-r requirements.txt (line 5)) (0.115.12)\nCollecting cmake>=3.21\n  Downloading cmake-4.0.2-py3-none-manylinux_2_17_x86_64.manylinux2014_x86_64.whl (27.9 MB)\n\u001b[2K     \u001b[90m━━━━━━━━━━━━━━━━━━━━━━━━━━━━━━━━━━━━━━━━\u001b[0m \u001b[32m27.9/27.9 MB\u001b[0m \u001b[31m47.4 MB/s\u001b[0m eta \u001b[36m0:00:00\u001b[0m00:01\u001b[0m00:01\u001b[0m\n\u001b[?25hRequirement already satisfied: psutil in /anaconda/envs/azureml_py38/lib/python3.10/site-packages (from vllm==0.4.1->-r requirements.txt (line 5)) (5.2.2)\nRequirement already satisfied: sentencepiece in /anaconda/envs/azureml_py38/lib/python3.10/site-packages (from vllm==0.4.1->-r requirements.txt (line 5)) (0.2.0)\nRequirement already satisfied: nvidia-ml-py in /anaconda/envs/azureml_py38/lib/python3.10/site-packages (from vllm==0.4.1->-r requirements.txt (line 5)) (12.570.86)\nCollecting vllm-nccl-cu12<2.19,>=2.18\n  Downloading vllm_nccl_cu12-2.18.1.0.4.0.tar.gz (6.2 kB)\n  Preparing metadata (setup.py) ... \u001b[?25l-\b \bdone\n\u001b[?25hRequirement already satisfied: pydantic>=2.0 in /anaconda/envs/azureml_py38/lib/python3.10/site-packages (from vllm==0.4.1->-r requirements.txt (line 5)) (2.9.2)\nCollecting transformers>=4.40.0\n  Downloading transformers-4.51.3-py3-none-any.whl (10.4 MB)\n\u001b[2K     \u001b[90m━━━━━━━━━━━━━━━━━━━━━━━━━━━━━━━━━━━━━━━\u001b[0m \u001b[32m10.4/10.4 MB\u001b[0m \u001b[31m124.6 MB/s\u001b[0m eta \u001b[36m0:00:00\u001b[0m00:01\u001b[0m00:01\u001b[0m\n\u001b[?25hCollecting interegular>=0.3.2\n  Downloading interegular-0.3.3-py37-none-any.whl (23 kB)\nRequirement already satisfied: nvidia-nvjitlink-cu12 in /anaconda/envs/azureml_py38/lib/python3.10/site-packages (from nvidia-cusolver-cu12==11.4.5.107->torch==2.2.1->-r requirements.txt (line 4)) (12.4.127)\nRequirement already satisfied: joblib in /anaconda/envs/azureml_py38/lib/python3.10/site-packages (from outlines==0.0.34->vllm==0.4.1->-r requirements.txt (line 5)) (1.2.0)\nRequirement already satisfied: referencing in /anaconda/envs/azureml_py38/lib/python3.10/site-packages (from outlines==0.0.34->vllm==0.4.1->-r requirements.txt (line 5)) (0.36.2)\nRequirement already satisfied: scipy in /anaconda/envs/azureml_py38/lib/python3.10/site-packages (from outlines==0.0.34->vllm==0.4.1->-r requirements.txt (line 5)) (1.11.0)\nRequirement already satisfied: numba in /anaconda/envs/azureml_py38/lib/python3.10/site-packages (from outlines==0.0.34->vllm==0.4.1->-r requirements.txt (line 5)) (0.56.4)\nRequirement already satisfied: nest-asyncio in /anaconda/envs/azureml_py38/lib/python3.10/site-packages (from outlines==0.0.34->vllm==0.4.1->-r requirements.txt (line 5)) (1.6.0)\nRequirement already satisfied: jsonschema in /anaconda/envs/azureml_py38/lib/python3.10/site-packages (from outlines==0.0.34->vllm==0.4.1->-r requirements.txt (line 5)) (4.23.0)\nRequirement already satisfied: cloudpickle in /anaconda/envs/azureml_py38/lib/python3.10/site-packages (from outlines==0.0.34->vllm==0.4.1->-r requirements.txt (line 5)) (1.6.0)\nCollecting diskcache\n  Downloading diskcache-5.6.3-py3-none-any.whl (45 kB)\n\u001b[2K     \u001b[90m━━━━━━━━━━━━━━━━━━━━━━━━━━━━━━━━━━━━━━━━\u001b[0m \u001b[32m45.5/45.5 kB\u001b[0m \u001b[31m4.4 MB/s\u001b[0m eta \u001b[36m0:00:00\u001b[0m\n\u001b[?25hCollecting lark\n  Downloading lark-1.2.2-py3-none-any.whl (111 kB)\n\u001b[2K     \u001b[90m━━━━━━━━━━━━━━━━━━━━━━━━━━━━━━━━━━━━━━\u001b[0m \u001b[32m111.0/111.0 kB\u001b[0m \u001b[31m10.4 MB/s\u001b[0m eta \u001b[36m0:00:00\u001b[0m\n\u001b[?25hRequirement already satisfied: regex>=2022.1.18 in /anaconda/envs/azureml_py38/lib/python3.10/site-packages (from tiktoken==0.6.0->vllm==0.4.1->-r requirements.txt (line 5)) (2024.11.6)\nRequirement already satisfied: frozenlist>=1.1.1 in /anaconda/envs/azureml_py38/lib/python3.10/site-packages (from aiohttp->datasets==2.18.0->-r requirements.txt (line 1)) (1.5.0)\nRequirement already satisfied: attrs>=17.3.0 in /anaconda/envs/azureml_py38/lib/python3.10/site-packages (from aiohttp->datasets==2.18.0->-r requirements.txt (line 1)) (25.3.0)\nRequirement already satisfied: async-timeout<6.0,>=4.0 in /anaconda/envs/azureml_py38/lib/python3.10/site-packages (from aiohttp->datasets==2.18.0->-r requirements.txt (line 1)) (5.0.1)\nRequirement already satisfied: propcache>=0.2.0 in /anaconda/envs/azureml_py38/lib/python3.10/site-packages (from aiohttp->datasets==2.18.0->-r requirements.txt (line 1)) (0.3.1)\nRequirement already satisfied: multidict<7.0,>=4.5 in /anaconda/envs/azureml_py38/lib/python3.10/site-packages (from aiohttp->datasets==2.18.0->-r requirements.txt (line 1)) (6.4.3)\nRequirement already satisfied: yarl<2.0,>=1.17.0 in /anaconda/envs/azureml_py38/lib/python3.10/site-packages (from aiohttp->datasets==2.18.0->-r requirements.txt (line 1)) (1.19.0)\nRequirement already satisfied: aiohappyeyeballs>=2.3.0 in /anaconda/envs/azureml_py38/lib/python3.10/site-packages (from aiohttp->datasets==2.18.0->-r requirements.txt (line 1)) (2.6.1)\nRequirement already satisfied: aiosignal>=1.1.2 in /anaconda/envs/azureml_py38/lib/python3.10/site-packages (from aiohttp->datasets==2.18.0->-r requirements.txt (line 1)) (1.3.2)\nRequirement already satisfied: annotated-types>=0.6.0 in /anaconda/envs/azureml_py38/lib/python3.10/site-packages (from pydantic>=2.0->vllm==0.4.1->-r requirements.txt (line 5)) (0.7.0)\nRequirement already satisfied: pydantic-core==2.23.4 in /anaconda/envs/azureml_py38/lib/python3.10/site-packages (from pydantic>=2.0->vllm==0.4.1->-r requirements.txt (line 5)) (2.23.4)\nRequirement already satisfied: click>=7.0 in /anaconda/envs/azureml_py38/lib/python3.10/site-packages (from ray>=2.9->vllm==0.4.1->-r requirements.txt (line 5)) (8.1.8)\nRequirement already satisfied: msgpack<2.0.0,>=1.0.0 in /anaconda/envs/azureml_py38/lib/python3.10/site-packages (from ray>=2.9->vllm==0.4.1->-r requirements.txt (line 5)) (1.1.0)\nRequirement already satisfied: protobuf!=3.19.5,>=3.15.3 in /anaconda/envs/azureml_py38/lib/python3.10/site-packages (from ray>=2.9->vllm==0.4.1->-r requirements.txt (line 5)) (4.25.6)\nRequirement already satisfied: urllib3<3,>=1.21.1 in /anaconda/envs/azureml_py38/lib/python3.10/site-packages (from requests>=2.19.0->datasets==2.18.0->-r requirements.txt (line 1)) (1.26.20)\nRequirement already satisfied: charset-normalizer<4,>=2 in /anaconda/envs/azureml_py38/lib/python3.10/site-packages (from requests>=2.19.0->datasets==2.18.0->-r requirements.txt (line 1)) (3.4.1)\nRequirement already satisfied: idna<4,>=2.5 in /anaconda/envs/azureml_py38/lib/python3.10/site-packages (from requests>=2.19.0->datasets==2.18.0->-r requirements.txt (line 1)) (3.10)\nRequirement already satisfied: certifi>=2017.4.17 in /anaconda/envs/azureml_py38/lib/python3.10/site-packages (from requests>=2.19.0->datasets==2.18.0->-r requirements.txt (line 1)) (2025.1.31)\nRequirement already satisfied: safetensors>=0.4.3 in /anaconda/envs/azureml_py38/lib/python3.10/site-packages (from transformers>=4.40.0->vllm==0.4.1->-r requirements.txt (line 5)) (0.5.3)\nRequirement already satisfied: starlette<0.47.0,>=0.40.0 in /anaconda/envs/azureml_py38/lib/python3.10/site-packages (from fastapi->vllm==0.4.1->-r requirements.txt (line 5)) (0.46.1)\nRequirement already satisfied: MarkupSafe>=2.0 in /anaconda/envs/azureml_py38/lib/python3.10/site-packages (from jinja2->torch==2.2.1->-r requirements.txt (line 4)) (2.0.1)\nRequirement already satisfied: python-dateutil>=2.8.1 in /anaconda/envs/azureml_py38/lib/python3.10/site-packages (from pandas->datasets==2.18.0->-r requirements.txt (line 1)) (2.9.0.post0)\nRequirement already satisfied: pytz>=2020.1 in /anaconda/envs/azureml_py38/lib/python3.10/site-packages (from pandas->datasets==2.18.0->-r requirements.txt (line 1)) (2022.5)\nRequirement already satisfied: mpmath<1.4,>=1.1.0 in /anaconda/envs/azureml_py38/lib/python3.10/site-packages (from sympy->torch==2.2.1->-r requirements.txt (line 4)) (1.3.0)\nRequirement already satisfied: h11>=0.8 in /anaconda/envs/azureml_py38/lib/python3.10/site-packages (from uvicorn[standard]->vllm==0.4.1->-r requirements.txt (line 5)) (0.14.0)\nRequirement already satisfied: python-dotenv>=0.13 in /anaconda/envs/azureml_py38/lib/python3.10/site-packages (from uvicorn[standard]->vllm==0.4.1->-r requirements.txt (line 5)) (1.1.0)\nCollecting watchfiles>=0.13\n  Downloading watchfiles-1.0.5-cp310-cp310-manylinux_2_17_x86_64.manylinux2014_x86_64.whl (454 kB)\n\u001b[2K     \u001b[90m━━━━━━━━━━━━━━━━━━━━━━━━━━━━━━━━━━━━━━\u001b[0m \u001b[32m454.9/454.9 kB\u001b[0m \u001b[31m36.0 MB/s\u001b[0m eta \u001b[36m0:00:00\u001b[0m\n\u001b[?25hCollecting httptools>=0.6.3\n  Downloading httptools-0.6.4-cp310-cp310-manylinux_2_5_x86_64.manylinux1_x86_64.manylinux_2_17_x86_64.manylinux2014_x86_64.whl (442 kB)\n\u001b[2K     \u001b[90m━━━━━━━━━━━━━━━━━━━━━━━━━━━━━━━━━━━━━━\u001b[0m \u001b[32m442.1/442.1 kB\u001b[0m \u001b[31m40.5 MB/s\u001b[0m eta \u001b[36m0:00:00\u001b[0m\n\u001b[?25hCollecting uvloop!=0.15.0,!=0.15.1,>=0.14.0\n  Downloading uvloop-0.21.0-cp310-cp310-manylinux_2_17_x86_64.manylinux2014_x86_64.whl (3.8 MB)\n\u001b[2K     \u001b[90m━━━━━━━━━━━━━━━━━━━━━━━━━━━━━━━━━━━━━━━━\u001b[0m \u001b[32m3.8/3.8 MB\u001b[0m \u001b[31m51.5 MB/s\u001b[0m eta \u001b[36m0:00:00\u001b[0m00:01\u001b[0m:00:01\u001b[0m\n\u001b[?25hRequirement already satisfied: websockets>=10.4 in /anaconda/envs/azureml_py38/lib/python3.10/site-packages (from uvicorn[standard]->vllm==0.4.1->-r requirements.txt (line 5)) (15.0.1)\nRequirement already satisfied: six>=1.5 in /anaconda/envs/azureml_py38/lib/python3.10/site-packages (from python-dateutil>=2.8.1->pandas->datasets==2.18.0->-r requirements.txt (line 1)) (1.17.0)\nRequirement already satisfied: anyio<5,>=3.6.2 in /anaconda/envs/azureml_py38/lib/python3.10/site-packages (from starlette<0.47.0,>=0.40.0->fastapi->vllm==0.4.1->-r requirements.txt (line 5)) (4.9.0)\nRequirement already satisfied: rpds-py>=0.7.1 in /anaconda/envs/azureml_py38/lib/python3.10/site-packages (from jsonschema->outlines==0.0.34->vllm==0.4.1->-r requirements.txt (line 5)) (0.22.3)\nRequirement already satisfied: jsonschema-specifications>=2023.03.6 in /anaconda/envs/azureml_py38/lib/python3.10/site-packages (from jsonschema->outlines==0.0.34->vllm==0.4.1->-r requirements.txt (line 5)) (2024.10.1)\nRequirement already satisfied: setuptools in /anaconda/envs/azureml_py38/lib/python3.10/site-packages (from numba->outlines==0.0.34->vllm==0.4.1->-r requirements.txt (line 5)) (75.8.0)\nRequirement already satisfied: llvmlite<0.40,>=0.39.0dev0 in /anaconda/envs/azureml_py38/lib/python3.10/site-packages (from numba->outlines==0.0.34->vllm==0.4.1->-r requirements.txt (line 5)) (0.39.1)\nRequirement already satisfied: exceptiongroup>=1.0.2 in /anaconda/envs/azureml_py38/lib/python3.10/site-packages (from anyio<5,>=3.6.2->starlette<0.47.0,>=0.40.0->fastapi->vllm==0.4.1->-r requirements.txt (line 5)) (1.2.2)\nRequirement already satisfied: sniffio>=1.1 in /anaconda/envs/azureml_py38/lib/python3.10/site-packages (from anyio<5,>=3.6.2->starlette<0.47.0,>=0.40.0->fastapi->vllm==0.4.1->-r requirements.txt (line 5)) (1.3.1)\nBuilding wheels for collected packages: vllm-nccl-cu12\n  Building wheel for vllm-nccl-cu12 (setup.py) ... \u001b[?25l-\b \b\\\b \b|\b \b/\b \b-\b \bdone\n\u001b[?25h  Created wheel for vllm-nccl-cu12: filename=vllm_nccl_cu12-2.18.1.0.4.0-py3-none-any.whl size=5418 sha256=9119163484fa82f226e58d8a8ec862bbbde5266739e84ffa469fe8b869642dcf\n  Stored in directory: /home/azureuser/.cache/pip/wheels/bf/d2/59/a9d022adc261b1fa5d05626d611a7378134fbba076dce1dc43\nSuccessfully built vllm-nccl-cu12\nInstalling collected packages: vllm-nccl-cu12, py-cpuinfo, uvloop, triton, tree-sitter, tqdm, nvidia-nvtx-cu12, nvidia-nccl-cu12, nvidia-cusparse-cu12, nvidia-curand-cu12, nvidia-cufft-cu12, nvidia-cuda-runtime-cu12, nvidia-cuda-nvrtc-cu12, nvidia-cuda-cupti-cu12, nvidia-cublas-cu12, ninja, lark, interegular, httptools, diskcache, cmake, watchfiles, tiktoken, nvidia-cusolver-cu12, nvidia-cudnn-cu12, torch, tokenizers, lm-format-enforcer, xformers, transformers, outlines, datasets, vllm\n  Attempting uninstall: triton\n    Found existing installation: triton 3.2.0\n    Uninstalling triton-3.2.0:\n      Successfully uninstalled triton-3.2.0\n  Attempting uninstall: tqdm\n    Found existing installation: tqdm 4.67.1\n    Uninstalling tqdm-4.67.1:\n      Successfully uninstalled tqdm-4.67.1\n  Attempting uninstall: nvidia-nvtx-cu12\n    Found existing installation: nvidia-nvtx-cu12 12.4.127\n    Uninstalling nvidia-nvtx-cu12-12.4.127:\n      Successfully uninstalled nvidia-nvtx-cu12-12.4.127\n  Attempting uninstall: nvidia-nccl-cu12\n    Found existing installation: nvidia-nccl-cu12 2.21.5\n    Uninstalling nvidia-nccl-cu12-2.21.5:\n      Successfully uninstalled nvidia-nccl-cu12-2.21.5\n  Attempting uninstall: nvidia-cusparse-cu12\n    Found existing installation: nvidia-cusparse-cu12 12.3.1.170\n    Uninstalling nvidia-cusparse-cu12-12.3.1.170:\n      Successfully uninstalled nvidia-cusparse-cu12-12.3.1.170\n  Attempting uninstall: nvidia-curand-cu12\n    Found existing installation: nvidia-curand-cu12 10.3.5.147\n    Uninstalling nvidia-curand-cu12-10.3.5.147:\n      Successfully uninstalled nvidia-curand-cu12-10.3.5.147\n  Attempting uninstall: nvidia-cufft-cu12\n    Found existing installation: nvidia-cufft-cu12 11.2.1.3\n    Uninstalling nvidia-cufft-cu12-11.2.1.3:\n      Successfully uninstalled nvidia-cufft-cu12-11.2.1.3\n  Attempting uninstall: nvidia-cuda-runtime-cu12\n    Found existing installation: nvidia-cuda-runtime-cu12 12.4.127\n    Uninstalling nvidia-cuda-runtime-cu12-12.4.127:\n      Successfully uninstalled nvidia-cuda-runtime-cu12-12.4.127\n  Attempting uninstall: nvidia-cuda-nvrtc-cu12\n    Found existing installation: nvidia-cuda-nvrtc-cu12 12.4.127\n    Uninstalling nvidia-cuda-nvrtc-cu12-12.4.127:\n      Successfully uninstalled nvidia-cuda-nvrtc-cu12-12.4.127\n  Attempting uninstall: nvidia-cuda-cupti-cu12\n    Found existing installation: nvidia-cuda-cupti-cu12 12.4.127\n    Uninstalling nvidia-cuda-cupti-cu12-12.4.127:\n      Successfully uninstalled nvidia-cuda-cupti-cu12-12.4.127\n  Attempting uninstall: nvidia-cublas-cu12\n    Found existing installation: nvidia-cublas-cu12 12.4.5.8\n    Uninstalling nvidia-cublas-cu12-12.4.5.8:\n      Successfully uninstalled nvidia-cublas-cu12-12.4.5.8\n  Attempting uninstall: nvidia-cusolver-cu12\n    Found existing installation: nvidia-cusolver-cu12 11.6.1.9\n    Uninstalling nvidia-cusolver-cu12-11.6.1.9:\n      Successfully uninstalled nvidia-cusolver-cu12-11.6.1.9\n  Attempting uninstall: nvidia-cudnn-cu12\n    Found existing installation: nvidia-cudnn-cu12 9.1.0.70\n    Uninstalling nvidia-cudnn-cu12-9.1.0.70:\n      Successfully uninstalled nvidia-cudnn-cu12-9.1.0.70\n  Attempting uninstall: torch\n    Found existing installation: torch 2.6.0\n    Uninstalling torch-2.6.0:\n      Successfully uninstalled torch-2.6.0\n  Attempting uninstall: tokenizers\n    Found existing installation: tokenizers 0.13.3\n    Uninstalling tokenizers-0.13.3:\n      Successfully uninstalled tokenizers-0.13.3\n  Attempting uninstall: transformers\n    Found existing installation: transformers 4.30.1\n    Uninstalling transformers-4.30.1:\n      Successfully uninstalled transformers-4.30.1\n  Attempting uninstall: datasets\n    Found existing installation: datasets 2.16.1\n    Uninstalling datasets-2.16.1:\n      Successfully uninstalled datasets-2.16.1\n\u001b[31mERROR: pip's dependency resolver does not currently take into account all the packages that are installed. This behaviour is the source of the following dependency conflicts.\ntorchvision 0.21.0 requires torch==2.6.0, but you have torch 2.2.1 which is incompatible.\ntorchaudio 2.6.0 requires torch==2.6.0, but you have torch 2.2.1 which is incompatible.\nazureml-automl-dnn-nlp 1.60.0 requires datasets<=2.16.1,>=1.7.0, but you have datasets 2.18.0 which is incompatible.\nazureml-automl-dnn-nlp 1.60.0 requires torch==2.2.2, but you have torch 2.2.1 which is incompatible.\nazureml-automl-dnn-nlp 1.60.0 requires transformers[sentencepiece,torch]<=4.48.0, but you have transformers 4.51.3 which is incompatible.\u001b[0m\u001b[31m\n\u001b[0mSuccessfully installed cmake-4.0.2 datasets-2.18.0 diskcache-5.6.3 httptools-0.6.4 interegular-0.3.3 lark-1.2.2 lm-format-enforcer-0.9.8 ninja-1.11.1.4 nvidia-cublas-cu12-12.1.3.1 nvidia-cuda-cupti-cu12-12.1.105 nvidia-cuda-nvrtc-cu12-12.1.105 nvidia-cuda-runtime-cu12-12.1.105 nvidia-cudnn-cu12-8.9.2.26 nvidia-cufft-cu12-11.0.2.54 nvidia-curand-cu12-10.3.2.106 nvidia-cusolver-cu12-11.4.5.107 nvidia-cusparse-cu12-12.1.0.106 nvidia-nccl-cu12-2.19.3 nvidia-nvtx-cu12-12.1.105 outlines-0.0.34 py-cpuinfo-9.0.0 tiktoken-0.6.0 tokenizers-0.21.1 torch-2.2.1 tqdm-4.65.0 transformers-4.51.3 tree-sitter-0.20.4 triton-2.2.0 uvloop-0.21.0 vllm-0.4.1 vllm-nccl-cu12-2.18.1.0.4.0 watchfiles-1.0.5 xformers-0.0.25\n"
        }
      ],
      "execution_count": 5,
      "metadata": {
        "colab": {
          "base_uri": "https://localhost:8080/"
        },
        "id": "jnfm7WE2EIsr",
        "outputId": "98cba5e5-d90d-4838-eecd-6d2817c2928e"
      },
      "id": "jnfm7WE2EIsr"
    },
    {
      "cell_type": "code",
      "source": [
        "!pip install boto3"
      ],
      "outputs": [
        {
          "output_type": "stream",
          "name": "stdout",
          "text": "Requirement already satisfied: boto3 in /anaconda/envs/azureml_py38/lib/python3.10/site-packages (1.20.19)\r\nRequirement already satisfied: botocore<1.24.0,>=1.23.19 in /anaconda/envs/azureml_py38/lib/python3.10/site-packages (from boto3) (1.23.19)\r\nRequirement already satisfied: s3transfer<0.6.0,>=0.5.0 in /anaconda/envs/azureml_py38/lib/python3.10/site-packages (from boto3) (0.5.2)\r\nRequirement already satisfied: jmespath<1.0.0,>=0.7.1 in /anaconda/envs/azureml_py38/lib/python3.10/site-packages (from boto3) (0.10.0)\r\nRequirement already satisfied: python-dateutil<3.0.0,>=2.1 in /anaconda/envs/azureml_py38/lib/python3.10/site-packages (from botocore<1.24.0,>=1.23.19->boto3) (2.9.0.post0)\r\nRequirement already satisfied: urllib3<1.27,>=1.25.4 in /anaconda/envs/azureml_py38/lib/python3.10/site-packages (from botocore<1.24.0,>=1.23.19->boto3) (1.26.20)\r\nRequirement already satisfied: six>=1.5 in /anaconda/envs/azureml_py38/lib/python3.10/site-packages (from python-dateutil<3.0.0,>=2.1->botocore<1.24.0,>=1.23.19->boto3) (1.17.0)\r\n"
        }
      ],
      "execution_count": 5,
      "metadata": {
        "colab": {
          "base_uri": "https://localhost:8080/"
        },
        "id": "OoIHaqHaJnOl",
        "outputId": "7821a936-04ea-428c-d263-6f93de0cde2e"
      },
      "id": "OoIHaqHaJnOl"
    },
    {
      "cell_type": "code",
      "source": [],
      "outputs": [],
      "execution_count": null,
      "metadata": {},
      "id": "0747cf44-3f68-4072-b471-163c1db9786f"
    },
    {
      "cell_type": "code",
      "source": [
        "from tree_sitter import Language\n",
        "\n",
        "Language.build_library(\n",
        "    'build/my-languages.so',               # output path\n",
        "    ['tree-sitter-java']                   # list of language repos\n",
        ")"
      ],
      "outputs": [
        {
          "output_type": "execute_result",
          "execution_count": 6,
          "data": {
            "text/plain": "True"
          },
          "metadata": {}
        }
      ],
      "execution_count": 6,
      "metadata": {
        "gather": {
          "logged": 1747080268765
        }
      },
      "id": "4e9429e1-36f2-4255-957c-fdac7c115a22"
    },
    {
      "cell_type": "code",
      "source": [
        "from tree_sitter import Language, Parser\n",
        "import datasets\n",
        "import os\n",
        "import signal\n",
        "from multiprocessing import Pool\n",
        "import boto3\n",
        "import smart_open\n",
        "from botocore import UNSIGNED\n",
        "from botocore.config import Config\n",
        "\n",
        "# PY_LANGUAGE = Language(tree_sitter_python.language())\n",
        "\n",
        "# parser = Parser(PY_LANGUAGE)\n",
        "\n",
        "# Load Java language for Tree-sitter\n",
        "# JAVA_LANGUAGE = Language(tree_sitter_java.language())\n",
        "from tree_sitter import Language, Parser\n",
        "\n",
        "JAVA_LANGUAGE = Language('build/my-languages.so', 'java')\n",
        "def make_parser():\n",
        "    parser = Parser(JAVA_LANGUAGE)\n",
        "    return parser\n",
        "\n",
        "# S3 access setup\n",
        "s3 = boto3.client(\"s3\", config=Config(signature_version=UNSIGNED))\n",
        "def download_contents(blob_id, src_encoding):\n",
        "    s3_url = f\"s3://softwareheritage/content/{blob_id}\"\n",
        "    with smart_open.open(s3_url, \"rb\", compression=\".gz\", transport_params={\"client\": s3}) as fin:\n",
        "        content = fin.read().decode(src_encoding)\n",
        "    return content\n",
        "\n",
        "# Tree-sitter Java method query\n",
        "JAVA_METHOD_QUERY = JAVA_LANGUAGE.query(\"\"\"\n",
        "(\n",
        " (method_declaration\n",
        "    name: (identifier) @method.name\n",
        " ) @method.decl\n",
        ")\n",
        "\"\"\")\n",
        "\n",
        "# Helper to extract method declarations from parse tree\n",
        "def node_to_string(src, node):\n",
        "    return src[node.start_byte:node.end_byte].decode(\"utf-8\")\n",
        "\n",
        "def get_java_methods(src, tree):\n",
        "    captures = JAVA_METHOD_QUERY.captures(tree.root_node)\n",
        "    res = []\n",
        "    for node, ty in captures:\n",
        "        if ty == \"method.decl\":\n",
        "            method_code = node_to_string(src, node)\n",
        "            res.append(method_code)\n",
        "    return res\n",
        "\n",
        "def parse_ex(parser, ex):\n",
        "    ex = download_contents(ex[\"blob_id\"], ex[\"src_encoding\"])\n",
        "    try:\n",
        "        buf = bytes(ex, \"utf8\")\n",
        "        tree = parser.parse(buf)\n",
        "        return get_java_methods(buf, tree)\n",
        "    except:\n",
        "        return []\n",
        "\n",
        "PARSERS = None\n",
        "\n",
        "def process_chunk(idx_and_chunk):\n",
        "    assert PARSERS is not None\n",
        "    idx, chunk = idx_and_chunk\n",
        "    parser = PARSERS[idx]\n",
        "    chunk_new_methods = set()\n",
        "    for ex in chunk:\n",
        "        chunk_new_methods.update(parse_ex(parser, ex))\n",
        "    return chunk_new_methods\n",
        "\n",
        "\n",
        "ds = datasets.load_dataset(\n",
        "\"bigcode/the-stack-v2-dedup\",\n",
        "\"Java\",\n",
        "split=\"train\",\n",
        "streaming=False\n",
        ")\n"
      ],
      "outputs": [],
      "execution_count": null,
      "metadata": {},
      "id": "96ae19d4-4961-486a-80f4-5c58005ffedc"
    },
    {
      "cell_type": "code",
      "source": [
        "methods = set()\n",
        "PARSERS = [make_parser() for _ in range(args.num_workers)]\n",
        "total_len = len(ds)\n",
        "CHUNK_SIZE = 1000 * args.num_workers\n",
        "\n",
        "print(f\"Total length: {total_len}\")\n",
        "print(f\"Chunk size: {CHUNK_SIZE}\")\n",
        "\n",
        "chunk = []\n",
        "p = Pool(args.num_workers)\n",
        "for i, ex in enumerate(ds):\n",
        "    if i % (total_len // 100) == 0:\n",
        "        print(f\"{i}/{total_len}\")\n",
        "    try:\n",
        "        chunk.append(ex)\n",
        "        if len(chunk) == CHUNK_SIZE or i == total_len - 1:\n",
        "            print(f\"Processing chunk {i // CHUNK_SIZE}\")\n",
        "            subchunk_size = len(chunk) // args.num_workers\n",
        "            subchunks = [chunk[i:i + subchunk_size] for i in range(0, len(chunk), subchunk_size)]\n",
        "            new_methods_iter = p.imap(process_chunk, [(i, subchunk) for i, subchunk in enumerate(subchunks)])\n",
        "            print(\"Getting new methods\")\n",
        "            len_before = len(methods)\n",
        "            while True:\n",
        "                try:\n",
        "                    def timeout_handler(_, __):\n",
        "                        raise KeyboardInterrupt\n",
        "                    signal.signal(signal.SIGALRM, timeout_handler)\n",
        "                    signal.alarm(60)\n",
        "                    methods.update(next(new_methods_iter))\n",
        "                    signal.alarm(0)\n",
        "                except KeyboardInterrupt:\n",
        "                    signal.alarm(0)\n",
        "                    print(\"Keyboard interrupt. Terminating pool\")\n",
        "                    p.terminate()\n",
        "                    p = Pool(args.num_workers)\n",
        "                    break\n",
        "                except StopIteration:\n",
        "                    break\n",
        "                except Exception as e:\n",
        "                    print(e)\n",
        "\n",
        "            signal.alarm(0)\n",
        "            PARSERS = [make_parser() for _ in range(args.num_workers)]\n",
        "            print(f\"Done processing chunk {i // CHUNK_SIZE}. Got {len(methods) - len_before} new methods\")\n",
        "            chunk = []\n",
        "    except Exception as e:\n",
        "        print(e)\n",
        "        chunk = []\n",
        "\n",
        "    if i == total_len - 1:\n",
        "        break\n",
        "\n",
        "p.close()\n",
        "\n",
        "new_ds_dict = {\n",
        "    \"content\": list(methods),\n",
        "    \"id\": list(range(len(methods)))\n",
        "}\n",
        "\n",
        "new_ds = datasets.Dataset.from_dict(new_ds_dict)\n",
        "# new_ds.push_to_hub(args.push, private=True)\n"
      ],
      "outputs": [],
      "execution_count": null,
      "metadata": {},
      "id": "de06e3b1-fdf3-4a68-a7ea-ddd5e1518724"
    },
    {
      "cell_type": "code",
      "source": [],
      "outputs": [],
      "execution_count": null,
      "metadata": {},
      "id": "a8b559b4-506c-465a-aea3-aacab22f320a"
    },
    {
      "cell_type": "code",
      "source": [
        "from tree_sitter import Language, Parser\n",
        "import datasets\n",
        "import os\n",
        "import signal\n",
        "from multiprocessing import Pool\n",
        "import boto3\n",
        "import smart_open\n",
        "from botocore import UNSIGNED\n",
        "from botocore.config import Config\n",
        "\n",
        "# Load Java language for Tree-sitter\n",
        "JAVA_LANGUAGE = Language('build/my-languages.so', 'java')\n",
        "\n",
        "def make_parser():\n",
        "    parser = Parser()\n",
        "    parser.set_language(JAVA_LANGUAGE)\n",
        "    return parser\n",
        "\n",
        "# S3 access setup\n",
        "s3 = boto3.client(\"s3\", config=Config(signature_version=UNSIGNED))\n",
        "def download_contents(blob_id, src_encoding):\n",
        "    s3_url = f\"s3://softwareheritage/content/{blob_id}\"\n",
        "    with smart_open.open(s3_url, \"rb\", compression=\".gz\", transport_params={\"client\": s3}) as fin:\n",
        "        content = fin.read().decode(src_encoding)\n",
        "    return content\n",
        "\n",
        "# Tree-sitter Java method query\n",
        "JAVA_METHOD_QUERY = JAVA_LANGUAGE.query(\"\"\"\n",
        "(\n",
        " (method_declaration\n",
        "    name: (identifier) @method.name\n",
        " ) @method.decl\n",
        ")\n",
        "\"\"\")\n",
        "\n",
        "# Helper to extract method declarations from parse tree\n",
        "def node_to_string(src, node):\n",
        "    return src[node.start_byte:node.end_byte].decode(\"utf-8\")\n",
        "\n",
        "def get_java_methods(src, tree):\n",
        "    captures = JAVA_METHOD_QUERY.captures(tree.root_node)\n",
        "    res = []\n",
        "    for node, ty in captures:\n",
        "        if ty == \"method.decl\":\n",
        "            method_code = node_to_string(src, node)\n",
        "            res.append(method_code)\n",
        "    return res\n",
        "\n",
        "def parse_ex(parser, ex):\n",
        "    ex = download_contents(ex[\"blob_id\"], ex[\"src_encoding\"])\n",
        "    try:\n",
        "        buf = bytes(ex, \"utf8\")\n",
        "        tree = parser.parse(buf)\n",
        "        return get_java_methods(buf, tree)\n",
        "    except:\n",
        "        return []\n",
        "\n",
        "PARSERS = None\n",
        "\n",
        "def process_chunk(idx_and_chunk):\n",
        "    assert PARSERS is not None\n",
        "    idx, chunk = idx_and_chunk\n",
        "    parser = PARSERS[idx]\n",
        "    chunk_new_methods = set()\n",
        "    for ex in chunk:\n",
        "        chunk_new_methods.update(parse_ex(parser, ex))\n",
        "    return chunk_new_methods"
      ],
      "outputs": [
        {
          "output_type": "stream",
          "name": "stderr",
          "text": "/anaconda/envs/azureml_py38/lib/python3.10/site-packages/tqdm/auto.py:21: TqdmWarning: IProgress not found. Please update jupyter and ipywidgets. See https://ipywidgets.readthedocs.io/en/stable/user_install.html\n  from .autonotebook import tqdm as notebook_tqdm\n"
        }
      ],
      "execution_count": 7,
      "metadata": {
        "gather": {
          "logged": 1747080529885
        }
      },
      "id": "0a2e7973-ce97-42ff-ac19-7dff3d6ad679"
    },
    {
      "cell_type": "code",
      "source": [
        "def main(args):\n",
        "    global PARSERS\n",
        "    ds = datasets.load_dataset(\n",
        "        args.dataset,\n",
        "        data_dir=args.data_dir,\n",
        "        split=\"train\",\n",
        "    )\n",
        "    methods = set()\n",
        "    PARSERS = [make_parser() for _ in range(args.num_workers)]\n",
        "    total_len = len(ds)\n",
        "    CHUNK_SIZE = 1000 * args.num_workers\n",
        "\n",
        "    print(f\"Total length: {total_len}\")\n",
        "    print(f\"Chunk size: {CHUNK_SIZE}\")\n",
        "\n",
        "    chunk = []\n",
        "    p = Pool(args.num_workers)\n",
        "    for i, ex in enumerate(ds):\n",
        "        if i % (total_len // 100) == 0:\n",
        "            print(f\"{i}/{total_len}\")\n",
        "        try:\n",
        "            chunk.append(ex)\n",
        "            if len(chunk) == CHUNK_SIZE or i == total_len - 1:\n",
        "                print(f\"Processing chunk {i // CHUNK_SIZE}\")\n",
        "                subchunk_size = len(chunk) // args.num_workers\n",
        "                subchunks = [chunk[i:i + subchunk_size] for i in range(0, len(chunk), subchunk_size)]\n",
        "                new_methods_iter = p.imap(process_chunk, [(i, subchunk) for i, subchunk in enumerate(subchunks)])\n",
        "                print(\"Getting new methods\")\n",
        "                len_before = len(methods)\n",
        "                while True:\n",
        "                    try:\n",
        "                        def timeout_handler(_, __):\n",
        "                            raise KeyboardInterrupt\n",
        "                        signal.signal(signal.SIGALRM, timeout_handler)\n",
        "                        signal.alarm(60)\n",
        "                        methods.update(next(new_methods_iter))\n",
        "                        signal.alarm(0)\n",
        "                    except KeyboardInterrupt:\n",
        "                        signal.alarm(0)\n",
        "                        print(\"Keyboard interrupt. Terminating pool\")\n",
        "                        p.terminate()\n",
        "                        p = Pool(args.num_workers)\n",
        "                        break\n",
        "                    except StopIteration:\n",
        "                        break\n",
        "                    except Exception as e:\n",
        "                        print(e)\n",
        "\n",
        "                signal.alarm(0)\n",
        "                PARSERS = [make_parser() for _ in range(args.num_workers)]\n",
        "                print(f\"Done processing chunk {i // CHUNK_SIZE}. Got {len(methods) - len_before} new methods\")\n",
        "                chunk = []\n",
        "        except Exception as e:\n",
        "            print(e)\n",
        "            chunk = []\n",
        "\n",
        "        if i == total_len - 1:\n",
        "            break\n",
        "\n",
        "    p.close()\n",
        "\n",
        "    new_ds_dict = {\n",
        "        \"content\": list(methods),\n",
        "        \"id\": list(range(len(methods)))\n",
        "    }\n",
        "\n",
        "    new_ds = datasets.Dataset.from_dict(new_ds_dict)\n",
        "    # new_ds.push_to_hub(args.push, private=True)"
      ],
      "outputs": [],
      "execution_count": 8,
      "metadata": {
        "gather": {
          "logged": 1747080535011
        }
      },
      "id": "74b3a61a-897b-474e-a068-4d746ce9f956"
    },
    {
      "cell_type": "code",
      "source": [
        "NUMWORKERS = os.cpu_count()"
      ],
      "outputs": [],
      "execution_count": 9,
      "metadata": {
        "gather": {
          "logged": 1747080564749
        }
      },
      "id": "89bab885-9f1f-4655-9e5f-3509018054da"
    },
    {
      "cell_type": "code",
      "source": [
        "ds = datasets.load_dataset(\"bigcode/the-stack-v2-dedup\", \"Java\", cache_dir=f\"../nk569/stack\", streaming=False, split=\"train\")\n",
        "\n"
      ],
      "outputs": [],
      "execution_count": 15,
      "metadata": {
        "gather": {
          "logged": 1747081344542
        }
      },
      "id": "9a387fba-021d-4c84-a940-e603fb5064ea"
    },
    {
      "cell_type": "code",
      "source": [
        "funs = set()\n",
        "PARSERS = [make_parser() for _ in range(NUMWORKERS)]\n",
        "total_len = len(ds)\n",
        "CHUNK_SIZE = 1000 * NUMWORKERS\n",
        "\n",
        "print(f\"Total length: {total_len}\")\n",
        "print(f\"Chunk size: {CHUNK_SIZE}\")\n",
        "\n",
        "chunk = []\n",
        "p = Pool(NUMWORKERS)"
      ],
      "outputs": [
        {
          "output_type": "stream",
          "name": "stdout",
          "text": "Total length: 124255350\nChunk size: 16000\n"
        },
        {
          "output_type": "stream",
          "name": "stderr",
          "text": "Process ForkPoolWorker-6:\nProcess ForkPoolWorker-12:\nProcess ForkPoolWorker-11:\nProcess ForkPoolWorker-8:\n"
        }
      ],
      "execution_count": 16,
      "metadata": {
        "gather": {
          "logged": 1747081684405
        }
      },
      "id": "015e3862-90a9-41bb-a630-469ba2753c12"
    },
    {
      "cell_type": "code",
      "source": [
        "for i, ex in enumerate(iter(ds)):\n",
        "    if i % (total_len // 100) == 0:\n",
        "        print(f\"{i}/{total_len}\")\n",
        "    try:\n",
        "        chunk.append(ex)\n",
        "        if len(chunk) == CHUNK_SIZE or i == total_len - 1:\n",
        "            print(f\"Processing chunk {i // CHUNK_SIZE}\")\n",
        "            # divide the chunk into NUM_WORKERS chunks\n",
        "            subchunk_size = len(chunk) // NUMWORKERS\n",
        "            subchunks = [chunk[i:i + subchunk_size]\n",
        "                         for i in range(0, len(chunk), subchunk_size)]\n",
        "            new_funs_iter = p.imap(\n",
        "                process_chunk, [(i, subchunk) for i, subchunk in enumerate(subchunks)])\n",
        "            print(\"Getting new functions\")\n",
        "            len_before = len(funs)\n",
        "            while True:\n",
        "                try:\n",
        "                    def timeout_handler(_, __):\n",
        "                        raise KeyboardInterrupt  # it's fineeeeeee\n",
        "                    signal.signal(signal.SIGALRM, timeout_handler)\n",
        "                    signal.alarm(60)\n",
        "                    funs.update(next(new_funs_iter))\n",
        "                    signal.alarm(0)\n",
        "                except KeyboardInterrupt:\n",
        "                    signal.alarm(0)\n",
        "                    print(\"Keyboard interrupt. Terminating pool\")\n",
        "                    p.terminate()\n",
        "                    p = Pool(NUMWORKERS)\n",
        "                    break\n",
        "                except StopIteration:\n",
        "                    break\n",
        "                except Exception as e:\n",
        "                    print(e)\n",
        "\n",
        "            signal.alarm(0)\n",
        "\n",
        "            PARSERS = [make_parser() for _ in range(NUMWORKERS)]\n",
        "\n",
        "            print(\n",
        "                f\"Done processing chunk {i // CHUNK_SIZE}. Got {len(funs) - len_before} new functions\")\n",
        "\n",
        "            chunk = []\n",
        "    except Exception as e:\n",
        "        print(e)\n",
        "        chunk = []\n",
        "\n",
        "    if i == total_len - 1:\n",
        "        break\n",
        "\n",
        "\n",
        "p.close()\n",
        "new_ds_dict = {\n",
        "    \"content\": list(funs),\n",
        "    \"id\": list(range(len(funs)))\n",
        "}\n",
        "\n",
        "new_ds = datasets.Dataset.from_dict(new_ds_dict)"
      ],
      "outputs": [
        {
          "output_type": "stream",
          "name": "stdout",
          "text": "0/124255350\nProcessing chunk 0\nGetting new functions\nDone processing chunk 0. Got 92306 new functions\nProcessing chunk 1\nGetting new functions\nDone processing chunk 1. Got 94851 new functions\nProcessing chunk 2\nGetting new functions\nunable to access bucket: 'softwareheritage' key: 'content/e7a2fdfea63733b2d75b2183c9862d616121a8b6' version: None error: An error occurred (NoSuchKey) when calling the GetObject operation: The specified key does not exist.\nDone processing chunk 2. Got 82534 new functions\nProcessing chunk 3\nGetting new functions\nDone processing chunk 3. Got 89784 new functions\nProcessing chunk 4\nGetting new functions\nDone processing chunk 4. Got 90459 new functions\nProcessing chunk 5\nGetting new functions\nDone processing chunk 5. Got 87630 new functions\nProcessing chunk 6\nGetting new functions\nDone processing chunk 6. Got 86135 new functions\nProcessing chunk 7\nGetting new functions\nDone processing chunk 7. Got 87283 new functions\nProcessing chunk 8\nGetting new functions\nDone processing chunk 8. Got 89165 new functions\nProcessing chunk 9\nGetting new functions\nDone processing chunk 9. Got 89982 new functions\nProcessing chunk 10\nGetting new functions\nKeyboard interrupt. Terminating pool\nDone processing chunk 10. Got 0 new functions\nProcessing chunk 11\nGetting new functions\nDone processing chunk 11. Got 86992 new functions\nProcessing chunk 12\nGetting new functions\nDone processing chunk 12. Got 89118 new functions\nProcessing chunk 13\nGetting new functions\nKeyboard interrupt. Terminating pool\nDone processing chunk 13. Got 0 new functions\nProcessing chunk 14\nGetting new functions\nKeyboard interrupt. Terminating pool\nDone processing chunk 14. Got 0 new functions\nProcessing chunk 15\nGetting new functions\nDone processing chunk 15. Got 86593 new functions\nProcessing chunk 16\nGetting new functions\nKeyboard interrupt. Terminating pool\nDone processing chunk 16. Got 0 new functions\nKeyboard interrupt. Terminating pool\nDone processing chunk 17. Got 0 new functions\n"
        },
        {
          "output_type": "stream",
          "name": "stderr",
          "text": "Process ForkPoolWorker-45:\nProcess ForkPoolWorker-48:\nProcess ForkPoolWorker-46:\nProcess ForkPoolWorker-41:\nProcess ForkPoolWorker-47:\nProcess ForkPoolWorker-84:\nProcess ForkPoolWorker-85:\nProcess ForkPoolWorker-86:\nProcess ForkPoolWorker-90:\nProcess ForkPoolWorker-95:\nProcess ForkPoolWorker-91:\nProcess ForkPoolWorker-93:\nProcess ForkPoolWorker-88:\nProcess ForkPoolWorker-94:\nProcess ForkPoolWorker-83:\nProcess ForkPoolWorker-82:\nProcess ForkPoolWorker-87:\nProcess ForkPoolWorker-96:\nProcess ForkPoolWorker-89:\nProcess ForkPoolWorker-81:\nProcess ForkPoolWorker-92:\nTraceback (most recent call last):\nTraceback (most recent call last):\nTraceback (most recent call last):\nTraceback (most recent call last):\nTraceback (most recent call last):\nTraceback (most recent call last):\nTraceback (most recent call last):\nTraceback (most recent call last):\nTraceback (most recent call last):\nTraceback (most recent call last):\nTraceback (most recent call last):\nTraceback (most recent call last):\nTraceback (most recent call last):\nTraceback (most recent call last):\n  File \"/anaconda/envs/azureml_py38/lib/python3.10/multiprocessing/pool.py\", line 856, in next\n    item = self._items.popleft()\nTraceback (most recent call last):\n  File \"/anaconda/envs/azureml_py38/lib/python3.10/multiprocessing/pool.py\", line 856, in next\n    item = self._items.popleft()\nTraceback (most recent call last):\n  File \"/anaconda/envs/azureml_py38/lib/python3.10/multiprocessing/pool.py\", line 856, in next\n    item = self._items.popleft()\n  File \"/anaconda/envs/azureml_py38/lib/python3.10/multiprocessing/pool.py\", line 856, in next\n    item = self._items.popleft()\n  File \"/anaconda/envs/azureml_py38/lib/python3.10/multiprocessing/pool.py\", line 856, in next\n    item = self._items.popleft()\n  File \"/anaconda/envs/azureml_py38/lib/python3.10/multiprocessing/pool.py\", line 856, in next\n    item = self._items.popleft()\n  File \"/anaconda/envs/azureml_py38/lib/python3.10/multiprocessing/pool.py\", line 856, in next\n    item = self._items.popleft()\n  File \"/anaconda/envs/azureml_py38/lib/python3.10/multiprocessing/pool.py\", line 856, in next\n    item = self._items.popleft()\n  File \"/anaconda/envs/azureml_py38/lib/python3.10/multiprocessing/pool.py\", line 856, in next\n    item = self._items.popleft()\n  File \"/anaconda/envs/azureml_py38/lib/python3.10/multiprocessing/pool.py\", line 856, in next\n    item = self._items.popleft()\n  File \"/anaconda/envs/azureml_py38/lib/python3.10/multiprocessing/pool.py\", line 856, in next\n    item = self._items.popleft()\n  File \"/anaconda/envs/azureml_py38/lib/python3.10/multiprocessing/pool.py\", line 856, in next\n    item = self._items.popleft()\n  File \"/anaconda/envs/azureml_py38/lib/python3.10/multiprocessing/pool.py\", line 856, in next\n    item = self._items.popleft()\n  File \"/anaconda/envs/azureml_py38/lib/python3.10/multiprocessing/pool.py\", line 856, in next\n    item = self._items.popleft()\nIndexError: pop from an empty deque\n  File \"/anaconda/envs/azureml_py38/lib/python3.10/multiprocessing/pool.py\", line 856, in next\n    item = self._items.popleft()\nIndexError: pop from an empty deque\n  File \"/anaconda/envs/azureml_py38/lib/python3.10/multiprocessing/pool.py\", line 856, in next\n    item = self._items.popleft()\nIndexError: pop from an empty deque\nIndexError: pop from an empty deque\nIndexError: pop from an empty deque\nIndexError: pop from an empty deque\nIndexError: pop from an empty deque\nIndexError: pop from an empty deque\nIndexError: pop from an empty deque\nIndexError: pop from an empty deque\nIndexError: pop from an empty deque\nIndexError: pop from an empty deque\nIndexError: pop from an empty deque\nIndexError: pop from an empty deque\nIndexError: pop from an empty deque\n\nDuring handling of the above exception, another exception occurred:\n\nIndexError: pop from an empty deque\n\nDuring handling of the above exception, another exception occurred:\n\n\nDuring handling of the above exception, another exception occurred:\n\n\nDuring handling of the above exception, another exception occurred:\n\n\nDuring handling of the above exception, another exception occurred:\n\n\nDuring handling of the above exception, another exception occurred:\n\n\nDuring handling of the above exception, another exception occurred:\n\n\nDuring handling of the above exception, another exception occurred:\n\n\nDuring handling of the above exception, another exception occurred:\n\n\nDuring handling of the above exception, another exception occurred:\n\n\nDuring handling of the above exception, another exception occurred:\n\n\nDuring handling of the above exception, another exception occurred:\n\n\nDuring handling of the above exception, another exception occurred:\n\nTraceback (most recent call last):\n\nDuring handling of the above exception, another exception occurred:\n\n\nDuring handling of the above exception, another exception occurred:\n\nTraceback (most recent call last):\n\nDuring handling of the above exception, another exception occurred:\n\nTraceback (most recent call last):\nTraceback (most recent call last):\nTraceback (most recent call last):\nTraceback (most recent call last):\nTraceback (most recent call last):\nTraceback (most recent call last):\nTraceback (most recent call last):\nTraceback (most recent call last):\nTraceback (most recent call last):\nTraceback (most recent call last):\n  File \"/tmp/ipykernel_6970/1791484868.py\", line 22, in <module>\n    funs.update(next(new_funs_iter))\nTraceback (most recent call last):\nTraceback (most recent call last):\nTraceback (most recent call last):\n  File \"/tmp/ipykernel_6970/1791484868.py\", line 22, in <module>\n    funs.update(next(new_funs_iter))\nTraceback (most recent call last):\n  File \"/tmp/ipykernel_6970/1791484868.py\", line 22, in <module>\n    funs.update(next(new_funs_iter))\n  File \"/tmp/ipykernel_6970/1791484868.py\", line 22, in <module>\n    funs.update(next(new_funs_iter))\n  File \"/tmp/ipykernel_6970/1791484868.py\", line 22, in <module>\n    funs.update(next(new_funs_iter))\n  File \"/tmp/ipykernel_6970/1791484868.py\", line 22, in <module>\n    funs.update(next(new_funs_iter))\n  File \"/tmp/ipykernel_6970/1791484868.py\", line 22, in <module>\n    funs.update(next(new_funs_iter))\n  File \"/tmp/ipykernel_6970/1791484868.py\", line 22, in <module>\n    funs.update(next(new_funs_iter))\n  File \"/tmp/ipykernel_6970/1791484868.py\", line 22, in <module>\n    funs.update(next(new_funs_iter))\n  File \"/tmp/ipykernel_6970/1791484868.py\", line 22, in <module>\n    funs.update(next(new_funs_iter))\n  File \"/tmp/ipykernel_6970/1791484868.py\", line 22, in <module>\n    funs.update(next(new_funs_iter))\n  File \"/tmp/ipykernel_6970/1791484868.py\", line 22, in <module>\n    funs.update(next(new_funs_iter))\n  File \"/anaconda/envs/azureml_py38/lib/python3.10/multiprocessing/pool.py\", line 861, in next\n    self._cond.wait(timeout)\n  File \"/tmp/ipykernel_6970/1791484868.py\", line 22, in <module>\n    funs.update(next(new_funs_iter))\n  File \"/tmp/ipykernel_6970/1791484868.py\", line 22, in <module>\n    funs.update(next(new_funs_iter))\n  File \"/tmp/ipykernel_6970/1791484868.py\", line 22, in <module>\n    funs.update(next(new_funs_iter))\n  File \"/anaconda/envs/azureml_py38/lib/python3.10/multiprocessing/pool.py\", line 861, in next\n    self._cond.wait(timeout)\n  File \"/tmp/ipykernel_6970/1791484868.py\", line 22, in <module>\n    funs.update(next(new_funs_iter))\n  File \"/anaconda/envs/azureml_py38/lib/python3.10/multiprocessing/pool.py\", line 861, in next\n    self._cond.wait(timeout)\n  File \"/anaconda/envs/azureml_py38/lib/python3.10/multiprocessing/pool.py\", line 861, in next\n    self._cond.wait(timeout)\n  File \"/anaconda/envs/azureml_py38/lib/python3.10/multiprocessing/pool.py\", line 861, in next\n    self._cond.wait(timeout)\n  File \"/anaconda/envs/azureml_py38/lib/python3.10/multiprocessing/pool.py\", line 861, in next\n    self._cond.wait(timeout)\n  File \"/anaconda/envs/azureml_py38/lib/python3.10/multiprocessing/pool.py\", line 861, in next\n    self._cond.wait(timeout)\n  File \"/anaconda/envs/azureml_py38/lib/python3.10/multiprocessing/pool.py\", line 861, in next\n    self._cond.wait(timeout)\n  File \"/anaconda/envs/azureml_py38/lib/python3.10/multiprocessing/pool.py\", line 861, in next\n    self._cond.wait(timeout)\n  File \"/anaconda/envs/azureml_py38/lib/python3.10/multiprocessing/pool.py\", line 861, in next\n    self._cond.wait(timeout)\n  File \"/anaconda/envs/azureml_py38/lib/python3.10/multiprocessing/pool.py\", line 861, in next\n    self._cond.wait(timeout)\n  File \"/anaconda/envs/azureml_py38/lib/python3.10/multiprocessing/pool.py\", line 861, in next\n    self._cond.wait(timeout)\n  File \"/anaconda/envs/azureml_py38/lib/python3.10/threading.py\", line 320, in wait\n    waiter.acquire()\n  File \"/anaconda/envs/azureml_py38/lib/python3.10/multiprocessing/pool.py\", line 861, in next\n    self._cond.wait(timeout)\n  File \"/anaconda/envs/azureml_py38/lib/python3.10/multiprocessing/pool.py\", line 861, in next\n    self._cond.wait(timeout)\n  File \"/anaconda/envs/azureml_py38/lib/python3.10/threading.py\", line 320, in wait\n    waiter.acquire()\n  File \"/anaconda/envs/azureml_py38/lib/python3.10/multiprocessing/pool.py\", line 861, in next\n    self._cond.wait(timeout)\n  File \"/anaconda/envs/azureml_py38/lib/python3.10/multiprocessing/pool.py\", line 861, in next\n    self._cond.wait(timeout)\n  File \"/anaconda/envs/azureml_py38/lib/python3.10/threading.py\", line 320, in wait\n    waiter.acquire()\n  File \"/anaconda/envs/azureml_py38/lib/python3.10/threading.py\", line 320, in wait\n    waiter.acquire()\n  File \"/anaconda/envs/azureml_py38/lib/python3.10/threading.py\", line 320, in wait\n    waiter.acquire()\n  File \"/anaconda/envs/azureml_py38/lib/python3.10/threading.py\", line 320, in wait\n    waiter.acquire()\n  File \"/anaconda/envs/azureml_py38/lib/python3.10/threading.py\", line 320, in wait\n    waiter.acquire()\n  File \"/anaconda/envs/azureml_py38/lib/python3.10/threading.py\", line 320, in wait\n    waiter.acquire()\n  File \"/anaconda/envs/azureml_py38/lib/python3.10/threading.py\", line 320, in wait\n    waiter.acquire()\n  File \"/anaconda/envs/azureml_py38/lib/python3.10/threading.py\", line 320, in wait\n    waiter.acquire()\n  File \"/anaconda/envs/azureml_py38/lib/python3.10/threading.py\", line 320, in wait\n    waiter.acquire()\n  File \"/anaconda/envs/azureml_py38/lib/python3.10/threading.py\", line 320, in wait\n    waiter.acquire()\nKeyboardInterrupt\n  File \"/anaconda/envs/azureml_py38/lib/python3.10/threading.py\", line 320, in wait\n    waiter.acquire()\n  File \"/anaconda/envs/azureml_py38/lib/python3.10/threading.py\", line 320, in wait\n    waiter.acquire()\nKeyboardInterrupt\n  File \"/anaconda/envs/azureml_py38/lib/python3.10/threading.py\", line 320, in wait\n    waiter.acquire()\n  File \"/anaconda/envs/azureml_py38/lib/python3.10/threading.py\", line 320, in wait\n    waiter.acquire()\nKeyboardInterrupt\nKeyboardInterrupt\nKeyboardInterrupt\nKeyboardInterrupt\nKeyboardInterrupt\nKeyboardInterrupt\nKeyboardInterrupt\nKeyboardInterrupt\nKeyboardInterrupt\nKeyboardInterrupt\n\nDuring handling of the above exception, another exception occurred:\n\nKeyboardInterrupt\nKeyboardInterrupt\n\nDuring handling of the above exception, another exception occurred:\n\nKeyboardInterrupt\nKeyboardInterrupt\n\nDuring handling of the above exception, another exception occurred:\n\n\nDuring handling of the above exception, another exception occurred:\n\n\nDuring handling of the above exception, another exception occurred:\n\n\nDuring handling of the above exception, another exception occurred:\n\n\nDuring handling of the above exception, another exception occurred:\n\n\nDuring handling of the above exception, another exception occurred:\n\n\nDuring handling of the above exception, another exception occurred:\n\n\nDuring handling of the above exception, another exception occurred:\n\n\nDuring handling of the above exception, another exception occurred:\n\n\nDuring handling of the above exception, another exception occurred:\n\nTraceback (most recent call last):\n\nDuring handling of the above exception, another exception occurred:\n\n\nDuring handling of the above exception, another exception occurred:\n\nTraceback (most recent call last):\n\nDuring handling of the above exception, another exception occurred:\n\n\nDuring handling of the above exception, another exception occurred:\n\nTraceback (most recent call last):\nTraceback (most recent call last):\nTraceback (most recent call last):\nTraceback (most recent call last):\nTraceback (most recent call last):\nTraceback (most recent call last):\nTraceback (most recent call last):\nTraceback (most recent call last):\nTraceback (most recent call last):\nTraceback (most recent call last):\n  File \"/anaconda/envs/azureml_py38/lib/python3.10/multiprocessing/process.py\", line 314, in _bootstrap\n    self.run()\nTraceback (most recent call last):\nTraceback (most recent call last):\n  File \"/anaconda/envs/azureml_py38/lib/python3.10/multiprocessing/process.py\", line 314, in _bootstrap\n    self.run()\nTraceback (most recent call last):\n  File \"/anaconda/envs/azureml_py38/lib/python3.10/multiprocessing/process.py\", line 314, in _bootstrap\n    self.run()\nTraceback (most recent call last):\n  File \"/anaconda/envs/azureml_py38/lib/python3.10/multiprocessing/process.py\", line 314, in _bootstrap\n    self.run()\n  File \"/anaconda/envs/azureml_py38/lib/python3.10/multiprocessing/process.py\", line 314, in _bootstrap\n    self.run()\n  File \"/anaconda/envs/azureml_py38/lib/python3.10/multiprocessing/process.py\", line 314, in _bootstrap\n    self.run()\n  File \"/anaconda/envs/azureml_py38/lib/python3.10/multiprocessing/process.py\", line 314, in _bootstrap\n    self.run()\n  File \"/anaconda/envs/azureml_py38/lib/python3.10/multiprocessing/process.py\", line 314, in _bootstrap\n    self.run()\n  File \"/anaconda/envs/azureml_py38/lib/python3.10/multiprocessing/process.py\", line 314, in _bootstrap\n    self.run()\n  File \"/anaconda/envs/azureml_py38/lib/python3.10/multiprocessing/process.py\", line 314, in _bootstrap\n    self.run()\n  File \"/anaconda/envs/azureml_py38/lib/python3.10/multiprocessing/process.py\", line 314, in _bootstrap\n    self.run()\n  File \"/anaconda/envs/azureml_py38/lib/python3.10/multiprocessing/process.py\", line 314, in _bootstrap\n    self.run()\n  File \"/anaconda/envs/azureml_py38/lib/python3.10/multiprocessing/process.py\", line 108, in run\n    self._target(*self._args, **self._kwargs)\n  File \"/anaconda/envs/azureml_py38/lib/python3.10/multiprocessing/process.py\", line 314, in _bootstrap\n    self.run()\n  File \"/anaconda/envs/azureml_py38/lib/python3.10/multiprocessing/process.py\", line 314, in _bootstrap\n    self.run()\n  File \"/anaconda/envs/azureml_py38/lib/python3.10/multiprocessing/process.py\", line 108, in run\n    self._target(*self._args, **self._kwargs)\n  File \"/anaconda/envs/azureml_py38/lib/python3.10/multiprocessing/process.py\", line 314, in _bootstrap\n    self.run()\n  File \"/anaconda/envs/azureml_py38/lib/python3.10/multiprocessing/process.py\", line 108, in run\n    self._target(*self._args, **self._kwargs)\n  File \"/anaconda/envs/azureml_py38/lib/python3.10/multiprocessing/process.py\", line 314, in _bootstrap\n    self.run()\n  File \"/anaconda/envs/azureml_py38/lib/python3.10/multiprocessing/process.py\", line 108, in run\n    self._target(*self._args, **self._kwargs)\n  File \"/anaconda/envs/azureml_py38/lib/python3.10/multiprocessing/process.py\", line 108, in run\n    self._target(*self._args, **self._kwargs)\n  File \"/anaconda/envs/azureml_py38/lib/python3.10/multiprocessing/process.py\", line 108, in run\n    self._target(*self._args, **self._kwargs)\n  File \"/anaconda/envs/azureml_py38/lib/python3.10/multiprocessing/process.py\", line 108, in run\n    self._target(*self._args, **self._kwargs)\n  File \"/anaconda/envs/azureml_py38/lib/python3.10/multiprocessing/process.py\", line 108, in run\n    self._target(*self._args, **self._kwargs)\n  File \"/anaconda/envs/azureml_py38/lib/python3.10/multiprocessing/process.py\", line 108, in run\n    self._target(*self._args, **self._kwargs)\n  File \"/anaconda/envs/azureml_py38/lib/python3.10/multiprocessing/process.py\", line 108, in run\n    self._target(*self._args, **self._kwargs)\n  File \"/anaconda/envs/azureml_py38/lib/python3.10/multiprocessing/process.py\", line 108, in run\n    self._target(*self._args, **self._kwargs)\n  File \"/anaconda/envs/azureml_py38/lib/python3.10/multiprocessing/process.py\", line 108, in run\n    self._target(*self._args, **self._kwargs)\n  File \"/anaconda/envs/azureml_py38/lib/python3.10/multiprocessing/process.py\", line 108, in run\n    self._target(*self._args, **self._kwargs)\n  File \"/anaconda/envs/azureml_py38/lib/python3.10/multiprocessing/pool.py\", line 114, in worker\n    task = get()\n  File \"/anaconda/envs/azureml_py38/lib/python3.10/multiprocessing/pool.py\", line 114, in worker\n    task = get()\n  File \"/anaconda/envs/azureml_py38/lib/python3.10/multiprocessing/process.py\", line 108, in run\n    self._target(*self._args, **self._kwargs)\n  File \"/anaconda/envs/azureml_py38/lib/python3.10/multiprocessing/process.py\", line 108, in run\n    self._target(*self._args, **self._kwargs)\n  File \"/anaconda/envs/azureml_py38/lib/python3.10/multiprocessing/pool.py\", line 114, in worker\n    task = get()\n  File \"/anaconda/envs/azureml_py38/lib/python3.10/multiprocessing/process.py\", line 108, in run\n    self._target(*self._args, **self._kwargs)\n  File \"/anaconda/envs/azureml_py38/lib/python3.10/multiprocessing/pool.py\", line 114, in worker\n    task = get()\n  File \"/anaconda/envs/azureml_py38/lib/python3.10/multiprocessing/pool.py\", line 114, in worker\n    task = get()\n  File \"/anaconda/envs/azureml_py38/lib/python3.10/multiprocessing/pool.py\", line 114, in worker\n    task = get()\n  File \"/anaconda/envs/azureml_py38/lib/python3.10/multiprocessing/pool.py\", line 114, in worker\n    task = get()\n  File \"/anaconda/envs/azureml_py38/lib/python3.10/multiprocessing/pool.py\", line 114, in worker\n    task = get()\n  File \"/anaconda/envs/azureml_py38/lib/python3.10/multiprocessing/pool.py\", line 114, in worker\n    task = get()\n  File \"/anaconda/envs/azureml_py38/lib/python3.10/multiprocessing/pool.py\", line 114, in worker\n    task = get()\n  File \"/anaconda/envs/azureml_py38/lib/python3.10/multiprocessing/pool.py\", line 114, in worker\n    task = get()\n  File \"/anaconda/envs/azureml_py38/lib/python3.10/multiprocessing/pool.py\", line 114, in worker\n    task = get()\n  File \"/anaconda/envs/azureml_py38/lib/python3.10/multiprocessing/pool.py\", line 114, in worker\n    task = get()\n  File \"/anaconda/envs/azureml_py38/lib/python3.10/multiprocessing/queues.py\", line 364, in get\n    with self._rlock:\n  File \"/anaconda/envs/azureml_py38/lib/python3.10/multiprocessing/queues.py\", line 364, in get\n    with self._rlock:\n  File \"/anaconda/envs/azureml_py38/lib/python3.10/multiprocessing/pool.py\", line 114, in worker\n    task = get()\n  File \"/anaconda/envs/azureml_py38/lib/python3.10/multiprocessing/pool.py\", line 114, in worker\n    task = get()\n  File \"/anaconda/envs/azureml_py38/lib/python3.10/multiprocessing/queues.py\", line 364, in get\n    with self._rlock:\n  File \"/anaconda/envs/azureml_py38/lib/python3.10/multiprocessing/pool.py\", line 114, in worker\n    task = get()\n  File \"/anaconda/envs/azureml_py38/lib/python3.10/multiprocessing/queues.py\", line 364, in get\n    with self._rlock:\n  File \"/anaconda/envs/azureml_py38/lib/python3.10/multiprocessing/queues.py\", line 364, in get\n    with self._rlock:\n  File \"/anaconda/envs/azureml_py38/lib/python3.10/multiprocessing/queues.py\", line 364, in get\n    with self._rlock:\n  File \"/anaconda/envs/azureml_py38/lib/python3.10/multiprocessing/queues.py\", line 364, in get\n    with self._rlock:\n  File \"/anaconda/envs/azureml_py38/lib/python3.10/multiprocessing/queues.py\", line 364, in get\n    with self._rlock:\n  File \"/anaconda/envs/azureml_py38/lib/python3.10/multiprocessing/queues.py\", line 365, in get\n    res = self._reader.recv_bytes()\n  File \"/anaconda/envs/azureml_py38/lib/python3.10/multiprocessing/queues.py\", line 364, in get\n    with self._rlock:\n  File \"/anaconda/envs/azureml_py38/lib/python3.10/multiprocessing/queues.py\", line 364, in get\n    with self._rlock:\n  File \"/anaconda/envs/azureml_py38/lib/python3.10/multiprocessing/queues.py\", line 364, in get\n    with self._rlock:\n  File \"/anaconda/envs/azureml_py38/lib/python3.10/multiprocessing/queues.py\", line 364, in get\n    with self._rlock:\n  File \"/anaconda/envs/azureml_py38/lib/python3.10/multiprocessing/synchronize.py\", line 95, in __enter__\n    return self._semlock.__enter__()\n  File \"/anaconda/envs/azureml_py38/lib/python3.10/multiprocessing/synchronize.py\", line 95, in __enter__\n    return self._semlock.__enter__()\n  File \"/anaconda/envs/azureml_py38/lib/python3.10/multiprocessing/synchronize.py\", line 95, in __enter__\n    return self._semlock.__enter__()\n  File \"/anaconda/envs/azureml_py38/lib/python3.10/multiprocessing/queues.py\", line 364, in get\n    with self._rlock:\n  File \"/anaconda/envs/azureml_py38/lib/python3.10/multiprocessing/queues.py\", line 364, in get\n    with self._rlock:\n  File \"/anaconda/envs/azureml_py38/lib/python3.10/multiprocessing/queues.py\", line 364, in get\n    with self._rlock:\n  File \"/anaconda/envs/azureml_py38/lib/python3.10/multiprocessing/synchronize.py\", line 95, in __enter__\n    return self._semlock.__enter__()\n  File \"/anaconda/envs/azureml_py38/lib/python3.10/multiprocessing/synchronize.py\", line 95, in __enter__\n    return self._semlock.__enter__()\n  File \"/anaconda/envs/azureml_py38/lib/python3.10/multiprocessing/synchronize.py\", line 95, in __enter__\n    return self._semlock.__enter__()\n  File \"/anaconda/envs/azureml_py38/lib/python3.10/multiprocessing/synchronize.py\", line 95, in __enter__\n    return self._semlock.__enter__()\n  File \"/anaconda/envs/azureml_py38/lib/python3.10/multiprocessing/synchronize.py\", line 95, in __enter__\n    return self._semlock.__enter__()\n  File \"/anaconda/envs/azureml_py38/lib/python3.10/multiprocessing/connection.py\", line 216, in recv_bytes\n    buf = self._recv_bytes(maxlength)\n  File \"/anaconda/envs/azureml_py38/lib/python3.10/multiprocessing/synchronize.py\", line 95, in __enter__\n    return self._semlock.__enter__()\n  File \"/anaconda/envs/azureml_py38/lib/python3.10/multiprocessing/synchronize.py\", line 95, in __enter__\n    return self._semlock.__enter__()\n  File \"/anaconda/envs/azureml_py38/lib/python3.10/multiprocessing/synchronize.py\", line 95, in __enter__\n    return self._semlock.__enter__()\n  File \"/anaconda/envs/azureml_py38/lib/python3.10/multiprocessing/synchronize.py\", line 95, in __enter__\n    return self._semlock.__enter__()\nKeyboardInterrupt\nKeyboardInterrupt\n  File \"/anaconda/envs/azureml_py38/lib/python3.10/multiprocessing/synchronize.py\", line 95, in __enter__\n    return self._semlock.__enter__()\nKeyboardInterrupt\n  File \"/anaconda/envs/azureml_py38/lib/python3.10/multiprocessing/synchronize.py\", line 95, in __enter__\n    return self._semlock.__enter__()\n  File \"/anaconda/envs/azureml_py38/lib/python3.10/multiprocessing/synchronize.py\", line 95, in __enter__\n    return self._semlock.__enter__()\nKeyboardInterrupt\nKeyboardInterrupt\nKeyboardInterrupt\nKeyboardInterrupt\nKeyboardInterrupt\n  File \"/anaconda/envs/azureml_py38/lib/python3.10/multiprocessing/connection.py\", line 414, in _recv_bytes\n    buf = self._recv(4)\nKeyboardInterrupt\nKeyboardInterrupt\nKeyboardInterrupt\nKeyboardInterrupt\nKeyboardInterrupt\n  File \"/anaconda/envs/azureml_py38/lib/python3.10/multiprocessing/connection.py\", line 379, in _recv\n    chunk = read(handle, remaining)\nKeyboardInterrupt\nKeyboardInterrupt\nKeyboardInterrupt\n"
        },
        {
          "output_type": "error",
          "ename": "KeyboardInterrupt",
          "evalue": "",
          "traceback": [
            "\u001b[0;31m---------------------------------------------------------------------------\u001b[0m",
            "\u001b[0;31mKeyboardInterrupt\u001b[0m                         Traceback (most recent call last)",
            "Cell \u001b[0;32mIn[17], line 1\u001b[0m\n\u001b[0;32m----> 1\u001b[0m \u001b[38;5;28;01mfor\u001b[39;00m i, ex \u001b[38;5;129;01min\u001b[39;00m \u001b[38;5;28menumerate\u001b[39m(\u001b[38;5;28miter\u001b[39m(ds)):\n\u001b[1;32m      2\u001b[0m     \u001b[38;5;28;01mif\u001b[39;00m i \u001b[38;5;241m%\u001b[39m (total_len \u001b[38;5;241m/\u001b[39m\u001b[38;5;241m/\u001b[39m \u001b[38;5;241m100\u001b[39m) \u001b[38;5;241m==\u001b[39m \u001b[38;5;241m0\u001b[39m:\n\u001b[1;32m      3\u001b[0m         \u001b[38;5;28mprint\u001b[39m(\u001b[38;5;124mf\u001b[39m\u001b[38;5;124m\"\u001b[39m\u001b[38;5;132;01m{\u001b[39;00mi\u001b[38;5;132;01m}\u001b[39;00m\u001b[38;5;124m/\u001b[39m\u001b[38;5;132;01m{\u001b[39;00mtotal_len\u001b[38;5;132;01m}\u001b[39;00m\u001b[38;5;124m\"\u001b[39m)\n",
            "File \u001b[0;32m/anaconda/envs/azureml_py38/lib/python3.10/site-packages/datasets/arrow_dataset.py:2389\u001b[0m, in \u001b[0;36mDataset.__iter__\u001b[0;34m(self)\u001b[0m\n\u001b[1;32m   2387\u001b[0m         \u001b[38;5;28;01mfor\u001b[39;00m i \u001b[38;5;129;01min\u001b[39;00m \u001b[38;5;28mrange\u001b[39m(pa_subtable\u001b[38;5;241m.\u001b[39mnum_rows):\n\u001b[1;32m   2388\u001b[0m             pa_subtable_ex \u001b[38;5;241m=\u001b[39m pa_subtable\u001b[38;5;241m.\u001b[39mslice(i, \u001b[38;5;241m1\u001b[39m)\n\u001b[0;32m-> 2389\u001b[0m             formatted_output \u001b[38;5;241m=\u001b[39m \u001b[43mformat_table\u001b[49m\u001b[43m(\u001b[49m\n\u001b[1;32m   2390\u001b[0m \u001b[43m                \u001b[49m\u001b[43mpa_subtable_ex\u001b[49m\u001b[43m,\u001b[49m\n\u001b[1;32m   2391\u001b[0m \u001b[43m                \u001b[49m\u001b[38;5;241;43m0\u001b[39;49m\u001b[43m,\u001b[49m\n\u001b[1;32m   2392\u001b[0m \u001b[43m                \u001b[49m\u001b[43mformatter\u001b[49m\u001b[38;5;241;43m=\u001b[39;49m\u001b[43mformatter\u001b[49m\u001b[43m,\u001b[49m\n\u001b[1;32m   2393\u001b[0m \u001b[43m                \u001b[49m\u001b[43mformat_columns\u001b[49m\u001b[38;5;241;43m=\u001b[39;49m\u001b[38;5;28;43mself\u001b[39;49m\u001b[38;5;241;43m.\u001b[39;49m\u001b[43m_format_columns\u001b[49m\u001b[43m,\u001b[49m\n\u001b[1;32m   2394\u001b[0m \u001b[43m                \u001b[49m\u001b[43moutput_all_columns\u001b[49m\u001b[38;5;241;43m=\u001b[39;49m\u001b[38;5;28;43mself\u001b[39;49m\u001b[38;5;241;43m.\u001b[39;49m\u001b[43m_output_all_columns\u001b[49m\u001b[43m,\u001b[49m\n\u001b[1;32m   2395\u001b[0m \u001b[43m            \u001b[49m\u001b[43m)\u001b[49m\n\u001b[1;32m   2396\u001b[0m             \u001b[38;5;28;01myield\u001b[39;00m formatted_output\n\u001b[1;32m   2397\u001b[0m \u001b[38;5;28;01melse\u001b[39;00m:\n",
            "File \u001b[0;32m/anaconda/envs/azureml_py38/lib/python3.10/site-packages/datasets/formatting/formatting.py:629\u001b[0m, in \u001b[0;36mformat_table\u001b[0;34m(table, key, formatter, format_columns, output_all_columns)\u001b[0m\n\u001b[1;32m    627\u001b[0m python_formatter \u001b[38;5;241m=\u001b[39m PythonFormatter(features\u001b[38;5;241m=\u001b[39mformatter\u001b[38;5;241m.\u001b[39mfeatures)\n\u001b[1;32m    628\u001b[0m \u001b[38;5;28;01mif\u001b[39;00m format_columns \u001b[38;5;129;01mis\u001b[39;00m \u001b[38;5;28;01mNone\u001b[39;00m:\n\u001b[0;32m--> 629\u001b[0m     \u001b[38;5;28;01mreturn\u001b[39;00m \u001b[43mformatter\u001b[49m\u001b[43m(\u001b[49m\u001b[43mpa_table\u001b[49m\u001b[43m,\u001b[49m\u001b[43m \u001b[49m\u001b[43mquery_type\u001b[49m\u001b[38;5;241;43m=\u001b[39;49m\u001b[43mquery_type\u001b[49m\u001b[43m)\u001b[49m\n\u001b[1;32m    630\u001b[0m \u001b[38;5;28;01melif\u001b[39;00m query_type \u001b[38;5;241m==\u001b[39m \u001b[38;5;124m\"\u001b[39m\u001b[38;5;124mcolumn\u001b[39m\u001b[38;5;124m\"\u001b[39m:\n\u001b[1;32m    631\u001b[0m     \u001b[38;5;28;01mif\u001b[39;00m key \u001b[38;5;129;01min\u001b[39;00m format_columns:\n",
            "File \u001b[0;32m/anaconda/envs/azureml_py38/lib/python3.10/site-packages/datasets/formatting/formatting.py:396\u001b[0m, in \u001b[0;36mFormatter.__call__\u001b[0;34m(self, pa_table, query_type)\u001b[0m\n\u001b[1;32m    394\u001b[0m \u001b[38;5;28;01mdef\u001b[39;00m\u001b[38;5;250m \u001b[39m\u001b[38;5;21m__call__\u001b[39m(\u001b[38;5;28mself\u001b[39m, pa_table: pa\u001b[38;5;241m.\u001b[39mTable, query_type: \u001b[38;5;28mstr\u001b[39m) \u001b[38;5;241m-\u001b[39m\u001b[38;5;241m>\u001b[39m Union[RowFormat, ColumnFormat, BatchFormat]:\n\u001b[1;32m    395\u001b[0m     \u001b[38;5;28;01mif\u001b[39;00m query_type \u001b[38;5;241m==\u001b[39m \u001b[38;5;124m\"\u001b[39m\u001b[38;5;124mrow\u001b[39m\u001b[38;5;124m\"\u001b[39m:\n\u001b[0;32m--> 396\u001b[0m         \u001b[38;5;28;01mreturn\u001b[39;00m \u001b[38;5;28;43mself\u001b[39;49m\u001b[38;5;241;43m.\u001b[39;49m\u001b[43mformat_row\u001b[49m\u001b[43m(\u001b[49m\u001b[43mpa_table\u001b[49m\u001b[43m)\u001b[49m\n\u001b[1;32m    397\u001b[0m     \u001b[38;5;28;01melif\u001b[39;00m query_type \u001b[38;5;241m==\u001b[39m \u001b[38;5;124m\"\u001b[39m\u001b[38;5;124mcolumn\u001b[39m\u001b[38;5;124m\"\u001b[39m:\n\u001b[1;32m    398\u001b[0m         \u001b[38;5;28;01mreturn\u001b[39;00m \u001b[38;5;28mself\u001b[39m\u001b[38;5;241m.\u001b[39mformat_column(pa_table)\n",
            "File \u001b[0;32m/anaconda/envs/azureml_py38/lib/python3.10/site-packages/datasets/formatting/formatting.py:436\u001b[0m, in \u001b[0;36mPythonFormatter.format_row\u001b[0;34m(self, pa_table)\u001b[0m\n\u001b[1;32m    434\u001b[0m \u001b[38;5;28;01mif\u001b[39;00m \u001b[38;5;28mself\u001b[39m\u001b[38;5;241m.\u001b[39mlazy:\n\u001b[1;32m    435\u001b[0m     \u001b[38;5;28;01mreturn\u001b[39;00m LazyRow(pa_table, \u001b[38;5;28mself\u001b[39m)\n\u001b[0;32m--> 436\u001b[0m row \u001b[38;5;241m=\u001b[39m \u001b[38;5;28;43mself\u001b[39;49m\u001b[38;5;241;43m.\u001b[39;49m\u001b[43mpython_arrow_extractor\u001b[49m\u001b[43m(\u001b[49m\u001b[43m)\u001b[49m\u001b[38;5;241;43m.\u001b[39;49m\u001b[43mextract_row\u001b[49m\u001b[43m(\u001b[49m\u001b[43mpa_table\u001b[49m\u001b[43m)\u001b[49m\n\u001b[1;32m    437\u001b[0m row \u001b[38;5;241m=\u001b[39m \u001b[38;5;28mself\u001b[39m\u001b[38;5;241m.\u001b[39mpython_features_decoder\u001b[38;5;241m.\u001b[39mdecode_row(row)\n\u001b[1;32m    438\u001b[0m \u001b[38;5;28;01mreturn\u001b[39;00m row\n",
            "File \u001b[0;32m/anaconda/envs/azureml_py38/lib/python3.10/site-packages/datasets/formatting/formatting.py:144\u001b[0m, in \u001b[0;36mPythonArrowExtractor.extract_row\u001b[0;34m(self, pa_table)\u001b[0m\n\u001b[1;32m    143\u001b[0m \u001b[38;5;28;01mdef\u001b[39;00m\u001b[38;5;250m \u001b[39m\u001b[38;5;21mextract_row\u001b[39m(\u001b[38;5;28mself\u001b[39m, pa_table: pa\u001b[38;5;241m.\u001b[39mTable) \u001b[38;5;241m-\u001b[39m\u001b[38;5;241m>\u001b[39m \u001b[38;5;28mdict\u001b[39m:\n\u001b[0;32m--> 144\u001b[0m     \u001b[38;5;28;01mreturn\u001b[39;00m _unnest(\u001b[43mpa_table\u001b[49m\u001b[38;5;241;43m.\u001b[39;49m\u001b[43mto_pydict\u001b[49m\u001b[43m(\u001b[49m\u001b[43m)\u001b[49m)\n",
            "File \u001b[0;32m/anaconda/envs/azureml_py38/lib/python3.10/site-packages/pyarrow/table.pxi:2029\u001b[0m, in \u001b[0;36mpyarrow.lib._Tabular.to_pydict\u001b[0;34m()\u001b[0m\n",
            "File \u001b[0;32m/anaconda/envs/azureml_py38/lib/python3.10/site-packages/pyarrow/table.pxi:1326\u001b[0m, in \u001b[0;36mpyarrow.lib.ChunkedArray.to_pylist\u001b[0;34m()\u001b[0m\n",
            "File \u001b[0;32m/anaconda/envs/azureml_py38/lib/python3.10/site-packages/pyarrow/array.pxi:1604\u001b[0m, in \u001b[0;36mpyarrow.lib.Array.to_pylist\u001b[0;34m()\u001b[0m\n",
            "File \u001b[0;32m/anaconda/envs/azureml_py38/lib/python3.10/site-packages/pyarrow/scalar.pxi:533\u001b[0m, in \u001b[0;36mpyarrow.lib.TimestampScalar.as_py\u001b[0;34m()\u001b[0m\n",
            "File \u001b[0;32m/anaconda/envs/azureml_py38/lib/python3.10/site-packages/pyarrow/scalar.pxi:438\u001b[0m, in \u001b[0;36mpyarrow.lib._datetime_from_int\u001b[0;34m()\u001b[0m\n",
            "File \u001b[0;32m/anaconda/envs/azureml_py38/lib/python3.10/site-packages/pandas/_libs/tslibs/timestamps.pyx:1698\u001b[0m, in \u001b[0;36mpandas._libs.tslibs.timestamps.Timestamp.__new__\u001b[0;34m()\u001b[0m\n",
            "File \u001b[0;32m/anaconda/envs/azureml_py38/lib/python3.10/site-packages/pandas/_libs/tslibs/conversion.pyx:272\u001b[0m, in \u001b[0;36mpandas._libs.tslibs.conversion.convert_to_tsobject\u001b[0;34m()\u001b[0m\n",
            "\u001b[0;31mKeyboardInterrupt\u001b[0m: "
          ]
        }
      ],
      "execution_count": 17,
      "metadata": {
        "gather": {
          "logged": 1747082362411
        }
      },
      "id": "1611194e-d5ba-49fa-a43d-eb027f56613e"
    },
    {
      "cell_type": "code",
      "source": [
        "new_ds_dict = {\n",
        "    \"content\": list(funs),\n",
        "    \"id\": list(range(len(funs)))\n",
        "}\n",
        "\n",
        "new_ds = datasets.Dataset.from_dict(new_ds_dict)"
      ],
      "outputs": [],
      "execution_count": 22,
      "metadata": {
        "gather": {
          "logged": 1747082725724
        }
      },
      "id": "100bb0f7-c03c-4b59-8353-99d0b520949a"
    },
    {
      "cell_type": "code",
      "source": [
        "ds = new_ds"
      ],
      "outputs": [],
      "execution_count": 24,
      "metadata": {
        "gather": {
          "logged": 1747082861816
        }
      },
      "id": "981fb1d6-5631-4ac0-a432-352c2093276c"
    },
    {
      "cell_type": "code",
      "source": [
        "ds"
      ],
      "outputs": [
        {
          "output_type": "execute_result",
          "execution_count": 30,
          "data": {
            "text/plain": "Dataset({\n    features: ['content', 'id'],\n    num_rows: 180222\n})"
          },
          "metadata": {}
        }
      ],
      "execution_count": 30,
      "metadata": {
        "gather": {
          "logged": 1747083186852
        }
      },
      "id": "8f04ae55-a312-4f4c-b198-d37b9e590867"
    },
    {
      "cell_type": "code",
      "source": [
        "import subprocess\n",
        "import tempfile\n",
        "import signal\n",
        "import hashlib\n",
        "import os\n",
        "import argparse\n",
        "from typing import List, Dict\n",
        "from tqdm import tqdm\n",
        "from tree_sitter_parser import LANGUAGE, global_parser\n",
        "\n",
        "RETURN_QUERY = LANGUAGE.query(\"\"\"\n",
        "(return_statement) @return\n",
        "\"\"\")\n",
        "\n",
        "def does_have_return(src):\n",
        "    tree = global_parser.parse(bytes(src, \"utf8\"))\n",
        "    root = tree.root_node\n",
        "    captures = RETURN_QUERY.captures(root)\n",
        "    for node, _ in captures:\n",
        "        # if it doesn't have an argument, it's not a return with a value\n",
        "        if len(node.children) <= 1:  # includes \"return\" itself\n",
        "            continue\n",
        "        else:\n",
        "            return True\n",
        "    return False\n",
        "\n",
        "# runs mypy in the given directory, returns stdout\n",
        "# then, it logs the number of errors for each file\n",
        "def run_mypy(d):\n",
        "    try:\n",
        "        outs = subprocess.run(\n",
        "            [\"java\", \".\"],\n",
        "            cwd=d,\n",
        "            capture_output=True,\n",
        "            timeout=120,\n",
        "            text=True,\n",
        "        ).stdout\n",
        "    except Exception as e:\n",
        "        print(e)\n",
        "        return None\n",
        "\n",
        "    filemap = {}\n",
        "    lines = outs.split(\"\\n\")\n",
        "    for line in lines:\n",
        "        if line.strip():\n",
        "            parts = line.split(\":\")\n",
        "            if len(parts) >= 2:\n",
        "                file = parts[0].split(\"/\")[-1]\n",
        "                if file not in filemap:\n",
        "                    filemap[file] = 0\n",
        "                if \"error:\" in line:\n",
        "                    filemap[file] += 1\n",
        "\n",
        "    return filemap\n",
        "\n",
        "def typecheck_batch(files: List[str]) -> Dict[str, str]:\n",
        "    # Create a temporary directory using the tempfile module\n",
        "    filemap: Dict[str, str] = {}\n",
        "    with tempfile.TemporaryDirectory() as tempdir:\n",
        "        for contents in files:\n",
        "            hash_object = hashlib.sha1(bytes(contents, \"utf8\"))\n",
        "            hex_dig = hash_object.hexdigest()\n",
        "            filemap[hex_dig] = contents\n",
        "            name = os.path.join(tempdir, hex_dig + \".py\")\n",
        "            with open(name, \"w\") as f:\n",
        "                f.write(contents)\n",
        "\n",
        "        # Run mypy in the temporary directory\n",
        "        typecheck_map = run_mypy(tempdir)\n",
        "        print(typecheck_map)\n",
        "\n",
        "        if typecheck_map is None:\n",
        "            return {}\n",
        "\n",
        "        for contents, errors in typecheck_map.items():\n",
        "            no_py = contents.replace(\".py\", \"\")\n",
        "            if errors == 0:\n",
        "                continue\n",
        "            if no_py in filemap:\n",
        "                del filemap[no_py]\n",
        "\n",
        "        print(f\"Pass rate: {len(filemap)}/{len(files)}\")\n",
        "        return filemap\n",
        "\n",
        "def infer_imports(code: str) -> str:\n",
        "    import autoimport\n",
        "    try:\n",
        "        def handler(signum, frame):\n",
        "            raise Exception(\"Timeout\")\n",
        "        signal.signal(signal.SIGALRM, handler)\n",
        "        signal.alarm(10)\n",
        "        inferred = autoimport.fix_code(code)\n",
        "        signal.alarm(0)\n",
        "        return inferred\n",
        "    except Exception as e:\n",
        "        signal.alarm(0)\n",
        "        print(f\"Error while inferring imports: {e}\")\n",
        "        return code"
      ],
      "outputs": [],
      "execution_count": 23,
      "metadata": {
        "gather": {
          "logged": 1747082784560
        }
      },
      "id": "f845e47f-e5f1-409e-8024-bd747c7ca736"
    },
    {
      "cell_type": "code",
      "source": [
        "print(\"Filtering to only functions with return statements\")\n",
        "ds = ds.filter(lambda ex: does_have_return(\n",
        "    ex[\"content\"]), num_proc=os.cpu_count())"
      ],
      "outputs": [
        {
          "output_type": "stream",
          "name": "stdout",
          "text": "Filtering to only functions with return statements\n"
        },
        {
          "output_type": "stream",
          "name": "stderr",
          "text": "Filter (num_proc=16): 100%|██████████| 1152832/1152832 [02:36<00:00, 7385.88 examples/s] \n"
        }
      ],
      "execution_count": 26,
      "metadata": {
        "gather": {
          "logged": 1747083035420
        }
      },
      "id": "c18ecde2-1862-4580-bcff-6c9ab4584679"
    },
    {
      "cell_type": "code",
      "source": [
        "ds"
      ],
      "outputs": [
        {
          "output_type": "execute_result",
          "execution_count": 31,
          "data": {
            "text/plain": "{'content': 'public java.lang.Integer getNumPontoDepol(){\\n        return this.numPontoDepol;\\n    }',\n 'id': 0}"
          },
          "metadata": {}
        }
      ],
      "execution_count": 31,
      "metadata": {
        "gather": {
          "logged": 1747083204493
        }
      },
      "id": "dbf5ee27-e71b-4809-bf89-175f0a5bb510"
    },
    {
      "cell_type": "code",
      "source": [
        "def run_javac(directory: str) -> Dict[str, int]:\n",
        "    try:\n",
        "        result = subprocess.run(\n",
        "            [\"javac\", \"*.java\"],\n",
        "            cwd=directory,\n",
        "            shell=True,\n",
        "            capture_output=True,\n",
        "            timeout=120,\n",
        "            text=True,\n",
        "        )\n",
        "        output = result.stderr  # `javac` prints errors to stderr\n",
        "    except Exception as e:\n",
        "        print(f\"Compilation error: {e}\")\n",
        "        return None\n",
        "\n",
        "    filemap = {}\n",
        "    for line in output.splitlines():\n",
        "        if \".java:\" in line:\n",
        "            file = line.split(\":\")[0].split(\"/\")[-1]\n",
        "            filemap[file] = filemap.get(file, 0) + 1\n",
        "    return filemap\n",
        "\n",
        "# --- Filter batch of Java snippets based on successful compilation ---\n",
        "def typecheck_batch(files: List[str]) -> Dict[str, str]:\n",
        "    filemap: Dict[str, str] = {}\n",
        "    with tempfile.TemporaryDirectory() as tempdir:\n",
        "        for contents in files:\n",
        "            hexname = hashlib.sha1(bytes(contents, \"utf8\")).hexdigest()\n",
        "            filemap[hexname] = contents\n",
        "            file_path = os.path.join(tempdir, hexname + \".java\")\n",
        "            with open(file_path, \"w\") as f:\n",
        "                f.write(contents)\n",
        "\n",
        "        compile_results = run_javac(tempdir)\n",
        "        print(\"Compilation results:\", compile_results)\n",
        "\n",
        "        if compile_results is None:\n",
        "            return {}\n",
        "\n",
        "        for filename, error_count in compile_results.items():\n",
        "            hexname = filename.replace(\".java\", \"\")\n",
        "            if error_count > 0 and hexname in filemap:\n",
        "                del filemap[hexname]\n",
        "\n",
        "        print(f\"✅ Pass rate: {len(filemap)}/{len(files)}\")\n",
        "        return filemap\n",
        "\n",
        "# --- Placeholder for Java imports (not implemented) ---\n",
        "def infer_imports(code: str) -> str:\n",
        "    # Java requires manual import handling; consider using a parser or model to infer\n",
        "    return code"
      ],
      "outputs": [],
      "execution_count": 32,
      "metadata": {
        "gather": {
          "logged": 1747083316873
        }
      },
      "id": "c84bf32d-28cb-4cce-a3ae-a3c0997c92fc"
    },
    {
      "cell_type": "code",
      "source": [
        "batch = []\n",
        "max_i = len(ds) - 1\n",
        "\n",
        "new_ds = {\n",
        "    \"content\": [],\n",
        "    \"sha1\": [],\n",
        "    \"id\": [],\n",
        "}\n",
        "\n",
        "e_id = 0\n",
        "\n",
        "for i, ex in enumerate(tqdm(ds, total=len(ds))):\n",
        "    try:\n",
        "        code = ex[\"content\"]\n",
        "\n",
        "        batch.append(code)\n",
        "\n",
        "        if len(batch) == 250 or i == max_i:\n",
        "            filemap = typecheck_batch(batch)\n",
        "            for sha1, contents in filemap.items():\n",
        "                new_ds[\"content\"].append(contents)\n",
        "                new_ds[\"sha1\"].append(sha1)\n",
        "                new_ds[\"id\"].append(e_id)\n",
        "                e_id += 1\n",
        "            batch = []\n",
        "            \n",
        "    except Exception as e:\n",
        "        print(f\"There was an error: {e}\")\n",
        "        continue\n",
        "\n",
        "new_ds_hf = datasets.Dataset.from_dict(new_ds)"
      ],
      "outputs": [
        {
          "output_type": "stream",
          "name": "stderr",
          "text": "100%|██████████| 180222/180222 [02:53<00:00, 1041.46it/s]\n"
        },
        {
          "output_type": "stream",
          "name": "stdout",
          "text": "Compilation results: {}\n✅ Pass rate: 250/250\nCompilation results: {}\n✅ Pass rate: 250/250\nCompilation results: {}\n✅ Pass rate: 250/250\nCompilation results: {}\n✅ Pass rate: 250/250\nCompilation results: {}\n✅ Pass rate: 250/250\nCompilation results: {}\n✅ Pass rate: 250/250\nCompilation results: {}\n✅ Pass rate: 250/250\nCompilation results: {}\n✅ Pass rate: 250/250\nCompilation results: {}\n✅ Pass rate: 250/250\nCompilation results: {}\n✅ Pass rate: 250/250\nCompilation results: {}\n✅ Pass rate: 250/250\nCompilation results: {}\n✅ Pass rate: 250/250\nCompilation results: {}\n✅ Pass rate: 250/250\nCompilation results: {}\n✅ Pass rate: 250/250\nCompilation results: {}\n✅ Pass rate: 250/250\nCompilation results: {}\n✅ Pass rate: 250/250\nCompilation results: {}\n✅ Pass rate: 250/250\nCompilation results: {}\n✅ Pass rate: 250/250\nCompilation results: {}\n✅ Pass rate: 250/250\nCompilation results: {}\n✅ Pass rate: 250/250\nCompilation results: {}\n✅ Pass rate: 250/250\nCompilation results: {}\n✅ Pass rate: 250/250\nCompilation results: {}\n✅ Pass rate: 250/250\nCompilation results: {}\n✅ Pass rate: 250/250\nCompilation results: {}\n✅ Pass rate: 250/250\nCompilation results: {}\n✅ Pass rate: 250/250\nCompilation results: {}\n✅ Pass rate: 250/250\nCompilation results: {}\n✅ Pass rate: 250/250\nCompilation results: {}\n✅ Pass rate: 250/250\nCompilation results: {}\n✅ Pass rate: 250/250\nCompilation results: {}\n✅ Pass rate: 250/250\nCompilation results: {}\n✅ Pass rate: 250/250\nCompilation results: {}\n✅ Pass rate: 250/250\nCompilation results: {}\n✅ Pass rate: 250/250\nCompilation results: {}\n✅ Pass rate: 250/250\nCompilation results: {}\n✅ Pass rate: 250/250\nCompilation results: {}\n✅ Pass rate: 250/250\nCompilation results: {}\n✅ Pass rate: 250/250\nCompilation results: {}\n✅ Pass rate: 250/250\nCompilation results: {}\n✅ Pass rate: 250/250\n"
        }
      ],
      "execution_count": 33,
      "metadata": {
        "gather": {
          "logged": 1747083499489
        }
      },
      "id": "75ae42be-cf31-4c61-9958-c8ae9ec9718c"
    },
    {
      "cell_type": "code",
      "source": [],
      "outputs": [],
      "execution_count": null,
      "metadata": {},
      "id": "71f6f54d-6f60-4401-a29e-4bfeb5325719"
    },
    {
      "cell_type": "code",
      "source": [
        "print(new_ds_hf['content'][0])"
      ],
      "outputs": [
        {
          "output_type": "stream",
          "name": "stdout",
          "text": "public java.lang.Integer getNumPontoDepol(){\n        return this.numPontoDepol;\n    }\n"
        }
      ],
      "execution_count": 34,
      "metadata": {
        "gather": {
          "logged": 1747083711790
        }
      },
      "id": "b341be7f-80e4-47ea-9c5f-8b1d51d62679"
    },
    {
      "cell_type": "code",
      "source": [
        "save_dir = \"../datasets/seed2\""
      ],
      "outputs": [],
      "execution_count": 35,
      "metadata": {
        "gather": {
          "logged": 1747083740853
        }
      },
      "id": "e8d597ef-75b6-4d6b-af49-fc913f056a3a"
    },
    {
      "cell_type": "code",
      "source": [
        "!zip -r seed2.zip ../datasets/seed2/"
      ],
      "outputs": [
        {
          "output_type": "stream",
          "name": "stdout",
          "text": "  adding: ../datasets/seed2/ (stored 0%)\n  adding: ../datasets/seed2/.amlignore (deflated 32%)\n  adding: ../datasets/seed2/.amlignore.amltmp (deflated 32%)\n  adding: ../datasets/seed2/data-00000-of-00001.arrow (deflated 67%)\n  adding: ../datasets/seed2/dataset_info.json (deflated 58%)\n  adding: ../datasets/seed2/state.json (deflated 38%)\n"
        }
      ],
      "execution_count": 2,
      "metadata": {},
      "id": "719beb62-fddb-4149-a740-e265fe6a2934"
    },
    {
      "cell_type": "code",
      "source": [
        "new_ds_hf.save_to_disk(save_dir)"
      ],
      "outputs": [
        {
          "output_type": "stream",
          "name": "stderr",
          "text": "\rSaving the dataset (0/1 shards):   0%|          | 0/180222 [00:00<?, ? examples/s]\rSaving the dataset (0/1 shards):  39%|███▉      | 71000/180222 [00:00<00:00, 354585.67 examples/s]\rSaving the dataset (1/1 shards): 100%|██████████| 180222/180222 [00:00<00:00, 354585.67 examples/s]\rSaving the dataset (1/1 shards): 100%|██████████| 180222/180222 [00:00<00:00, 262970.97 examples/s]\n"
        }
      ],
      "execution_count": 36,
      "metadata": {
        "gather": {
          "logged": 1747083750503
        }
      },
      "id": "d4ca53b0-402b-476b-9f88-b198e961cde5"
    },
    {
      "cell_type": "code",
      "source": [],
      "outputs": [],
      "execution_count": null,
      "metadata": {},
      "id": "00a1b737-3c6e-49c8-ae1f-d3e3627bcf32"
    },
    {
      "cell_type": "code",
      "source": [],
      "outputs": [],
      "execution_count": null,
      "metadata": {
        "id": "f1e6a4e5-2734-4602-80c9-5391521b391e"
      },
      "id": "f1e6a4e5-2734-4602-80c9-5391521b391e"
    },
    {
      "cell_type": "markdown",
      "source": [
        "### SEED GATHERING FILTER DATASET"
      ],
      "metadata": {
        "id": "53c67802-a173-4df2-b661-234745f0bfdf"
      },
      "id": "53c67802-a173-4df2-b661-234745f0bfdf"
    },
    {
      "cell_type": "code",
      "source": [
        "import datasets\n",
        "import os\n",
        "from tree_sitter_parser import global_parser, LANGUAGE, does_have_return, make_parser\n",
        "import benchmark_data\n",
        "from tqdm import tqdm\n",
        "import torch\n",
        "import argparse\n",
        "from vllm import LLM, SamplingParams\n",
        "import random"
      ],
      "outputs": [],
      "execution_count": 37,
      "metadata": {
        "id": "01086352-e230-4267-9b7b-feab665f681a",
        "gather": {
          "logged": 1747083929508
        }
      },
      "id": "01086352-e230-4267-9b7b-feab665f681a"
    },
    {
      "cell_type": "code",
      "source": [
        "\n",
        "FN_BLOCK_QUERY = LANGUAGE.query(\"\"\"\n",
        "(function_definition\n",
        "  body: (block) @fn-block)\n",
        "\"\"\")\n",
        "\n",
        "def template_few_shot_java(code, comment, answer, rationale):\n",
        "    assert answer in {\"Yes\", \"No\"}\n",
        "    prompt = f\"\"\"<issue_start>username_0: I have a method in Java and I'd like someone to check my comment describing this method.\n",
        "I'm doing this so that I can write better documentation for the method.\n",
        "\n",
        "Here is the code for the method:\n",
        "```java\n",
        "{code}\n",
        "```\n",
        "\n",
        "Here is my comment describing what it does:\n",
        "```\n",
        "{comment}\n",
        "```\n",
        "\n",
        "Do not attempt to execute the method or judge its correctness.\n",
        "Answer with \"Yes\" or \"No\" depending on whether the comment provides enough information to re-implement the method.\n",
        "Also, answer with \"No\" if the comment does not match the method.<issue_comment>username_1: Sure, no problem. I will be able to help.\n",
        "My answer is: {answer}\n",
        "\n",
        "{rationale}\n",
        "\n",
        "Upvotes: 200\"\"\"\n",
        "    return prompt\n",
        "\n",
        "FEW_SHOTS_JAVA = [\n",
        "    (\n",
        "        \"public static double inchesToCentimeters(double inches) {\\n    return inches * 2.54;\\n}\",\n",
        "        \"Converts inches to centimeters.\",\n",
        "        \"Yes\",\n",
        "        \"The comment clearly and concisely describes the function’s behavior: it multiplies inches by 2.54 to convert to centimeters.\",\n",
        "    ),\n",
        "    (\n",
        "        \"public static int max(int a, int b) {\\n    return (a > b) ? a : b;\\n}\",\n",
        "        \"Returns the smaller of two integers.\",\n",
        "        \"No\",\n",
        "        \"The comment is incorrect; the method actually returns the larger (maximum) of the two integers, not the smaller.\",\n",
        "    ),\n",
        "    (\n",
        "        \"public static int[] reverse(int[] arr) {\\n    int[] reversed = new int[arr.length];\\n    for (int i = 0; i < arr.length; i++) {\\n        reversed[i] = arr[arr.length - 1 - i];\\n    }\\n    return reversed;\\n}\",\n",
        "        \"Reverses an array of integers.\",\n",
        "        \"Yes\",\n",
        "        \"The method creates a new array and fills it by reversing the order of the original array elements. The description is accurate.\",\n",
        "    ),\n",
        "    (\n",
        "        \"public static void printHelloWorld() {\\n    System.out.println(\\\"Hello, World!\\\");\\n}\",\n",
        "        \"Prints a user's name to the console.\",\n",
        "        \"No\",\n",
        "        \"The comment is incorrect; the method prints 'Hello, World!' not a user’s name.\",\n",
        "    ),\n",
        "]\n",
        "\n",
        "def prompt_fmt_java(code, comment):\n",
        "    import random\n",
        "    random.shuffle(FEW_SHOTS_JAVA)\n",
        "    buf = \"\"\n",
        "    for few in FEW_SHOTS_JAVA:\n",
        "        buf += template_few_shot_java(*few)\n",
        "    buf += f\"\"\"<issue_start>username_0: I have a method in Java and I'd like someone to check my comment describing this method.\n",
        "I'm doing this so that I can write better documentation for the method.\n",
        "\n",
        "Here is the code for the method:\n",
        "```java\n",
        "{code}\n",
        "```\n",
        "\n",
        "Here is my comment describing what it does:\n",
        "```\n",
        "{comment}\n",
        "```\n",
        "\n",
        "Do not attempt to execute the method or judge its correctness.\n",
        "Answer with \"Yes\" or \"No\" depending on whether the comment provides enough information to re-implement the method.\n",
        "Also, answer with \"No\" if the comment does not match the method.\n",
        "Upvotes: 100<issue_comment>username_1: Sure, no problem. I will be able to help.\n",
        "My answer is:\"\"\"\n",
        "    return buf\n",
        "\n",
        "def auto_dtype():\n",
        "    if torch.cuda.is_bf16_supported():\n",
        "        return \"bfloat16\"\n",
        "    return \"auto\"\n",
        "\n",
        "\n",
        "def chunkify(lst, n):\n",
        "    chunks = []\n",
        "    for i in range(0, len(lst), n):\n",
        "        chunk = []\n",
        "        for j in range(n):\n",
        "            if i + j < len(lst):\n",
        "                chunk.append(lst[i + j])\n",
        "        chunks.append(chunk)\n",
        "    return chunks"
      ],
      "outputs": [],
      "execution_count": 39,
      "metadata": {
        "gather": {
          "logged": 1747084975814
        }
      },
      "id": "7088a754-d8cc-442e-8fbb-2d0f083bd04b"
    },
    {
      "cell_type": "code",
      "source": [
        "dataset = new_ds_hf"
      ],
      "outputs": [],
      "execution_count": 40,
      "metadata": {
        "gather": {
          "logged": 1747085064567
        }
      },
      "id": "c88aecdd-d071-4531-892b-dd21f8faee7c"
    },
    {
      "cell_type": "code",
      "source": [
        "len(dataset)"
      ],
      "outputs": [
        {
          "output_type": "execute_result",
          "execution_count": 41,
          "data": {
            "text/plain": "180222"
          },
          "metadata": {}
        }
      ],
      "execution_count": 41,
      "metadata": {
        "gather": {
          "logged": 1747085074530
        }
      },
      "id": "62238364-6e5e-4680-82f9-f316c033ffc0"
    },
    {
      "cell_type": "code",
      "source": [],
      "outputs": [],
      "execution_count": null,
      "metadata": {
        "id": "cbcfa4b2-d3bb-4560-9578-8ce15d4d68de"
      },
      "id": "cbcfa4b2-d3bb-4560-9578-8ce15d4d68de"
    },
    {
      "cell_type": "code",
      "source": [
        "print(f\"Loaded {len(dataset)} examples. Running pre-filtering...\")\n",
        "\n",
        "BAD_WORDS = [\"todo\", \"fixme\", \"bug\"]\n",
        "BAD_IMPORTS = [\"java.io\", \"java.lang.Runtime\", \"java.nio.file\", \"java.awt\", \n",
        "               \"javax.swing\", \"java.lang.reflect\"]\n",
        "BAD_IMPORTS = [f\"import {b}\" for b in BAD_IMPORTS]\n",
        "BAD_SUBSTRINGS = BAD_WORDS + BAD_IMPORTS\n",
        "\n",
        "bench_filter = benchmark_data.filter_out()\n",
        "all_bench = bench_filter[\"human_eval_docstrings\"] + \\\n",
        "    bench_filter[\"human_eval_solutions\"] + \\\n",
        "    bench_filter[\"mbpp_docstrings\"] + \\\n",
        "    bench_filter[\"mbpp_solutions\"]"
      ],
      "outputs": [
        {
          "output_type": "stream",
          "name": "stdout",
          "text": "Loaded 180222 examples. Running pre-filtering...\nnum strings from mbpp_docstrings: 120\nnum strings from mbpp_solutions: 120\nnum strings from human_eval_docstrings: 164\nnum strings from human_eval_solutions: 161\n"
        }
      ],
      "execution_count": 44,
      "metadata": {
        "scrolled": true,
        "colab": {
          "referenced_widgets": [
            "6cc5c7afd638438f837d3513e41968ee",
            "d563b531789d4981b3a31438af96abaf",
            "faee527a9fd04cc3a740d0cfded27770",
            "58fb96813a554309af105acc6b58090b",
            "683251936a844f2fabab848ddd9034d7",
            "8bd1753d870e42d3994cb8e2e7bf6941",
            "e89d5909e45f4ba2a1146dda37e2b943",
            "017de27a046e4bab95bfee9ee022f83a",
            "f7e6b09e9613407fad54e550a0a987a3",
            "1574aa332d6c4012a1aa642aec597bf9",
            "32da278b599b4fa0bda53851474f8d4b",
            "849071e4b57347549f0a3d9571b8ca50"
          ]
        },
        "id": "d0992371-9ad5-4ad9-8aaa-d74b25eb4da0",
        "outputId": "74c4008f-dca7-403c-be01-d307d752a326",
        "gather": {
          "logged": 1747085639484
        }
      },
      "id": "d0992371-9ad5-4ad9-8aaa-d74b25eb4da0"
    },
    {
      "cell_type": "code",
      "source": [
        "def pre_filtering(ex):\n",
        "    code = ex[\"content\"]\n",
        "    code_bytes = code.encode('utf-8')\n",
        "\n",
        "    # filter out bad substrings\n",
        "    lower = code.lower()\n",
        "    for word in BAD_SUBSTRINGS:\n",
        "        if word in lower:\n",
        "            return False\n",
        "\n",
        "    for b in all_bench:\n",
        "        if b in code:  # contaminated sample!\n",
        "            return False\n",
        "\n",
        "    # too many lines of code -- say 150\n",
        "    lines = code.split(\"\\n\")\n",
        "    if len(lines) > 150:\n",
        "        return False\n",
        "\n",
        "    # filter out functions with no return statement\n",
        "    parser = make_parser()\n",
        "    if not does_have_return(code, parser=parser):\n",
        "        return False\n",
        "\n",
        "\n",
        "    return True  # all good!\n",
        "\n",
        "\n",
        "threads = os.cpu_count() - 1  # type: ignore\n",
        "dataset2 = dataset.filter(pre_filtering, num_proc=threads)"
      ],
      "outputs": [],
      "execution_count": null,
      "metadata": {
        "colab": {
          "referenced_widgets": [
            "91980cb594b64a6c8db62ca2d2efa5a2"
          ]
        },
        "id": "1af077da-feac-4358-8702-e3c06927f0bf",
        "outputId": "e49f7e0f-0d84-46ba-c8a1-f796ace27740",
        "gather": {
          "logged": 1747086883024
        }
      },
      "id": "1af077da-feac-4358-8702-e3c06927f0bf"
    },
    {
      "cell_type": "code",
      "source": [
        "dataset"
      ],
      "outputs": [],
      "execution_count": 48,
      "metadata": {
        "id": "ff87dd56-0118-4c02-a46e-777191048250",
        "outputId": "63df8f00-de78-43bc-edbd-9109853c6508",
        "gather": {
          "logged": 1747087438798
        }
      },
      "id": "ff87dd56-0118-4c02-a46e-777191048250"
    },
    {
      "cell_type": "code",
      "source": [],
      "outputs": [],
      "execution_count": null,
      "metadata": {
        "id": "0b9fe5b8-dbd1-4d93-96ca-46186b36bbb1"
      },
      "id": "0b9fe5b8-dbd1-4d93-96ca-46186b36bbb1"
    },
    {
      "cell_type": "code",
      "source": [
        "model = LLM(f\"../../../StarCoder\", dtype=auto_dtype(),\n",
        "            gpu_memory_utilization=0.95, tensor_parallel_size=1)\n"
      ],
      "outputs": [],
      "execution_count": null,
      "metadata": {
        "colab": {
          "referenced_widgets": [
            "90846825eb634dcd9ba6cde2f924bf08"
          ]
        },
        "id": "5d9bb5f5-d5d8-468f-923e-8e8c94b99e75",
        "outputId": "849fb076-6533-4e25-9906-8ab674a2cd13",
        "gather": {
          "logged": 1747086681877
        }
      },
      "id": "5d9bb5f5-d5d8-468f-923e-8e8c94b99e75"
    },
    {
      "cell_type": "code",
      "source": [
        "tokenizer = model.get_tokenizer()"
      ],
      "outputs": [],
      "execution_count": null,
      "metadata": {
        "id": "8caba169-b4ca-49f7-9912-b163e0a08deb"
      },
      "id": "8caba169-b4ca-49f7-9912-b163e0a08deb"
    },
    {
      "cell_type": "code",
      "source": [
        "print(f\"Now running stage 3 filtering on {len(dataset)} examples...\")"
      ],
      "outputs": [
        {
          "output_type": "stream",
          "name": "stdout",
          "text": "Now running stage 3 filtering on 236926 examples...\n"
        }
      ],
      "execution_count": null,
      "metadata": {
        "id": "3188670a-403c-4e47-b230-22a3896fe9e5",
        "outputId": "53974987-a29e-468b-c2f7-39b407414b0f"
      },
      "id": "3188670a-403c-4e47-b230-22a3896fe9e5"
    },
    {
      "cell_type": "code",
      "source": [
        "def unindent(s):\n",
        "    lines = s.splitlines()\n",
        "    non_blank_lines = [line for line in lines if line.strip()]\n",
        "    min_indent = min(len(line) - len(line.lstrip())\n",
        "                     for line in non_blank_lines) if non_blank_lines else 0\n",
        "    unindented_lines = [line[min_indent:] if len(\n",
        "        line) >= min_indent else line for line in lines]\n",
        "    return '\\n'.join(unindented_lines)\n",
        "\n",
        "\n",
        "def py_extract_docstring(code):\n",
        "    first_doc = code.find('\"\"\"')\n",
        "    assert first_doc != -1\n",
        "    first_doc = first_doc + 3\n",
        "    second_doc = code[first_doc+1:].find('\"\"\"')\n",
        "    assert second_doc != -1\n",
        "    second_doc = second_doc + first_doc + 1\n",
        "    doc = code[first_doc:second_doc]\n",
        "    doc = unindent(doc).strip()\n",
        "    code = code[:first_doc-3] + code[second_doc+3:]\n",
        "    return doc, code\n",
        "\n"
      ],
      "outputs": [],
      "execution_count": null,
      "metadata": {
        "id": "f87ecf24-2e5a-4201-ba6c-cfcae19a9e65"
      },
      "id": "f87ecf24-2e5a-4201-ba6c-cfcae19a9e65"
    },
    {
      "cell_type": "code",
      "source": [
        "dummy = 'def dummy(): \\n    \"\"\"\\n    \"\"\"\\n pass'\n",
        "dummy_prompt = prompt_fmt(dummy)\n",
        "few_shot_toks = len(tokenizer.encode(\n",
        "    dummy_prompt)) - len(tokenizer.encode(dummy))\n",
        "print(f\"Few-shot prompt has {few_shot_toks} tokens\")"
      ],
      "outputs": [
        {
          "output_type": "stream",
          "name": "stdout",
          "text": "Few-shot prompt has 2573 tokens\n"
        }
      ],
      "execution_count": null,
      "metadata": {
        "id": "c7c13f00-6712-413d-a039-5964f3e7c45f",
        "outputId": "95cd7927-d774-4758-8c27-faefbd4baf7f"
      },
      "id": "c7c13f00-6712-413d-a039-5964f3e7c45f"
    },
    {
      "cell_type": "code",
      "source": [
        "prompts = []\n",
        "for ex in tqdm(dataset, total=len(dataset), desc=\"Generating prompts\"):\n",
        "    code = ex[\"content\"]\n",
        "    toks = len(tokenizer.encode(code)) + few_shot_toks\n",
        "    if toks > 16380:\n",
        "        print(f\"Skipping example with {toks} tokens\")\n",
        "        # to skip, just add dummy prompt\n",
        "        prompts.append(dummy_prompt)\n",
        "        continue\n",
        "    p = prompt_fmt(code)\n",
        "    prompts.append(p)\n",
        "\n",
        "responses = []\n",
        "for chunk in tqdm(chunkify(prompts, 512), desc=\"Generating responses\"):\n",
        "    outs = model.generate(chunk, SamplingParams(\n",
        "        temperature=0.0, stop=\"\\n\", max_tokens=5))\n",
        "    contents = [o.outputs[0].text for o in outs]\n",
        "    for c in contents:\n",
        "        yes_count = c.lower().count(\"yes\")\n",
        "        no_count = c.lower().count(\"no\")\n",
        "        if yes_count > no_count:\n",
        "            responses.append(True)\n",
        "        elif yes_count < no_count:\n",
        "            responses.append(False)\n",
        "        else:\n",
        "            # default to No\n",
        "            responses.append(False)\n",
        "\n"
      ],
      "outputs": [
        {
          "output_type": "stream",
          "name": "stderr",
          "text": "Generating prompts:  15%|██████████████████████▉                                                                                                                                  | 35479/236926 [00:21<02:06, 1588.67it/s]"
        },
        {
          "output_type": "stream",
          "name": "stdout",
          "text": "Skipping example with 29237 tokens\n"
        },
        {
          "output_type": "stream",
          "name": "stderr",
          "text": "Generating prompts:  35%|█████████████████████████████████████████████████████▊                                                                                                   | 83335/236926 [00:49<01:36, 1595.44it/s]"
        },
        {
          "output_type": "stream",
          "name": "stdout",
          "text": "Skipping example with 20286 tokens\n"
        },
        {
          "output_type": "stream",
          "name": "stderr",
          "text": "Generating prompts: 100%|████████████████████████████████████████████████████████████████████████████████████████████████████████████████████████████████████████████████████████| 236926/236926 [02:22<00:00, 1666.63it/s]\nGenerating responses:   0%|                                                                                                                                                                        | 0/463 [00:00<?, ?it/s]\nProcessed prompts:   0%|                                                                                                                       | 0/512 [00:00<?, ?it/s, est. speed input: 0.00 toks/s, output: 0.00 toks/s]\u001b[A\nProcessed prompts:   0%|▏                                                                                                          | 1/512 [01:10<10:04:01, 70.92s/it, est. speed input: 37.29 toks/s, output: 0.03 toks/s]\u001b[A\nProcessed prompts:  39%|████████████████████████████████████████▉                                                                 | 198/512 [02:22<03:12,  1.63it/s, est. speed input: 3930.46 toks/s, output: 2.78 toks/s]\u001b[A\nProcessed prompts: 100%|██████████████████████████████████████████████████████████████████████████████████████████████████████████| 512/512 [03:04<00:00,  2.78it/s, est. speed input: 7824.25 toks/s, output: 5.56 toks/s]\u001b[A\nGenerating responses:   0%|▎                                                                                                                                                           | 1/463 [03:06<23:56:08, 186.51s/it]\nProcessed prompts:   0%|                                                                                                                       | 0/512 [00:00<?, ?it/s, est. speed input: 0.00 toks/s, output: 0.00 toks/s]\u001b[A\nProcessed prompts:   0%|▏                                                                                                          | 1/512 [01:11<10:04:48, 71.01s/it, est. speed input: 37.33 toks/s, output: 0.03 toks/s]\u001b[A\nProcessed prompts:  39%|█████████████████████████████████████████▍                                                                | 200/512 [02:21<03:08,  1.65it/s, est. speed input: 3930.13 toks/s, output: 2.82 toks/s]\u001b[A\nProcessed prompts: 100%|██████████████████████████████████████████████████████████████████████████████████████████████████████████| 512/512 [03:04<00:00,  2.78it/s, est. speed input: 7824.97 toks/s, output: 5.56 toks/s]\u001b[A\nGenerating responses:   0%|▋                                                                                                                                                           | 2/463 [06:12<23:52:04, 186.39s/it]\nProcessed prompts:   0%|                                                                                                                       | 0/512 [00:00<?, ?it/s, est. speed input: 0.00 toks/s, output: 0.00 toks/s]\u001b[A\nProcessed prompts:   0%|▏                                                                                                          | 1/512 [01:10<10:03:32, 70.87s/it, est. speed input: 42.40 toks/s, output: 0.03 toks/s]\u001b[A\nProcessed prompts:  39%|█████████████████████████████████████████▏                                                                | 199/512 [02:21<03:10,  1.65it/s, est. speed input: 3925.27 toks/s, output: 2.80 toks/s]\u001b[A\nProcessed prompts: 100%|██████████████████████████████████████████████████████████████████████████████████████████████████████████| 512/512 [03:04<00:00,  2.77it/s, est. speed input: 7814.88 toks/s, output: 5.54 toks/s]\u001b[A\nGenerating responses:   1%|█                                                                                                                                                           | 3/463 [09:19<23:51:22, 186.70s/it]\nProcessed prompts:   0%|                                                                                                                       | 0/512 [00:00<?, ?it/s, est. speed input: 0.00 toks/s, output: 0.00 toks/s]\u001b[A\nProcessed prompts:   0%|▏                                                                                                          | 1/512 [01:10<10:04:24, 70.97s/it, est. speed input: 41.33 toks/s, output: 0.03 toks/s]\u001b[A\nProcessed prompts:  38%|████████████████████████████████████████▊                                                                 | 197/512 [02:22<03:13,  1.63it/s, est. speed input: 3921.02 toks/s, output: 2.77 toks/s]\u001b[A\nProcessed prompts: 100%|██████████████████████████████████████████████████████████████████████████████████████████████████████████| 512/512 [03:05<00:00,  2.76it/s, est. speed input: 7813.27 toks/s, output: 5.53 toks/s]\u001b[A\nGenerating responses:   1%|█▎                                                                                                                                                          | 4/463 [12:27<23:52:07, 187.21s/it]\nProcessed prompts:   0%|                                                                                                                       | 0/512 [00:00<?, ?it/s, est. speed input: 0.00 toks/s, output: 0.00 toks/s]\u001b[A\nProcessed prompts:   0%|▏                                                                                                          | 1/512 [01:10<10:03:53, 70.91s/it, est. speed input: 37.20 toks/s, output: 0.03 toks/s]\u001b[A\nProcessed prompts:  39%|█████████████████████████████████████████▏                                                                | 199/512 [02:21<03:09,  1.65it/s, est. speed input: 3935.83 toks/s, output: 2.81 toks/s]\u001b[A\nProcessed prompts: 100%|██████████████████████████████████████████████████████████████████████████████████████████████████████████| 512/512 [03:03<00:00,  2.80it/s, est. speed input: 7830.03 toks/s, output: 5.60 toks/s]\u001b[A\nGenerating responses:   1%|█▋                                                                                                                                                          | 5/463 [15:33<23:43:46, 186.52s/it]\nProcessed prompts:   0%|                                                                                                                       | 0/512 [00:00<?, ?it/s, est. speed input: 0.00 toks/s, output: 0.00 toks/s]\u001b[A\nProcessed prompts:   0%|▏                                                                                                          | 1/512 [01:11<10:08:33, 71.45s/it, est. speed input: 39.05 toks/s, output: 0.03 toks/s]\u001b[A\nProcessed prompts:  39%|█████████████████████████████████████████▏                                                                | 199/512 [02:22<03:10,  1.64it/s, est. speed input: 3936.23 toks/s, output: 2.79 toks/s]\u001b[A\nProcessed prompts: 100%|██████████████████████████████████████████████████████████████████████████████████████████████████████████| 512/512 [03:04<00:00,  2.77it/s, est. speed input: 7813.03 toks/s, output: 5.54 toks/s]\u001b[A\nGenerating responses:   1%|██                                                                                                                                                          | 6/463 [18:40<23:42:13, 186.73s/it]\nProcessed prompts:   0%|                                                                                                                       | 0/512 [00:00<?, ?it/s, est. speed input: 0.00 toks/s, output: 0.00 toks/s]\u001b[A\nProcessed prompts:   0%|▏                                                                                                          | 1/512 [01:11<10:07:43, 71.36s/it, est. speed input: 37.88 toks/s, output: 0.03 toks/s]\u001b[A\nProcessed prompts:  39%|█████████████████████████████████████████▏                                                                | 199/512 [02:22<03:10,  1.64it/s, est. speed input: 3937.51 toks/s, output: 2.79 toks/s]\u001b[A\nProcessed prompts: 100%|██████████████████████████████████████████████████████████████████████████████████████████████████████████| 512/512 [03:04<00:00,  2.77it/s, est. speed input: 7818.00 toks/s, output: 5.54 toks/s]\u001b[A\nGenerating responses:   2%|██▎                                                                                                                                                         | 7/463 [21:47<23:40:20, 186.89s/it]\nProcessed prompts:   0%|                                                                                                                       | 0/512 [00:00<?, ?it/s, est. speed input: 0.00 toks/s, output: 0.00 toks/s]\u001b[A\nProcessed prompts:   0%|▏                                                                                                          | 1/512 [01:10<10:04:35, 70.99s/it, est. speed input: 38.61 toks/s, output: 0.03 toks/s]\u001b[A\nProcessed prompts:  39%|█████████████████████████████████████████▍                                                                | 200/512 [02:22<03:09,  1.65it/s, est. speed input: 3926.13 toks/s, output: 2.81 toks/s]\u001b[A\nProcessed prompts: 100%|██████████████████████████████████████████████████████████████████████████████████████████████████████████| 512/512 [03:03<00:00,  2.78it/s, est. speed input: 7814.20 toks/s, output: 5.57 toks/s]\u001b[A\nGenerating responses:   2%|██▋                                                                                                                                                         | 8/463 [24:53<23:35:34, 186.67s/it]\nProcessed prompts:   0%|                                                                                                                       | 0/512 [00:00<?, ?it/s, est. speed input: 0.00 toks/s, output: 0.00 toks/s]\u001b[A\nProcessed prompts:   0%|▏                                                                                                          | 1/512 [01:11<10:06:15, 71.19s/it, est. speed input: 42.40 toks/s, output: 0.03 toks/s]\u001b[A\nProcessed prompts:  39%|████████████████████████████████████████▉                                                                 | 198/512 [02:21<03:11,  1.64it/s, est. speed input: 3943.63 toks/s, output: 2.79 toks/s]\u001b[A\nProcessed prompts: 100%|██████████████████████████████████████████████████████████████████████████████████████████████████████████| 512/512 [03:04<00:00,  2.78it/s, est. speed input: 7827.27 toks/s, output: 5.56 toks/s]\u001b[A\nGenerating responses:   2%|███                                                                                                                                                         | 9/463 [28:00<23:32:21, 186.65s/it]\nProcessed prompts:   0%|                                                                                                                       | 0/512 [00:00<?, ?it/s, est. speed input: 0.00 toks/s, output: 0.00 toks/s]\u001b[A\nProcessed prompts:   0%|▏                                                                                                          | 1/512 [01:10<10:04:21, 70.96s/it, est. speed input: 37.65 toks/s, output: 0.03 toks/s]\u001b[A\nProcessed prompts:  39%|█████████████████████████████████████████▏                                                                | 199/512 [02:22<03:10,  1.64it/s, est. speed input: 3932.41 toks/s, output: 2.80 toks/s]\u001b[A\nProcessed prompts: 100%|██████████████████████████████████████████████████████████████████████████████████████████████████████████| 512/512 [03:04<00:00,  2.77it/s, est. speed input: 7824.74 toks/s, output: 5.54 toks/s]\u001b[A\nGenerating responses:   2%|███▎                                                                                                                                                       | 10/463 [31:07<23:30:30, 186.82s/it]\nProcessed prompts:   0%|                                                                                                                       | 0/512 [00:00<?, ?it/s, est. speed input: 0.00 toks/s, output: 0.00 toks/s]\u001b[A\nProcessed prompts:   0%|▏                                                                                                          | 1/512 [01:10<10:04:35, 70.99s/it, est. speed input: 42.23 toks/s, output: 0.03 toks/s]\u001b[A\nProcessed prompts:  38%|████████████████████████████████████████▊                                                                 | 197/512 [02:22<03:14,  1.62it/s, est. speed input: 3914.35 toks/s, output: 2.76 toks/s]\u001b[A\nProcessed prompts: 100%|██████████████████████████████████████████████████████████████████████████████████████████████████████████| 512/512 [03:06<00:00,  2.74it/s, est. speed input: 7806.83 toks/s, output: 5.48 toks/s]\u001b[A\nGenerating responses:   2%|███▋                                                                                                                                                       | 11/463 [34:16<23:32:52, 187.55s/it]\nProcessed prompts:   0%|                                                                                                                       | 0/512 [00:00<?, ?it/s, est. speed input: 0.00 toks/s, output: 0.00 toks/s]\u001b[A\nProcessed prompts:   0%|▏                                                                                                          | 1/512 [01:11<10:04:58, 71.03s/it, est. speed input: 37.63 toks/s, output: 0.03 toks/s]\u001b[A\nProcessed prompts:  38%|████████████████████████████████████████▊                                                                 | 197/512 [02:21<03:13,  1.63it/s, est. speed input: 3935.86 toks/s, output: 2.77 toks/s]\u001b[A\nProcessed prompts: 100%|██████████████████████████████████████████████████████████████████████████████████████████████████████████| 512/512 [03:05<00:00,  2.76it/s, est. speed input: 7829.40 toks/s, output: 5.53 toks/s]\u001b[A\nGenerating responses:   3%|████                                                                                                                                                       | 12/463 [37:24<23:30:06, 187.60s/it]\nProcessed prompts:   0%|                                                                                                                       | 0/512 [00:00<?, ?it/s, est. speed input: 0.00 toks/s, output: 0.00 toks/s]\u001b[A\nProcessed prompts:   0%|▏                                                                                                          | 1/512 [01:10<10:03:32, 70.87s/it, est. speed input: 37.58 toks/s, output: 0.03 toks/s]\u001b[A\nProcessed prompts:  39%|█████████████████████████████████████████▏                                                                | 199/512 [02:21<03:09,  1.65it/s, est. speed input: 3933.35 toks/s, output: 2.81 toks/s]\u001b[A\nProcessed prompts: 100%|██████████████████████████████████████████████████████████████████████████████████████████████████████████| 512/512 [03:03<00:00,  2.79it/s, est. speed input: 7828.89 toks/s, output: 5.58 toks/s]\u001b[A\nGenerating responses:   3%|████▎                                                                                                                                                      | 13/463 [40:30<23:22:44, 187.03s/it]\nProcessed prompts:   0%|                                                                                                                       | 0/512 [00:00<?, ?it/s, est. speed input: 0.00 toks/s, output: 0.00 toks/s]\u001b[A\nProcessed prompts:   0%|▏                                                                                                          | 1/512 [01:11<10:05:10, 71.06s/it, est. speed input: 36.89 toks/s, output: 0.03 toks/s]\u001b[A\nProcessed prompts:  39%|█████████████████████████████████████████▍                                                                | 200/512 [02:21<03:08,  1.66it/s, est. speed input: 3941.70 toks/s, output: 2.82 toks/s]\u001b[A\nProcessed prompts: 100%|██████████████████████████████████████████████████████████████████████████████████████████████████████████| 512/512 [03:04<00:00,  2.78it/s, est. speed input: 7827.79 toks/s, output: 5.56 toks/s]\u001b[A\nGenerating responses:   3%|████▋                                                                                                                                                      | 14/463 [43:36<23:18:46, 186.92s/it]\nProcessed prompts:   0%|                                                                                                                       | 0/512 [00:00<?, ?it/s, est. speed input: 0.00 toks/s, output: 0.00 toks/s]\u001b[A\nProcessed prompts:   0%|▏                                                                                                          | 1/512 [01:11<10:05:46, 71.13s/it, est. speed input: 37.10 toks/s, output: 0.03 toks/s]\u001b[A\nProcessed prompts:  39%|████████████████████████████████████████▉                                                                 | 198/512 [02:22<03:12,  1.63it/s, est. speed input: 3919.81 toks/s, output: 2.78 toks/s]\u001b[A\nProcessed prompts: 100%|██████████████████████████████████████████████████████████████████████████████████████████████████████████| 512/512 [03:05<00:00,  2.76it/s, est. speed input: 7815.56 toks/s, output: 5.52 toks/s]\u001b[A\nGenerating responses:   3%|█████                                                                                                                                                      | 15/463 [46:44<23:18:04, 187.24s/it]\nProcessed prompts:   0%|                                                                                                                       | 0/512 [00:00<?, ?it/s, est. speed input: 0.00 toks/s, output: 0.00 toks/s]\u001b[A\nProcessed prompts:   0%|▏                                                                                                          | 1/512 [01:10<10:04:29, 70.98s/it, est. speed input: 37.34 toks/s, output: 0.03 toks/s]\u001b[A\nProcessed prompts:  38%|████████████████████████████████████████▌                                                                 | 196/512 [02:21<03:14,  1.62it/s, est. speed input: 3936.17 toks/s, output: 2.76 toks/s]\u001b[A\nProcessed prompts: 100%|██████████████████████████████████████████████████████████████████████████████████████████████████████████| 512/512 [03:05<00:00,  2.77it/s, est. speed input: 7834.16 toks/s, output: 5.53 toks/s]\u001b[A\nGenerating responses:   3%|█████▎                                                                                                                                                     | 16/463 [49:52<23:15:43, 187.35s/it]\nProcessed prompts:   0%|                                                                                                                       | 0/512 [00:00<?, ?it/s, est. speed input: 0.00 toks/s, output: 0.00 toks/s]\u001b[A\nProcessed prompts:   0%|▏                                                                                                          | 1/512 [01:10<10:04:06, 70.93s/it, est. speed input: 37.68 toks/s, output: 0.03 toks/s]\u001b[A\nProcessed prompts:  39%|████████████████████████████████████████▉                                                                 | 198/512 [02:22<03:12,  1.63it/s, est. speed input: 3930.48 toks/s, output: 2.78 toks/s]\u001b[A\nProcessed prompts: 100%|██████████████████████████████████████████████████████████████████████████████████████████████████████████| 512/512 [03:04<00:00,  2.78it/s, est. speed input: 7839.28 toks/s, output: 5.56 toks/s]\u001b[A\nGenerating responses:   4%|█████▋                                                                                                                                                     | 17/463 [52:59<23:11:07, 187.15s/it]\nProcessed prompts:   0%|                                                                                                                       | 0/512 [00:00<?, ?it/s, est. speed input: 0.00 toks/s, output: 0.00 toks/s]\u001b[A\nProcessed prompts:   0%|▏                                                                                                          | 1/512 [01:10<10:03:06, 70.82s/it, est. speed input: 36.91 toks/s, output: 0.03 toks/s]\u001b[A\nProcessed prompts:  38%|████████████████████████████████████████▊                                                                 | 197/512 [02:21<03:13,  1.63it/s, est. speed input: 3929.15 toks/s, output: 2.78 toks/s]\u001b[A\nProcessed prompts: 100%|██████████████████████████████████████████████████████████████████████████████████████████████████████████| 512/512 [03:04<00:00,  2.77it/s, est. speed input: 7826.77 toks/s, output: 5.54 toks/s]\u001b[A\nGenerating responses:   4%|██████                                                                                                                                                     | 18/463 [56:06<23:08:01, 187.15s/it]\nProcessed prompts:   0%|                                                                                                                       | 0/512 [00:00<?, ?it/s, est. speed input: 0.00 toks/s, output: 0.00 toks/s]\u001b[A\nProcessed prompts:   0%|▏                                                                                                          | 1/512 [01:11<10:06:11, 71.18s/it, est. speed input: 36.92 toks/s, output: 0.03 toks/s]\u001b[A\nProcessed prompts:  39%|████████████████████████████████████████▉                                                                 | 198/512 [02:22<03:11,  1.64it/s, est. speed input: 3939.50 toks/s, output: 2.79 toks/s]\u001b[A\nProcessed prompts: 100%|██████████████████████████████████████████████████████████████████████████████████████████████████████████| 512/512 [03:04<00:00,  2.77it/s, est. speed input: 7837.48 toks/s, output: 5.55 toks/s]\u001b[A\nGenerating responses:   4%|██████▎                                                                                                                                                    | 19/463 [59:13<23:06:00, 187.30s/it]\nProcessed prompts:   0%|                                                                                                                       | 0/512 [00:00<?, ?it/s, est. speed input: 0.00 toks/s, output: 0.00 toks/s]\u001b[A\nProcessed prompts:   0%|▏                                                                                                          | 1/512 [01:11<10:04:52, 71.02s/it, est. speed input: 39.57 toks/s, output: 0.03 toks/s]\u001b[A\nProcessed prompts:  39%|█████████████████████████████████████████▏                                                                | 199/512 [02:22<03:10,  1.65it/s, est. speed input: 3935.99 toks/s, output: 2.80 toks/s]\u001b[A\nProcessed prompts: 100%|██████████████████████████████████████████████████████████████████████████████████████████████████████████| 512/512 [03:03<00:00,  2.78it/s, est. speed input: 7831.19 toks/s, output: 5.57 toks/s]\u001b[A\nGenerating responses:   4%|██████▌                                                                                                                                                  | 20/463 [1:02:20<23:00:38, 187.00s/it]\nProcessed prompts:   0%|                                                                                                                       | 0/512 [00:00<?, ?it/s, est. speed input: 0.00 toks/s, output: 0.00 toks/s]\u001b[A\nProcessed prompts:   0%|▏                                                                                                          | 1/512 [01:10<10:03:36, 70.87s/it, est. speed input: 37.59 toks/s, output: 0.03 toks/s]\u001b[A\nProcessed prompts:  39%|█████████████████████████████████████████▍                                                                | 200/512 [02:21<03:08,  1.66it/s, est. speed input: 3935.19 toks/s, output: 2.82 toks/s]\u001b[A\nProcessed prompts: 100%|██████████████████████████████████████████████████████████████████████████████████████████████████████████| 512/512 [03:03<00:00,  2.79it/s, est. speed input: 7825.25 toks/s, output: 5.58 toks/s]\u001b[A\nGenerating responses:   5%|██████▉                                                                                                                                                  | 21/463 [1:05:26<22:55:13, 186.68s/it]\nProcessed prompts:   0%|                                                                                                                       | 0/512 [00:00<?, ?it/s, est. speed input: 0.00 toks/s, output: 0.00 toks/s]\u001b[A\nProcessed prompts:   0%|▏                                                                                                          | 1/512 [01:10<10:03:34, 70.87s/it, est. speed input: 38.35 toks/s, output: 0.03 toks/s]\u001b[A\nProcessed prompts:  39%|████████████████████████████████████████▉                                                                 | 198/512 [02:21<03:11,  1.64it/s, est. speed input: 3940.36 toks/s, output: 2.80 toks/s]\u001b[A\nProcessed prompts: 100%|██████████████████████████████████████████████████████████████████████████████████████████████████████████| 512/512 [03:03<00:00,  2.79it/s, est. speed input: 7846.52 toks/s, output: 5.59 toks/s]\u001b[A\nGenerating responses:   5%|███████▎                                                                                                                                                 | 22/463 [1:08:31<22:49:51, 186.37s/it]\nProcessed prompts:   0%|                                                                                                                       | 0/512 [00:00<?, ?it/s, est. speed input: 0.00 toks/s, output: 0.00 toks/s]\u001b[A\nProcessed prompts:   0%|▏                                                                                                          | 1/512 [01:10<10:04:37, 70.99s/it, est. speed input: 37.98 toks/s, output: 0.03 toks/s]\u001b[A\nProcessed prompts:  38%|████████████████████████████████████████▊                                                                 | 197/512 [02:22<03:13,  1.63it/s, est. speed input: 3939.45 toks/s, output: 2.77 toks/s]\u001b[A\nProcessed prompts: 100%|██████████████████████████████████████████████████████████████████████████████████████████████████████████| 512/512 [03:04<00:00,  2.77it/s, est. speed input: 7836.49 toks/s, output: 5.55 toks/s]\u001b[A\nGenerating responses:   5%|███████▌                                                                                                                                                 | 23/463 [1:11:38<22:48:18, 186.59s/it]\nProcessed prompts:   0%|                                                                                                                       | 0/512 [00:00<?, ?it/s, est. speed input: 0.00 toks/s, output: 0.00 toks/s]\u001b[A\nProcessed prompts:   0%|▏                                                                                                          | 1/512 [01:11<10:04:57, 71.03s/it, est. speed input: 38.32 toks/s, output: 0.03 toks/s]\u001b[A\nProcessed prompts:  38%|████████████████████████████████████████▎                                                                 | 195/512 [02:22<03:16,  1.61it/s, est. speed input: 3931.01 toks/s, output: 2.74 toks/s]\u001b[A\nProcessed prompts: 100%|██████████████████████████████████████████████████████████████████████████████████████████████████████████| 512/512 [03:05<00:00,  2.76it/s, est. speed input: 7840.37 toks/s, output: 5.51 toks/s]\u001b[A\nGenerating responses:   5%|███████▉                                                                                                                                                 | 24/463 [1:14:47<22:48:44, 187.07s/it]\nProcessed prompts:   0%|                                                                                                                       | 0/512 [00:00<?, ?it/s, est. speed input: 0.00 toks/s, output: 0.00 toks/s]\u001b[A\nProcessed prompts:   0%|▏                                                                                                          | 1/512 [01:10<10:04:08, 70.94s/it, est. speed input: 37.15 toks/s, output: 0.03 toks/s]\u001b[A\nProcessed prompts:  38%|████████████████████████████████████████▌                                                                 | 196/512 [02:21<03:14,  1.63it/s, est. speed input: 3937.12 toks/s, output: 2.77 toks/s]\u001b[A\nProcessed prompts: 100%|██████████████████████████████████████████████████████████████████████████████████████████████████████████| 512/512 [03:03<00:00,  2.79it/s, est. speed input: 7840.00 toks/s, output: 5.58 toks/s]\u001b[A\nGenerating responses:   5%|████████▎                                                                                                                                                | 25/463 [1:17:53<22:43:13, 186.74s/it]\nProcessed prompts:   0%|                                                                                                                       | 0/512 [00:00<?, ?it/s, est. speed input: 0.00 toks/s, output: 0.00 toks/s]\u001b[A\nProcessed prompts:   0%|▏                                                                                                          | 1/512 [01:11<10:05:34, 71.10s/it, est. speed input: 36.99 toks/s, output: 0.03 toks/s]\u001b[A\nProcessed prompts:  38%|████████████████████████████████████████▊                                                                 | 197/512 [02:22<03:13,  1.63it/s, est. speed input: 3938.02 toks/s, output: 2.77 toks/s]\u001b[A\nProcessed prompts: 100%|██████████████████████████████████████████████████████████████████████████████████████████████████████████| 512/512 [03:05<00:00,  2.76it/s, est. speed input: 7822.34 toks/s, output: 5.53 toks/s]\u001b[A\nGenerating responses:   6%|████████▌                                                                                                                                                | 26/463 [1:21:00<22:42:25, 187.06s/it]\nProcessed prompts:   0%|                                                                                                                       | 0/512 [00:00<?, ?it/s, est. speed input: 0.00 toks/s, output: 0.00 toks/s]\u001b[A\nProcessed prompts:   0%|▏                                                                                                          | 1/512 [01:11<10:05:32, 71.10s/it, est. speed input: 39.00 toks/s, output: 0.03 toks/s]\u001b[A\nProcessed prompts:  39%|█████████████████████████████████████████▏                                                                | 199/512 [02:22<03:10,  1.64it/s, est. speed input: 3942.56 toks/s, output: 2.80 toks/s]\u001b[A\nProcessed prompts: 100%|██████████████████████████████████████████████████████████████████████████████████████████████████████████| 512/512 [03:03<00:00,  2.79it/s, est. speed input: 7838.84 toks/s, output: 5.58 toks/s]\u001b[A\nGenerating responses:   6%|████████▉                                                                                                                                                | 27/463 [1:24:07<22:38:15, 186.92s/it]\nProcessed prompts:   0%|                                                                                                                       | 0/512 [00:00<?, ?it/s, est. speed input: 0.00 toks/s, output: 0.00 toks/s]\u001b[A\nProcessed prompts:   0%|▏                                                                                                          | 1/512 [01:11<10:04:56, 71.03s/it, est. speed input: 36.84 toks/s, output: 0.03 toks/s]\u001b[A\nProcessed prompts:  38%|████████████████████████████████████████▊                                                                 | 197/512 [02:22<03:13,  1.63it/s, est. speed input: 3933.93 toks/s, output: 2.77 toks/s]\u001b[A\nProcessed prompts: 100%|██████████████████████████████████████████████████████████████████████████████████████████████████████████| 512/512 [03:04<00:00,  2.77it/s, est. speed input: 7832.41 toks/s, output: 5.54 toks/s]\u001b[A\nGenerating responses:   6%|█████████▎                                                                                                                                               | 28/463 [1:27:14<22:35:38, 186.98s/it]\nProcessed prompts:   0%|                                                                                                                       | 0/512 [00:00<?, ?it/s, est. speed input: 0.00 toks/s, output: 0.00 toks/s]\u001b[A\nProcessed prompts:   0%|▏                                                                                                          | 1/512 [01:11<10:06:01, 71.16s/it, est. speed input: 49.24 toks/s, output: 0.03 toks/s]\u001b[A\nProcessed prompts:  39%|█████████████████████████████████████████▏                                                                | 199/512 [02:22<03:10,  1.64it/s, est. speed input: 3943.99 toks/s, output: 2.80 toks/s]\u001b[A\nProcessed prompts: 100%|██████████████████████████████████████████████████████████████████████████████████████████████████████████| 512/512 [03:04<00:00,  2.78it/s, est. speed input: 7836.50 toks/s, output: 5.56 toks/s]\u001b[A\nGenerating responses:   6%|█████████▌                                                                                                                                               | 29/463 [1:30:21<22:31:39, 186.86s/it]\nProcessed prompts:   0%|                                                                                                                       | 0/512 [00:00<?, ?it/s, est. speed input: 0.00 toks/s, output: 0.00 toks/s]\u001b[A\nProcessed prompts:   0%|▏                                                                                                          | 1/512 [01:11<10:04:59, 71.04s/it, est. speed input: 44.58 toks/s, output: 0.03 toks/s]\u001b[A\nProcessed prompts:  39%|████████████████████████████████████████▉                                                                 | 198/512 [02:21<03:11,  1.64it/s, est. speed input: 3934.28 toks/s, output: 2.79 toks/s]\u001b[A\nProcessed prompts: 100%|██████████████████████████████████████████████████████████████████████████████████████████████████████████| 512/512 [03:04<00:00,  2.78it/s, est. speed input: 7828.58 toks/s, output: 5.56 toks/s]\u001b[A\nGenerating responses:   6%|█████████▉                                                                                                                                               | 30/463 [1:33:27<22:27:54, 186.78s/it]\nProcessed prompts:   0%|                                                                                                                       | 0/512 [00:00<?, ?it/s, est. speed input: 0.00 toks/s, output: 0.00 toks/s]\u001b[A\nProcessed prompts:   0%|▏                                                                                                          | 1/512 [01:10<10:03:08, 70.82s/it, est. speed input: 40.89 toks/s, output: 0.03 toks/s]\u001b[A\nProcessed prompts:  39%|█████████████████████████████████████████▏                                                                | 199/512 [02:21<03:09,  1.65it/s, est. speed input: 3940.69 toks/s, output: 2.81 toks/s]\u001b[A\nProcessed prompts: 100%|██████████████████████████████████████████████████████████████████████████████████████████████████████████| 512/512 [03:02<00:00,  2.80it/s, est. speed input: 7845.99 toks/s, output: 5.61 toks/s]\u001b[A\nGenerating responses:   7%|██████████▏                                                                                                                                              | 31/463 [1:36:32<22:21:03, 186.26s/it]\nProcessed prompts:   0%|                                                                                                                       | 0/512 [00:00<?, ?it/s, est. speed input: 0.00 toks/s, output: 0.00 toks/s]\u001b[A\nProcessed prompts:   0%|▏                                                                                                          | 1/512 [01:11<10:04:52, 71.02s/it, est. speed input: 41.11 toks/s, output: 0.03 toks/s]\u001b[A\nProcessed prompts:  39%|█████████████████████████████████████████▌                                                                | 201/512 [02:21<03:06,  1.67it/s, est. speed input: 3948.24 toks/s, output: 2.84 toks/s]\u001b[A\nProcessed prompts: 100%|██████████████████████████████████████████████████████████████████████████████████████████████████████████| 512/512 [03:02<00:00,  2.81it/s, est. speed input: 7844.74 toks/s, output: 5.61 toks/s]\u001b[A\nGenerating responses:   7%|██████████▌                                                                                                                                              | 32/463 [1:39:37<22:15:13, 185.88s/it]\nProcessed prompts:   0%|                                                                                                                       | 0/512 [00:00<?, ?it/s, est. speed input: 0.00 toks/s, output: 0.00 toks/s]\u001b[A\nProcessed prompts:   0%|▏                                                                                                          | 1/512 [01:10<10:03:58, 70.92s/it, est. speed input: 37.16 toks/s, output: 0.03 toks/s]\u001b[A\nProcessed prompts:  38%|████████████████████████████████████████▌                                                                 | 196/512 [02:21<03:14,  1.62it/s, est. speed input: 3945.16 toks/s, output: 2.76 toks/s]\u001b[A\nProcessed prompts: 100%|██████████████████████████████████████████████████████████████████████████████████████████████████████████| 512/512 [03:05<00:00,  2.76it/s, est. speed input: 7842.01 toks/s, output: 5.52 toks/s]\u001b[A\nGenerating responses:   7%|██████████▉                                                                                                                                              | 33/463 [1:42:45<22:16:26, 186.48s/it]\nProcessed prompts:   0%|                                                                                                                       | 0/512 [00:00<?, ?it/s, est. speed input: 0.00 toks/s, output: 0.00 toks/s]\u001b[A\nProcessed prompts:   0%|▏                                                                                                          | 1/512 [01:11<10:08:28, 71.44s/it, est. speed input: 37.96 toks/s, output: 0.03 toks/s]\u001b[A\nProcessed prompts:  39%|████████████████████████████████████████▉                                                                 | 198/512 [02:22<03:11,  1.64it/s, est. speed input: 3916.30 toks/s, output: 2.78 toks/s]\u001b[A\nProcessed prompts: 100%|██████████████████████████████████████████████████████████████████████████████████████████████████████████| 512/512 [03:05<00:00,  2.76it/s, est. speed input: 7801.27 toks/s, output: 5.52 toks/s]\u001b[A\nGenerating responses:   7%|███████████▏                                                                                                                                             | 34/463 [1:45:53<22:16:35, 186.94s/it]\nProcessed prompts:   0%|                                                                                                                       | 0/512 [00:00<?, ?it/s, est. speed input: 0.00 toks/s, output: 0.00 toks/s]\u001b[A\nProcessed prompts:   0%|▏                                                                                                          | 1/512 [01:10<10:02:46, 70.78s/it, est. speed input: 37.92 toks/s, output: 0.03 toks/s]\u001b[A\nProcessed prompts:  39%|████████████████████████████████████████▉                                                                 | 198/512 [02:21<03:11,  1.64it/s, est. speed input: 3928.88 toks/s, output: 2.79 toks/s]\u001b[A\nProcessed prompts: 100%|██████████████████████████████████████████████████████████████████████████████████████████████████████████| 512/512 [03:04<00:00,  2.78it/s, est. speed input: 7832.14 toks/s, output: 5.56 toks/s]\u001b[A\nGenerating responses:   8%|███████████▌                                                                                                                                             | 35/463 [1:49:00<22:12:42, 186.83s/it]\nProcessed prompts:   0%|                                                                                                                       | 0/512 [00:00<?, ?it/s, est. speed input: 0.00 toks/s, output: 0.00 toks/s]\u001b[A\nProcessed prompts:   0%|▏                                                                                                          | 1/512 [01:10<10:04:10, 70.94s/it, est. speed input: 36.86 toks/s, output: 0.03 toks/s]\u001b[A\nProcessed prompts:  38%|████████████████████████████████████████▊                                                                 | 197/512 [02:21<03:12,  1.63it/s, est. speed input: 3936.50 toks/s, output: 2.78 toks/s]\u001b[A\nProcessed prompts: 100%|██████████████████████████████████████████████████████████████████████████████████████████████████████████| 512/512 [03:04<00:00,  2.77it/s, est. speed input: 7828.07 toks/s, output: 5.55 toks/s]\u001b[A\nGenerating responses:   8%|███████████▉                                                                                                                                             | 36/463 [1:52:07<22:10:08, 186.91s/it]\nProcessed prompts:   0%|                                                                                                                       | 0/512 [00:00<?, ?it/s, est. speed input: 0.00 toks/s, output: 0.00 toks/s]\u001b[A\nProcessed prompts:   0%|▏                                                                                                          | 1/512 [01:11<10:05:48, 71.13s/it, est. speed input: 37.90 toks/s, output: 0.03 toks/s]\u001b[A\nProcessed prompts:  39%|████████████████████████████████████████▉                                                                 | 198/512 [02:22<03:11,  1.64it/s, est. speed input: 3939.37 toks/s, output: 2.79 toks/s]\u001b[A\nProcessed prompts: 100%|██████████████████████████████████████████████████████████████████████████████████████████████████████████| 512/512 [03:04<00:00,  2.77it/s, est. speed input: 7828.89 toks/s, output: 5.55 toks/s]\u001b[A\nGenerating responses:   8%|████████████▏                                                                                                                                            | 37/463 [1:55:14<22:07:31, 186.97s/it]\nProcessed prompts:   0%|                                                                                                                       | 0/512 [00:00<?, ?it/s, est. speed input: 0.00 toks/s, output: 0.00 toks/s]\u001b[A\nProcessed prompts:   0%|▏                                                                                                          | 1/512 [01:11<10:06:30, 71.21s/it, est. speed input: 62.29 toks/s, output: 0.03 toks/s]\u001b[A\nProcessed prompts:  39%|████████████████████████████████████████▉                                                                 | 198/512 [02:22<03:11,  1.64it/s, est. speed input: 3941.71 toks/s, output: 2.79 toks/s]\u001b[A\nProcessed prompts: 100%|██████████████████████████████████████████████████████████████████████████████████████████████████████████| 512/512 [03:04<00:00,  2.78it/s, est. speed input: 7827.77 toks/s, output: 5.55 toks/s]\u001b[A\nGenerating responses:   8%|████████████▌                                                                                                                                            | 38/463 [1:58:21<22:04:18, 186.96s/it]\nProcessed prompts:   0%|                                                                                                                       | 0/512 [00:00<?, ?it/s, est. speed input: 0.00 toks/s, output: 0.00 toks/s]\u001b[A\nProcessed prompts:   0%|▏                                                                                                          | 1/512 [01:11<10:05:06, 71.05s/it, est. speed input: 45.22 toks/s, output: 0.03 toks/s]\u001b[A\nProcessed prompts:  39%|█████████████████████████████████████████▏                                                                | 199/512 [02:22<03:10,  1.64it/s, est. speed input: 3933.51 toks/s, output: 2.80 toks/s]\u001b[A\nProcessed prompts: 100%|██████████████████████████████████████████████████████████████████████████████████████████████████████████| 512/512 [03:04<00:00,  2.78it/s, est. speed input: 7827.57 toks/s, output: 5.55 toks/s]\u001b[A\nGenerating responses:   8%|████████████▉                                                                                                                                            | 39/463 [2:01:28<22:00:55, 186.92s/it]\nProcessed prompts:   0%|                                                                                                                       | 0/512 [00:00<?, ?it/s, est. speed input: 0.00 toks/s, output: 0.00 toks/s]\u001b[A\nProcessed prompts:   0%|▏                                                                                                          | 1/512 [01:10<10:03:08, 70.82s/it, est. speed input: 37.18 toks/s, output: 0.03 toks/s]\u001b[A\nProcessed prompts:  39%|████████████████████████████████████████▉                                                                 | 198/512 [02:21<03:11,  1.64it/s, est. speed input: 3936.61 toks/s, output: 2.80 toks/s]\u001b[A\nProcessed prompts: 100%|██████████████████████████████████████████████████████████████████████████████████████████████████████████| 512/512 [03:04<00:00,  2.78it/s, est. speed input: 7824.17 toks/s, output: 5.56 toks/s]\u001b[A\nGenerating responses:   9%|█████████████▏                                                                                                                                           | 40/463 [2:04:34<21:57:05, 186.82s/it]\nProcessed prompts:   0%|                                                                                                                       | 0/512 [00:00<?, ?it/s, est. speed input: 0.00 toks/s, output: 0.00 toks/s]\u001b[A\nProcessed prompts:   0%|▏                                                                                                          | 1/512 [01:10<10:03:13, 70.83s/it, est. speed input: 41.20 toks/s, output: 0.03 toks/s]\u001b[A\nProcessed prompts:  39%|█████████████████████████████████████████▍                                                                | 200/512 [02:21<03:08,  1.65it/s, est. speed input: 3939.12 toks/s, output: 2.82 toks/s]\u001b[A\nProcessed prompts: 100%|██████████████████████████████████████████████████████████████████████████████████████████████████████████| 512/512 [03:04<00:00,  2.78it/s, est. speed input: 7830.29 toks/s, output: 5.56 toks/s]\u001b[A\nGenerating responses:   9%|█████████████▌                                                                                                                                           | 41/463 [2:07:41<21:53:26, 186.75s/it]\nProcessed prompts:   0%|                                                                                                                       | 0/512 [00:00<?, ?it/s, est. speed input: 0.00 toks/s, output: 0.00 toks/s]\u001b[A\nProcessed prompts:   0%|▏                                                                                                          | 1/512 [01:10<10:04:02, 70.92s/it, est. speed input: 37.24 toks/s, output: 0.03 toks/s]\u001b[A\nProcessed prompts:  39%|█████████████████████████████████████████▏                                                                | 199/512 [02:21<03:09,  1.65it/s, est. speed input: 3938.29 toks/s, output: 2.81 toks/s]\u001b[A\nProcessed prompts: 100%|██████████████████████████████████████████████████████████████████████████████████████████████████████████| 512/512 [03:03<00:00,  2.79it/s, est. speed input: 7834.91 toks/s, output: 5.59 toks/s]\u001b[A\nGenerating responses:   9%|█████████████▉                                                                                                                                           | 42/463 [2:10:47<21:49:13, 186.59s/it]\nProcessed prompts:   0%|                                                                                                                       | 0/512 [00:00<?, ?it/s, est. speed input: 0.00 toks/s, output: 0.00 toks/s]\u001b[A\nProcessed prompts:   0%|▏                                                                                                          | 1/512 [01:10<10:04:11, 70.94s/it, est. speed input: 38.40 toks/s, output: 0.03 toks/s]\u001b[A\nProcessed prompts:  38%|████████████████████████████████████████▊                                                                 | 197/512 [02:22<03:13,  1.63it/s, est. speed input: 3926.81 toks/s, output: 2.77 toks/s]\u001b[A\nProcessed prompts: 100%|██████████████████████████████████████████████████████████████████████████████████████████████████████████| 512/512 [03:04<00:00,  2.78it/s, est. speed input: 7822.57 toks/s, output: 5.55 toks/s]\u001b[A\nGenerating responses:   9%|██████████████▏                                                                                                                                          | 43/463 [2:13:54<21:46:44, 186.68s/it]\nProcessed prompts:   0%|                                                                                                                       | 0/512 [00:00<?, ?it/s, est. speed input: 0.00 toks/s, output: 0.00 toks/s]\u001b[A\nProcessed prompts:   0%|▏                                                                                                          | 1/512 [01:11<10:04:50, 71.02s/it, est. speed input: 52.72 toks/s, output: 0.03 toks/s]\u001b[A\nProcessed prompts:  38%|████████████████████████████████████████▊                                                                 | 197/512 [02:21<03:13,  1.63it/s, est. speed input: 3934.61 toks/s, output: 2.78 toks/s]\u001b[A\nProcessed prompts: 100%|██████████████████████████████████████████████████████████████████████████████████████████████████████████| 512/512 [03:03<00:00,  2.79it/s, est. speed input: 7835.54 toks/s, output: 5.58 toks/s]\u001b[A\nGenerating responses:  10%|██████████████▌                                                                                                                                          | 44/463 [2:17:00<21:42:30, 186.52s/it]\nProcessed prompts:   0%|                                                                                                                       | 0/512 [00:00<?, ?it/s, est. speed input: 0.00 toks/s, output: 0.00 toks/s]\u001b[A\nProcessed prompts:   0%|▏                                                                                                          | 1/512 [01:11<10:05:00, 71.04s/it, est. speed input: 36.92 toks/s, output: 0.03 toks/s]\u001b[A\nProcessed prompts:  38%|████████████████████████████████████████▌                                                                 | 196/512 [02:22<03:15,  1.62it/s, est. speed input: 3928.34 toks/s, output: 2.75 toks/s]\u001b[A\nProcessed prompts: 100%|██████████████████████████████████████████████████████████████████████████████████████████████████████████| 512/512 [03:04<00:00,  2.77it/s, est. speed input: 7825.39 toks/s, output: 5.54 toks/s]\u001b[A\nGenerating responses:  10%|██████████████▊                                                                                                                                          | 45/463 [2:20:08<21:41:13, 186.78s/it]\nProcessed prompts:   0%|                                                                                                                       | 0/512 [00:00<?, ?it/s, est. speed input: 0.00 toks/s, output: 0.00 toks/s]\u001b[A\nProcessed prompts:   0%|▏                                                                                                          | 1/512 [01:10<10:04:21, 70.96s/it, est. speed input: 38.05 toks/s, output: 0.03 toks/s]\u001b[A\nProcessed prompts:  39%|█████████████████████████████████████████▏                                                                | 199/512 [02:21<03:09,  1.65it/s, est. speed input: 3943.84 toks/s, output: 2.81 toks/s]\u001b[A\nProcessed prompts: 100%|██████████████████████████████████████████████████████████████████████████████████████████████████████████| 512/512 [03:03<00:00,  2.79it/s, est. speed input: 7839.75 toks/s, output: 5.58 toks/s]\u001b[A\nGenerating responses:  10%|███████████████▏                                                                                                                                         | 46/463 [2:23:14<21:36:39, 186.57s/it]\nProcessed prompts:   0%|                                                                                                                       | 0/512 [00:00<?, ?it/s, est. speed input: 0.00 toks/s, output: 0.00 toks/s]\u001b[A\nProcessed prompts:   0%|▏                                                                                                          | 1/512 [01:11<10:06:00, 71.16s/it, est. speed input: 44.34 toks/s, output: 0.03 toks/s]\u001b[A\nProcessed prompts:  39%|█████████████████████████████████████████▏                                                                | 199/512 [02:22<03:10,  1.65it/s, est. speed input: 3939.91 toks/s, output: 2.80 toks/s]\u001b[A\nProcessed prompts: 100%|██████████████████████████████████████████████████████████████████████████████████████████████████████████| 512/512 [03:03<00:00,  2.79it/s, est. speed input: 7828.86 toks/s, output: 5.59 toks/s]\u001b[A\nGenerating responses:  10%|███████████████▌                                                                                                                                         | 47/463 [2:26:19<21:31:47, 186.32s/it]\nProcessed prompts:   0%|                                                                                                                       | 0/512 [00:00<?, ?it/s, est. speed input: 0.00 toks/s, output: 0.00 toks/s]\u001b[A\nProcessed prompts:   0%|▏                                                                                                          | 1/512 [01:10<10:02:59, 70.80s/it, est. speed input: 39.76 toks/s, output: 0.03 toks/s]\u001b[A\nProcessed prompts:  38%|████████████████████████████████████████▊                                                                 | 197/512 [02:21<03:13,  1.63it/s, est. speed input: 3932.93 toks/s, output: 2.78 toks/s]\u001b[A\nProcessed prompts: 100%|██████████████████████████████████████████████████████████████████████████████████████████████████████████| 512/512 [03:05<00:00,  2.76it/s, est. speed input: 7828.39 toks/s, output: 5.53 toks/s]\u001b[A\nGenerating responses:  10%|███████████████▊                                                                                                                                         | 48/463 [2:29:27<21:31:32, 186.73s/it]\nProcessed prompts:   0%|                                                                                                                       | 0/512 [00:00<?, ?it/s, est. speed input: 0.00 toks/s, output: 0.00 toks/s]\u001b[A\nProcessed prompts:   0%|▏                                                                                                          | 1/512 [01:11<10:08:08, 71.41s/it, est. speed input: 38.29 toks/s, output: 0.03 toks/s]\u001b[A\nProcessed prompts:  39%|█████████████████████████████████████████▏                                                                | 199/512 [02:22<03:10,  1.64it/s, est. speed input: 3922.31 toks/s, output: 2.79 toks/s]\u001b[A\nProcessed prompts: 100%|██████████████████████████████████████████████████████████████████████████████████████████████████████████| 512/512 [03:05<00:00,  2.77it/s, est. speed input: 7811.15 toks/s, output: 5.53 toks/s]\u001b[A\nGenerating responses:  11%|████████████████▏                                                                                                                                        | 49/463 [2:32:35<21:30:05, 186.97s/it]\nProcessed prompts:   0%|                                                                                                                       | 0/512 [00:00<?, ?it/s, est. speed input: 0.00 toks/s, output: 0.00 toks/s]\u001b[A\nProcessed prompts:   0%|▏                                                                                                          | 1/512 [01:11<10:09:10, 71.53s/it, est. speed input: 38.46 toks/s, output: 0.03 toks/s]\u001b[A\nProcessed prompts:  39%|████████████████████████████████████████▉                                                                 | 198/512 [02:22<03:11,  1.64it/s, est. speed input: 3943.28 toks/s, output: 2.78 toks/s]\u001b[A\nProcessed prompts: 100%|██████████████████████████████████████████████████████████████████████████████████████████████████████████| 512/512 [03:05<00:00,  2.76it/s, est. speed input: 7821.73 toks/s, output: 5.53 toks/s]\u001b[A\nGenerating responses:  11%|████████████████▌                                                                                                                                        | 50/463 [2:35:42<21:28:36, 187.21s/it]\nProcessed prompts:   0%|                                                                                                                       | 0/512 [00:00<?, ?it/s, est. speed input: 0.00 toks/s, output: 0.00 toks/s]\u001b[A\nProcessed prompts:   0%|▏                                                                                                          | 1/512 [01:11<10:05:13, 71.06s/it, est. speed input: 38.47 toks/s, output: 0.03 toks/s]\u001b[A\nProcessed prompts:  39%|█████████████████████████████████████████▍                                                                | 200/512 [02:22<03:08,  1.65it/s, est. speed input: 3934.42 toks/s, output: 2.81 toks/s]\u001b[A\nProcessed prompts: 100%|██████████████████████████████████████████████████████████████████████████████████████████████████████████| 512/512 [03:04<00:00,  2.78it/s, est. speed input: 7825.99 toks/s, output: 5.56 toks/s]\u001b[A\nGenerating responses:  11%|████████████████▊                                                                                                                                        | 51/463 [2:38:49<21:24:33, 187.07s/it]\nProcessed prompts:   0%|                                                                                                                       | 0/512 [00:00<?, ?it/s, est. speed input: 0.00 toks/s, output: 0.00 toks/s]\u001b[A\nProcessed prompts:   0%|▏                                                                                                          | 1/512 [01:10<10:03:37, 70.88s/it, est. speed input: 42.43 toks/s, output: 0.03 toks/s]\u001b[A\nProcessed prompts:  39%|█████████████████████████████████████████▌                                                                | 201/512 [02:21<03:06,  1.67it/s, est. speed input: 3944.44 toks/s, output: 2.84 toks/s]\u001b[A\nProcessed prompts: 100%|██████████████████████████████████████████████████████████████████████████████████████████████████████████| 512/512 [03:03<00:00,  2.80it/s, est. speed input: 7841.24 toks/s, output: 5.59 toks/s]\u001b[A\nGenerating responses:  11%|█████████████████▏                                                                                                                                       | 52/463 [2:41:55<21:18:30, 186.64s/it]\nProcessed prompts:   0%|                                                                                                                       | 0/512 [00:00<?, ?it/s, est. speed input: 0.00 toks/s, output: 0.00 toks/s]\u001b[A\nProcessed prompts:   0%|▏                                                                                                          | 1/512 [01:10<10:03:04, 70.81s/it, est. speed input: 38.05 toks/s, output: 0.03 toks/s]\u001b[A\nProcessed prompts:  39%|█████████████████████████████████████████▏                                                                | 199/512 [02:21<03:10,  1.65it/s, est. speed input: 3936.95 toks/s, output: 2.80 toks/s]\u001b[A\nProcessed prompts: 100%|██████████████████████████████████████████████████████████████████████████████████████████████████████████| 512/512 [03:03<00:00,  2.78it/s, est. speed input: 7838.76 toks/s, output: 5.57 toks/s]\u001b[A\nGenerating responses:  11%|█████████████████▌                                                                                                                                       | 53/463 [2:45:01<21:14:31, 186.52s/it]\nProcessed prompts:   0%|                                                                                                                       | 0/512 [00:00<?, ?it/s, est. speed input: 0.00 toks/s, output: 0.00 toks/s]\u001b[A\nProcessed prompts:   0%|▏                                                                                                          | 1/512 [01:11<10:05:12, 71.06s/it, est. speed input: 44.09 toks/s, output: 0.03 toks/s]\u001b[A\nProcessed prompts:  39%|█████████████████████████████████████████▏                                                                | 199/512 [02:21<03:09,  1.65it/s, est. speed input: 3946.65 toks/s, output: 2.81 toks/s]\u001b[A\nProcessed prompts: 100%|██████████████████████████████████████████████████████████████████████████████████████████████████████████| 512/512 [03:04<00:00,  2.78it/s, est. speed input: 7835.39 toks/s, output: 5.55 toks/s]\u001b[A\nGenerating responses:  12%|█████████████████▊                                                                                                                                       | 54/463 [2:48:08<21:11:36, 186.54s/it]\nProcessed prompts:   0%|                                                                                                                       | 0/512 [00:00<?, ?it/s, est. speed input: 0.00 toks/s, output: 0.00 toks/s]\u001b[A\nProcessed prompts:   0%|▏                                                                                                          | 1/512 [01:11<10:06:19, 71.19s/it, est. speed input: 41.93 toks/s, output: 0.03 toks/s]\u001b[A\nProcessed prompts:  38%|████████████████████████████████████████▊                                                                 | 197/512 [02:22<03:13,  1.63it/s, est. speed input: 3933.33 toks/s, output: 2.77 toks/s]\u001b[A\nProcessed prompts: 100%|██████████████████████████████████████████████████████████████████████████████████████████████████████████| 512/512 [03:04<00:00,  2.78it/s, est. speed input: 7833.10 toks/s, output: 5.56 toks/s]\u001b[A\nGenerating responses:  12%|██████████████████▏                                                                                                                                      | 55/463 [2:51:14<21:08:03, 186.48s/it]\nProcessed prompts:   0%|                                                                                                                       | 0/512 [00:00<?, ?it/s, est. speed input: 0.00 toks/s, output: 0.00 toks/s]\u001b[A\nProcessed prompts:   0%|▏                                                                                                          | 1/512 [01:10<10:03:54, 70.91s/it, est. speed input: 38.54 toks/s, output: 0.03 toks/s]\u001b[A\nProcessed prompts:  39%|█████████████████████████████████████████▏                                                                | 199/512 [02:21<03:10,  1.65it/s, est. speed input: 3933.55 toks/s, output: 2.80 toks/s]\u001b[A\nProcessed prompts: 100%|██████████████████████████████████████████████████████████████████████████████████████████████████████████| 512/512 [03:04<00:00,  2.78it/s, est. speed input: 7818.97 toks/s, output: 5.55 toks/s]\u001b[A\nGenerating responses:  12%|██████████████████▌                                                                                                                                      | 56/463 [2:54:21<21:05:26, 186.55s/it]\nProcessed prompts:   0%|                                                                                                                       | 0/512 [00:00<?, ?it/s, est. speed input: 0.00 toks/s, output: 0.00 toks/s]\u001b[A\nProcessed prompts:   0%|▏                                                                                                          | 1/512 [01:10<10:02:30, 70.75s/it, est. speed input: 38.56 toks/s, output: 0.03 toks/s]\u001b[A\nProcessed prompts:  39%|█████████████████████████████████████████▍                                                                | 200/512 [02:22<03:08,  1.65it/s, est. speed input: 3925.86 toks/s, output: 2.82 toks/s]\u001b[A\nProcessed prompts: 100%|██████████████████████████████████████████████████████████████████████████████████████████████████████████| 512/512 [03:04<00:00,  2.77it/s, est. speed input: 7830.56 toks/s, output: 5.54 toks/s]\u001b[A\nGenerating responses:  12%|██████████████████▊                                                                                                                                      | 57/463 [2:57:28<21:03:16, 186.69s/it]\nProcessed prompts:   0%|                                                                                                                       | 0/512 [00:00<?, ?it/s, est. speed input: 0.00 toks/s, output: 0.00 toks/s]\u001b[A\nProcessed prompts:   0%|▏                                                                                                          | 1/512 [01:11<10:04:47, 71.01s/it, est. speed input: 46.19 toks/s, output: 0.03 toks/s]\u001b[A\nProcessed prompts:  39%|█████████████████████████████████████████▏                                                                | 199/512 [02:22<03:10,  1.65it/s, est. speed input: 3932.86 toks/s, output: 2.80 toks/s]\u001b[A\nProcessed prompts: 100%|██████████████████████████████████████████████████████████████████████████████████████████████████████████| 512/512 [03:03<00:00,  2.79it/s, est. speed input: 7827.54 toks/s, output: 5.57 toks/s]\u001b[A\nGenerating responses:  13%|███████████████████▏                                                                                                                                     | 58/463 [3:00:34<20:58:55, 186.51s/it]\nProcessed prompts:   0%|                                                                                                                       | 0/512 [00:00<?, ?it/s, est. speed input: 0.00 toks/s, output: 0.00 toks/s]\u001b[A\nProcessed prompts:   0%|▏                                                                                                          | 1/512 [01:11<10:04:47, 71.01s/it, est. speed input: 37.57 toks/s, output: 0.03 toks/s]\u001b[A\nProcessed prompts:  39%|█████████████████████████████████████████▏                                                                | 199/512 [02:21<03:09,  1.65it/s, est. speed input: 3944.09 toks/s, output: 2.81 toks/s]\u001b[A\nProcessed prompts: 100%|██████████████████████████████████████████████████████████████████████████████████████████████████████████| 512/512 [03:04<00:00,  2.78it/s, est. speed input: 7838.45 toks/s, output: 5.56 toks/s]\u001b[A\nGenerating responses:  13%|███████████████████▍                                                                                                                                     | 59/463 [3:03:40<20:55:33, 186.47s/it]\nProcessed prompts:   0%|                                                                                                                       | 0/512 [00:00<?, ?it/s, est. speed input: 0.00 toks/s, output: 0.00 toks/s]\u001b[A\nProcessed prompts:   0%|▏                                                                                                          | 1/512 [01:10<10:04:07, 70.94s/it, est. speed input: 39.20 toks/s, output: 0.03 toks/s]\u001b[A\nProcessed prompts:  39%|████████████████████████████████████████▉                                                                 | 198/512 [02:22<03:11,  1.64it/s, est. speed input: 3927.76 toks/s, output: 2.79 toks/s]\u001b[A\nProcessed prompts: 100%|██████████████████████████████████████████████████████████████████████████████████████████████████████████| 512/512 [03:04<00:00,  2.78it/s, est. speed input: 7839.98 toks/s, output: 5.56 toks/s]\u001b[A\nGenerating responses:  13%|███████████████████▊                                                                                                                                     | 60/463 [3:06:46<20:52:03, 186.41s/it]\nProcessed prompts:   0%|                                                                                                                       | 0/512 [00:00<?, ?it/s, est. speed input: 0.00 toks/s, output: 0.00 toks/s]\u001b[A\nProcessed prompts:   0%|▏                                                                                                          | 1/512 [01:10<10:02:35, 70.75s/it, est. speed input: 39.33 toks/s, output: 0.03 toks/s]\u001b[A\nProcessed prompts:  39%|█████████████████████████████████████████▏                                                                | 199/512 [02:21<03:09,  1.65it/s, est. speed input: 3937.03 toks/s, output: 2.81 toks/s]\u001b[A\nProcessed prompts: 100%|██████████████████████████████████████████████████████████████████████████████████████████████████████████| 512/512 [03:03<00:00,  2.79it/s, est. speed input: 7835.48 toks/s, output: 5.59 toks/s]\u001b[A\nGenerating responses:  13%|████████████████████▏                                                                                                                                    | 61/463 [3:09:52<20:47:14, 186.16s/it]\nProcessed prompts:   0%|                                                                                                                       | 0/512 [00:00<?, ?it/s, est. speed input: 0.00 toks/s, output: 0.00 toks/s]\u001b[A\nProcessed prompts:   0%|▏                                                                                                          | 1/512 [01:10<10:03:47, 70.89s/it, est. speed input: 38.97 toks/s, output: 0.03 toks/s]\u001b[A\nProcessed prompts:  39%|█████████████████████████████████████████▏                                                                | 199/512 [02:22<03:10,  1.64it/s, est. speed input: 3929.11 toks/s, output: 2.80 toks/s]\u001b[A\nProcessed prompts: 100%|██████████████████████████████████████████████████████████████████████████████████████████████████████████| 512/512 [03:03<00:00,  2.79it/s, est. speed input: 7831.91 toks/s, output: 5.58 toks/s]\u001b[A\nGenerating responses:  13%|████████████████████▍                                                                                                                                    | 62/463 [3:12:58<20:43:26, 186.05s/it]\nProcessed prompts:   0%|                                                                                                                       | 0/512 [00:00<?, ?it/s, est. speed input: 0.00 toks/s, output: 0.00 toks/s]\u001b[A\nProcessed prompts:   0%|▏                                                                                                          | 1/512 [01:10<10:03:21, 70.84s/it, est. speed input: 37.43 toks/s, output: 0.03 toks/s]\u001b[A\nProcessed prompts:  39%|█████████████████████████████████████████▍                                                                | 200/512 [02:21<03:08,  1.65it/s, est. speed input: 3935.22 toks/s, output: 2.82 toks/s]\u001b[A\nProcessed prompts: 100%|██████████████████████████████████████████████████████████████████████████████████████████████████████████| 512/512 [03:03<00:00,  2.80it/s, est. speed input: 7844.42 toks/s, output: 5.59 toks/s]\u001b[A\nGenerating responses:  14%|████████████████████▊                                                                                                                                    | 63/463 [3:16:03<20:38:48, 185.82s/it]\nProcessed prompts:   0%|                                                                                                                       | 0/512 [00:00<?, ?it/s, est. speed input: 0.00 toks/s, output: 0.00 toks/s]\u001b[A\nProcessed prompts:   0%|▏                                                                                                          | 1/512 [01:11<10:05:56, 71.15s/it, est. speed input: 39.97 toks/s, output: 0.03 toks/s]\u001b[A\nProcessed prompts:  39%|████████████████████████████████████████▉                                                                 | 198/512 [02:21<03:11,  1.64it/s, est. speed input: 3932.62 toks/s, output: 2.79 toks/s]\u001b[A\nProcessed prompts: 100%|██████████████████████████████████████████████████████████████████████████████████████████████████████████| 512/512 [03:03<00:00,  2.79it/s, est. speed input: 7827.76 toks/s, output: 5.58 toks/s]\u001b[A\nGenerating responses:  14%|█████████████████████▏                                                                                                                                   | 64/463 [3:19:09<20:35:15, 185.75s/it]\nProcessed prompts:   0%|                                                                                                                       | 0/512 [00:00<?, ?it/s, est. speed input: 0.00 toks/s, output: 0.00 toks/s]\u001b[A\nProcessed prompts:   0%|▏                                                                                                          | 1/512 [01:10<10:04:14, 70.95s/it, est. speed input: 39.45 toks/s, output: 0.03 toks/s]\u001b[A\nProcessed prompts:  39%|█████████████████████████████████████████▍                                                                | 200/512 [02:22<03:08,  1.65it/s, est. speed input: 3932.09 toks/s, output: 2.82 toks/s]\u001b[A\nProcessed prompts: 100%|██████████████████████████████████████████████████████████████████████████████████████████████████████████| 512/512 [03:03<00:00,  2.79it/s, est. speed input: 7834.12 toks/s, output: 5.57 toks/s]\u001b[A\nGenerating responses:  14%|█████████████████████▍                                                                                                                                   | 65/463 [3:22:15<20:32:36, 185.82s/it]\nProcessed prompts:   0%|                                                                                                                       | 0/512 [00:00<?, ?it/s, est. speed input: 0.00 toks/s, output: 0.00 toks/s]\u001b[A\nProcessed prompts:   0%|▏                                                                                                          | 1/512 [01:10<10:03:57, 70.91s/it, est. speed input: 39.16 toks/s, output: 0.03 toks/s]\u001b[A\nProcessed prompts:  39%|█████████████████████████████████████████▍                                                                | 200/512 [02:21<03:08,  1.66it/s, est. speed input: 3937.03 toks/s, output: 2.82 toks/s]\u001b[A\nProcessed prompts: 100%|██████████████████████████████████████████████████████████████████████████████████████████████████████████| 512/512 [03:04<00:00,  2.78it/s, est. speed input: 7834.66 toks/s, output: 5.56 toks/s]\u001b[A\nGenerating responses:  14%|█████████████████████▊                                                                                                                                   | 66/463 [3:25:21<20:30:54, 186.03s/it]\nProcessed prompts:   0%|                                                                                                                       | 0/512 [00:00<?, ?it/s, est. speed input: 0.00 toks/s, output: 0.00 toks/s]\u001b[A\nProcessed prompts:   0%|▏                                                                                                          | 1/512 [01:10<10:03:39, 70.88s/it, est. speed input: 39.94 toks/s, output: 0.03 toks/s]\u001b[A\nProcessed prompts:  39%|█████████████████████████████████████████▍                                                                | 200/512 [02:22<03:08,  1.65it/s, est. speed input: 3942.12 toks/s, output: 2.82 toks/s]\u001b[A\nProcessed prompts: 100%|██████████████████████████████████████████████████████████████████████████████████████████████████████████| 512/512 [03:04<00:00,  2.78it/s, est. speed input: 7836.98 toks/s, output: 5.55 toks/s]\u001b[A\nGenerating responses:  14%|██████████████████████▏                                                                                                                                  | 67/463 [3:28:28<20:29:02, 186.22s/it]\nProcessed prompts:   0%|                                                                                                                       | 0/512 [00:00<?, ?it/s, est. speed input: 0.00 toks/s, output: 0.00 toks/s]\u001b[A\nProcessed prompts:   0%|▏                                                                                                          | 1/512 [01:10<10:02:35, 70.75s/it, est. speed input: 39.38 toks/s, output: 0.03 toks/s]\u001b[A\nProcessed prompts:  39%|█████████████████████████████████████████▏                                                                | 199/512 [02:21<03:09,  1.65it/s, est. speed input: 3947.36 toks/s, output: 2.81 toks/s]\u001b[A\nProcessed prompts: 100%|██████████████████████████████████████████████████████████████████████████████████████████████████████████| 512/512 [03:03<00:00,  2.80it/s, est. speed input: 7835.34 toks/s, output: 5.59 toks/s]\u001b[A\nGenerating responses:  15%|██████████████████████▍                                                                                                                                  | 68/463 [3:31:33<20:24:22, 185.98s/it]\nProcessed prompts:   0%|                                                                                                                       | 0/512 [00:00<?, ?it/s, est. speed input: 0.00 toks/s, output: 0.00 toks/s]\u001b[A\nProcessed prompts:   0%|▏                                                                                                          | 1/512 [01:10<10:03:23, 70.85s/it, est. speed input: 39.79 toks/s, output: 0.03 toks/s]\u001b[A\nProcessed prompts:  39%|████████████████████████████████████████▉                                                                 | 198/512 [02:21<03:11,  1.64it/s, est. speed input: 3932.55 toks/s, output: 2.79 toks/s]\u001b[A\nProcessed prompts: 100%|██████████████████████████████████████████████████████████████████████████████████████████████████████████| 512/512 [03:03<00:00,  2.78it/s, est. speed input: 7836.00 toks/s, output: 5.57 toks/s]\u001b[A\nGenerating responses:  15%|██████████████████████▊                                                                                                                                  | 69/463 [3:34:39<20:21:49, 186.07s/it]\nProcessed prompts:   0%|                                                                                                                       | 0/512 [00:00<?, ?it/s, est. speed input: 0.00 toks/s, output: 0.00 toks/s]\u001b[A\nProcessed prompts:   0%|▏                                                                                                          | 1/512 [01:10<10:01:07, 70.58s/it, est. speed input: 38.25 toks/s, output: 0.03 toks/s]\u001b[A\nProcessed prompts:  39%|█████████████████████████████████████████▏                                                                | 199/512 [02:21<03:09,  1.65it/s, est. speed input: 3939.15 toks/s, output: 2.81 toks/s]\u001b[A\nProcessed prompts: 100%|██████████████████████████████████████████████████████████████████████████████████████████████████████████| 512/512 [03:03<00:00,  2.79it/s, est. speed input: 7840.03 toks/s, output: 5.58 toks/s]\u001b[A\nGenerating responses:  15%|███████████████████████▏                                                                                                                                 | 70/463 [3:37:45<20:18:03, 185.96s/it]\nProcessed prompts:   0%|                                                                                                                       | 0/512 [00:00<?, ?it/s, est. speed input: 0.00 toks/s, output: 0.00 toks/s]\u001b[A\nProcessed prompts:   0%|▏                                                                                                          | 1/512 [01:11<10:09:05, 71.52s/it, est. speed input: 36.70 toks/s, output: 0.03 toks/s]\u001b[A\nProcessed prompts:  38%|████████████████████████████████████████▊                                                                 | 197/512 [02:22<03:13,  1.63it/s, est. speed input: 3926.36 toks/s, output: 2.77 toks/s]\u001b[A\nProcessed prompts: 100%|██████████████████████████████████████████████████████████████████████████████████████████████████████████| 512/512 [03:05<00:00,  2.75it/s, est. speed input: 7810.04 toks/s, output: 5.51 toks/s]\u001b[A\nGenerating responses:  15%|███████████████████████▍                                                                                                                                 | 71/463 [3:40:53<20:19:21, 186.64s/it]\nProcessed prompts:   0%|                                                                                                                       | 0/512 [00:00<?, ?it/s, est. speed input: 0.00 toks/s, output: 0.00 toks/s]\u001b[A\nProcessed prompts:   0%|▏                                                                                                          | 1/512 [01:10<10:04:27, 70.97s/it, est. speed input: 37.17 toks/s, output: 0.03 toks/s]\u001b[A\nProcessed prompts:  38%|████████████████████████████████████████▊                                                                 | 197/512 [02:22<03:13,  1.63it/s, est. speed input: 3925.63 toks/s, output: 2.77 toks/s]\u001b[A\nProcessed prompts: 100%|██████████████████████████████████████████████████████████████████████████████████████████████████████████| 512/512 [03:05<00:00,  2.76it/s, est. speed input: 7821.72 toks/s, output: 5.52 toks/s]\u001b[A\nGenerating responses:  16%|███████████████████████▊                                                                                                                                 | 72/463 [3:44:01<20:18:43, 187.02s/it]\nProcessed prompts:   0%|                                                                                                                       | 0/512 [00:00<?, ?it/s, est. speed input: 0.00 toks/s, output: 0.00 toks/s]\u001b[A\nProcessed prompts:   0%|▏                                                                                                          | 1/512 [01:10<10:03:38, 70.88s/it, est. speed input: 46.53 toks/s, output: 0.03 toks/s]\u001b[A\nProcessed prompts:  39%|█████████████████████████████████████████▏                                                                | 199/512 [02:21<03:09,  1.65it/s, est. speed input: 3939.66 toks/s, output: 2.81 toks/s]\u001b[A\nProcessed prompts: 100%|██████████████████████████████████████████████████████████████████████████████████████████████████████████| 512/512 [03:02<00:00,  2.80it/s, est. speed input: 7842.25 toks/s, output: 5.60 toks/s]\u001b[A\nGenerating responses:  16%|████████████████████████                                                                                                                                 | 73/463 [3:47:06<20:12:07, 186.48s/it]\nProcessed prompts:   0%|                                                                                                                       | 0/512 [00:00<?, ?it/s, est. speed input: 0.00 toks/s, output: 0.00 toks/s]\u001b[A\nProcessed prompts:   0%|▏                                                                                                          | 1/512 [01:10<10:03:37, 70.88s/it, est. speed input: 38.43 toks/s, output: 0.03 toks/s]\u001b[A\nProcessed prompts:  39%|█████████████████████████████████████████▏                                                                | 199/512 [02:21<03:10,  1.65it/s, est. speed input: 3935.08 toks/s, output: 2.80 toks/s]\u001b[A\nProcessed prompts: 100%|██████████████████████████████████████████████████████████████████████████████████████████████████████████| 512/512 [03:04<00:00,  2.77it/s, est. speed input: 7831.04 toks/s, output: 5.55 toks/s]\u001b[A\nGenerating responses:  16%|████████████████████████▍                                                                                                                                | 74/463 [3:50:13<20:09:46, 186.60s/it]\nProcessed prompts:   0%|                                                                                                                       | 0/512 [00:00<?, ?it/s, est. speed input: 0.00 toks/s, output: 0.00 toks/s]\u001b[A"
        }
      ],
      "execution_count": null,
      "metadata": {
        "collapsed": true,
        "jupyter": {
          "outputs_hidden": true
        },
        "scrolled": true,
        "id": "624a4e6e-e67a-4207-9c74-9e2674946387",
        "outputId": "bc98b835-f091-44a5-e409-00536fcc77b6"
      },
      "id": "624a4e6e-e67a-4207-9c74-9e2674946387"
    },
    {
      "cell_type": "code",
      "source": [
        "dataset"
      ],
      "outputs": [
        {
          "output_type": "execute_result",
          "execution_count": 90,
          "data": {
            "text/plain": "Dataset({\n    features: ['content', 'sha1', 'id'],\n    num_rows: 236926\n})"
          },
          "metadata": {}
        }
      ],
      "execution_count": null,
      "metadata": {
        "id": "d02e6021-71c7-449b-a54a-d6f9a54e4f04",
        "outputId": "65825deb-1cb9-4179-d94c-48b8d42207af"
      },
      "id": "d02e6021-71c7-449b-a54a-d6f9a54e4f04"
    },
    {
      "cell_type": "code",
      "source": [
        "subset = dataset.select(range(75000))"
      ],
      "outputs": [],
      "execution_count": null,
      "metadata": {
        "id": "fa02eef9-f557-4f36-adf3-0115a5c08041"
      },
      "id": "fa02eef9-f557-4f36-adf3-0115a5c08041"
    },
    {
      "cell_type": "code",
      "source": [
        "subset"
      ],
      "outputs": [
        {
          "output_type": "execute_result",
          "execution_count": 92,
          "data": {
            "text/plain": "Dataset({\n    features: ['content', 'sha1', 'id'],\n    num_rows: 75000\n})"
          },
          "metadata": {}
        }
      ],
      "execution_count": null,
      "metadata": {
        "id": "8d5579e1-7c33-438e-8e79-d8acab10b66b",
        "outputId": "4fca53fa-b35e-4f26-fbb2-5afdbe80a563"
      },
      "id": "8d5579e1-7c33-438e-8e79-d8acab10b66b"
    },
    {
      "cell_type": "code",
      "source": [
        "new_ds = subset.filter(  # horrible hack!\n",
        "    lambda ex, i: responses[i] and \"def dummy()\" not in ex[\"content\"], with_indices=True)\n",
        "print(f\"Filtered {len(dataset) - len(new_ds)} examples\")"
      ],
      "outputs": [
        {
          "output_type": "display_data",
          "data": {
            "application/vnd.jupyter.widget-view+json": {
              "model_id": "b9179316fd5e490db6769cb501e85d83",
              "version_major": 2,
              "version_minor": 0
            },
            "text/plain": "Filter:   0%|          | 0/75000 [00:00<?, ? examples/s]"
          },
          "metadata": {}
        },
        {
          "output_type": "stream",
          "name": "stdout",
          "text": "Filtered 233319 examples\n"
        }
      ],
      "execution_count": null,
      "metadata": {
        "colab": {
          "referenced_widgets": [
            "b9179316fd5e490db6769cb501e85d83"
          ]
        },
        "id": "da440e82-7104-4c01-99dc-b7dac8803cb9",
        "outputId": "55f82f4d-a5f5-49af-ecaf-441a8b5d259e"
      },
      "id": "da440e82-7104-4c01-99dc-b7dac8803cb9"
    },
    {
      "cell_type": "code",
      "source": [
        "new_ds.save_to_disk(\"../datasets/seed3\")"
      ],
      "outputs": [
        {
          "output_type": "display_data",
          "data": {
            "application/vnd.jupyter.widget-view+json": {
              "model_id": "6a97b459634344fc9cc7e4e0ed06283d",
              "version_major": 2,
              "version_minor": 0
            },
            "text/plain": "Saving the dataset (0/1 shards):   0%|          | 0/3607 [00:00<?, ? examples/s]"
          },
          "metadata": {}
        }
      ],
      "execution_count": null,
      "metadata": {
        "colab": {
          "referenced_widgets": [
            "6a97b459634344fc9cc7e4e0ed06283d"
          ]
        },
        "id": "908e497d-4afe-4651-b73c-5950e57b06e8",
        "outputId": "26da60fb-d87f-4478-96b8-9ece63f4f015"
      },
      "id": "908e497d-4afe-4651-b73c-5950e57b06e8"
    },
    {
      "cell_type": "code",
      "source": [
        "new_ds"
      ],
      "outputs": [
        {
          "output_type": "execute_result",
          "execution_count": 98,
          "data": {
            "text/plain": "Dataset({\n    features: ['content', 'sha1', 'id'],\n    num_rows: 3607\n})"
          },
          "metadata": {}
        }
      ],
      "execution_count": null,
      "metadata": {
        "id": "9148b29c-1dc5-47a3-bef7-60dc19d75764",
        "outputId": "a5ba68f3-f1f2-4181-ad5a-fef938bf967b"
      },
      "id": "9148b29c-1dc5-47a3-bef7-60dc19d75764"
    }
  ],
  "metadata": {
    "kernelspec": {
      "name": "python38-azureml",
      "language": "python",
      "display_name": "Python 3.10 - AzureML"
    },
    "language_info": {
      "name": "python",
      "version": "3.10.11",
      "mimetype": "text/x-python",
      "codemirror_mode": {
        "name": "ipython",
        "version": 3
      },
      "pygments_lexer": "ipython3",
      "nbconvert_exporter": "python",
      "file_extension": ".py"
    },
    "colab": {
      "provenance": []
    },
    "widgets": {
      "application/vnd.jupyter.widget-state+json": {
        "e231c0e735294276907ff8e525546c70": {
          "model_module": "@jupyter-widgets/controls",
          "model_name": "HTMLModel",
          "model_module_version": "1.5.0",
          "state": {
            "_view_module_version": "1.5.0",
            "description_tooltip": null,
            "_model_name": "HTMLModel",
            "_model_module": "@jupyter-widgets/controls",
            "_view_name": "HTMLView",
            "_view_module": "@jupyter-widgets/controls",
            "_dom_classes": [],
            "layout": "IPY_MODEL_65a113f2f2c74eeb8f4ed775492c804f",
            "value": "Generating train split: ",
            "style": "IPY_MODEL_c298e624d48b4e318ead88a2be8d99d5",
            "placeholder": "​",
            "_view_count": null,
            "_model_module_version": "1.5.0",
            "description": ""
          }
        },
        "d595d93f270a48c0a4b4b60b8717a346": {
          "model_module": "@jupyter-widgets/base",
          "model_name": "LayoutModel",
          "model_module_version": "1.2.0",
          "state": {
            "_view_module_version": "1.2.0",
            "_model_name": "LayoutModel",
            "grid_row": null,
            "_model_module": "@jupyter-widgets/base",
            "overflow": null,
            "max_height": null,
            "display": null,
            "grid_auto_flow": null,
            "grid_template_rows": null,
            "align_self": null,
            "grid_auto_columns": null,
            "width": "20px",
            "grid_area": null,
            "align_items": null,
            "_view_name": "LayoutView",
            "left": null,
            "height": null,
            "_view_module": "@jupyter-widgets/base",
            "object_position": null,
            "justify_content": null,
            "bottom": null,
            "max_width": null,
            "border": null,
            "margin": null,
            "order": null,
            "grid_column": null,
            "grid_auto_rows": null,
            "padding": null,
            "grid_template_columns": null,
            "justify_items": null,
            "object_fit": null,
            "visibility": null,
            "_view_count": null,
            "flex_flow": null,
            "min_height": null,
            "top": null,
            "min_width": null,
            "flex": null,
            "_model_module_version": "1.2.0",
            "grid_template_areas": null,
            "overflow_x": null,
            "right": null,
            "overflow_y": null,
            "grid_gap": null,
            "align_content": null
          }
        },
        "bdb2f963121648a1beb5f4f9c9ba9e4b": {
          "model_module": "@jupyter-widgets/controls",
          "model_name": "HTMLModel",
          "model_module_version": "1.5.0",
          "state": {
            "_view_module_version": "1.5.0",
            "description_tooltip": null,
            "_model_name": "HTMLModel",
            "_model_module": "@jupyter-widgets/controls",
            "_view_name": "HTMLView",
            "_view_module": "@jupyter-widgets/controls",
            "_dom_classes": [],
            "layout": "IPY_MODEL_060dff1b5e0d4ea48ec2b82feab6639a",
            "value": " 34705760/0 [03:52&lt;00:00, 150967.07 examples/s]",
            "style": "IPY_MODEL_62e63df377d94c1b82b2951f27402b42",
            "placeholder": "​",
            "_view_count": null,
            "_model_module_version": "1.5.0",
            "description": ""
          }
        },
        "885ee37fa7b1411aa435bc35bd8610c1": {
          "model_module": "@jupyter-widgets/base",
          "model_name": "LayoutModel",
          "model_module_version": "1.2.0",
          "state": {
            "_view_module_version": "1.2.0",
            "_model_name": "LayoutModel",
            "grid_row": null,
            "_model_module": "@jupyter-widgets/base",
            "overflow": null,
            "max_height": null,
            "display": null,
            "grid_auto_flow": null,
            "grid_template_rows": null,
            "align_self": null,
            "grid_auto_columns": null,
            "width": null,
            "grid_area": null,
            "align_items": null,
            "_view_name": "LayoutView",
            "left": null,
            "height": null,
            "_view_module": "@jupyter-widgets/base",
            "object_position": null,
            "justify_content": null,
            "bottom": null,
            "max_width": null,
            "border": null,
            "margin": null,
            "order": null,
            "grid_column": null,
            "grid_auto_rows": null,
            "padding": null,
            "grid_template_columns": null,
            "justify_items": null,
            "object_fit": null,
            "visibility": null,
            "_view_count": null,
            "flex_flow": null,
            "min_height": null,
            "top": null,
            "min_width": null,
            "flex": null,
            "_model_module_version": "1.2.0",
            "grid_template_areas": null,
            "overflow_x": null,
            "right": null,
            "overflow_y": null,
            "grid_gap": null,
            "align_content": null
          }
        },
        "8023f55d031b47a088886e3c9ee4ddb0": {
          "model_module": "@jupyter-widgets/controls",
          "model_name": "HTMLModel",
          "model_module_version": "1.5.0",
          "state": {
            "_view_module_version": "1.5.0",
            "description_tooltip": null,
            "_model_name": "HTMLModel",
            "_model_module": "@jupyter-widgets/controls",
            "_view_name": "HTMLView",
            "_view_module": "@jupyter-widgets/controls",
            "_dom_classes": [],
            "layout": "IPY_MODEL_0a08fe08546f47398ddace77b78e398b",
            "value": " 89.2k/89.2k [00:00&lt;00:00, 1.22MB/s]",
            "style": "IPY_MODEL_99659a980b9c4a2d80027dfd54b6e2a4",
            "placeholder": "​",
            "_view_count": null,
            "_model_module_version": "1.5.0",
            "description": ""
          }
        },
        "5ff0201a4e8d4931a3f30febda7ad7c3": {
          "model_module": "@jupyter-widgets/controls",
          "model_name": "DescriptionStyleModel",
          "model_module_version": "1.5.0",
          "state": {
            "_model_module": "@jupyter-widgets/controls",
            "_model_module_version": "1.5.0",
            "_model_name": "DescriptionStyleModel",
            "_view_count": null,
            "_view_module": "@jupyter-widgets/base",
            "_view_module_version": "1.2.0",
            "_view_name": "StyleView",
            "description_width": ""
          }
        },
        "4ae76b6d1fea4e7eb2ee54cca756ec70": {
          "model_module": "@jupyter-widgets/controls",
          "model_name": "HTMLModel",
          "model_module_version": "1.5.0",
          "state": {
            "_view_module_version": "1.5.0",
            "description_tooltip": null,
            "_model_name": "HTMLModel",
            "_model_module": "@jupyter-widgets/controls",
            "_view_name": "HTMLView",
            "_view_module": "@jupyter-widgets/controls",
            "_dom_classes": [],
            "layout": "IPY_MODEL_ce08a6ecdd80444bad92b8ef09e1c087",
            "value": "Resolving data files: 100%",
            "style": "IPY_MODEL_39a960837fad4c3ea65e04f90784f4ba",
            "placeholder": "​",
            "_view_count": null,
            "_model_module_version": "1.5.0",
            "description": ""
          }
        },
        "40a33f4ddd9b4002bbb7ca336f342947": {
          "model_module": "@jupyter-widgets/base",
          "model_name": "LayoutModel",
          "model_module_version": "1.2.0",
          "state": {
            "_view_module_version": "1.2.0",
            "_model_name": "LayoutModel",
            "grid_row": null,
            "_model_module": "@jupyter-widgets/base",
            "overflow": null,
            "max_height": null,
            "display": null,
            "grid_auto_flow": null,
            "grid_template_rows": null,
            "align_self": null,
            "grid_auto_columns": null,
            "width": null,
            "grid_area": null,
            "align_items": null,
            "_view_name": "LayoutView",
            "left": null,
            "height": null,
            "_view_module": "@jupyter-widgets/base",
            "object_position": null,
            "justify_content": null,
            "bottom": null,
            "max_width": null,
            "border": null,
            "margin": null,
            "order": null,
            "grid_column": null,
            "grid_auto_rows": null,
            "padding": null,
            "grid_template_columns": null,
            "justify_items": null,
            "object_fit": null,
            "visibility": null,
            "_view_count": null,
            "flex_flow": null,
            "min_height": null,
            "top": null,
            "min_width": null,
            "flex": null,
            "_model_module_version": "1.2.0",
            "grid_template_areas": null,
            "overflow_x": null,
            "right": null,
            "overflow_y": null,
            "grid_gap": null,
            "align_content": null
          }
        },
        "3b3336bb98254c16b45551d3829c20ad": {
          "model_module": "@jupyter-widgets/controls",
          "model_name": "FloatProgressModel",
          "model_module_version": "1.5.0",
          "state": {
            "_view_module_version": "1.5.0",
            "description_tooltip": null,
            "_model_name": "FloatProgressModel",
            "_model_module": "@jupyter-widgets/controls",
            "max": 757,
            "bar_style": "success",
            "_view_name": "ProgressView",
            "_view_module": "@jupyter-widgets/controls",
            "_dom_classes": [],
            "layout": "IPY_MODEL_a2d2e44b5658405fa7aa2c03cd7f5846",
            "orientation": "horizontal",
            "value": 757,
            "style": "IPY_MODEL_9ac894d284ab4c1b9a1c9ee50f797667",
            "min": 0,
            "_view_count": null,
            "_model_module_version": "1.5.0",
            "description": ""
          }
        },
        "62e63df377d94c1b82b2951f27402b42": {
          "model_module": "@jupyter-widgets/controls",
          "model_name": "DescriptionStyleModel",
          "model_module_version": "1.5.0",
          "state": {
            "_model_module": "@jupyter-widgets/controls",
            "_model_module_version": "1.5.0",
            "_model_name": "DescriptionStyleModel",
            "_view_count": null,
            "_view_module": "@jupyter-widgets/base",
            "_view_module_version": "1.2.0",
            "_view_name": "StyleView",
            "description_width": ""
          }
        },
        "c298e624d48b4e318ead88a2be8d99d5": {
          "model_module": "@jupyter-widgets/controls",
          "model_name": "DescriptionStyleModel",
          "model_module_version": "1.5.0",
          "state": {
            "_model_module": "@jupyter-widgets/controls",
            "_model_module_version": "1.5.0",
            "_model_name": "DescriptionStyleModel",
            "_view_count": null,
            "_view_module": "@jupyter-widgets/base",
            "_view_module_version": "1.2.0",
            "_view_name": "StyleView",
            "description_width": ""
          }
        },
        "a2d2e44b5658405fa7aa2c03cd7f5846": {
          "model_module": "@jupyter-widgets/base",
          "model_name": "LayoutModel",
          "model_module_version": "1.2.0",
          "state": {
            "_view_module_version": "1.2.0",
            "_model_name": "LayoutModel",
            "grid_row": null,
            "_model_module": "@jupyter-widgets/base",
            "overflow": null,
            "max_height": null,
            "display": null,
            "grid_auto_flow": null,
            "grid_template_rows": null,
            "align_self": null,
            "grid_auto_columns": null,
            "width": null,
            "grid_area": null,
            "align_items": null,
            "_view_name": "LayoutView",
            "left": null,
            "height": null,
            "_view_module": "@jupyter-widgets/base",
            "object_position": null,
            "justify_content": null,
            "bottom": null,
            "max_width": null,
            "border": null,
            "margin": null,
            "order": null,
            "grid_column": null,
            "grid_auto_rows": null,
            "padding": null,
            "grid_template_columns": null,
            "justify_items": null,
            "object_fit": null,
            "visibility": null,
            "_view_count": null,
            "flex_flow": null,
            "min_height": null,
            "top": null,
            "min_width": null,
            "flex": null,
            "_model_module_version": "1.2.0",
            "grid_template_areas": null,
            "overflow_x": null,
            "right": null,
            "overflow_y": null,
            "grid_gap": null,
            "align_content": null
          }
        },
        "65189c1daa4f4fac8c65efa00c14066c": {
          "model_module": "@jupyter-widgets/controls",
          "model_name": "HBoxModel",
          "model_module_version": "1.5.0",
          "state": {
            "_view_module_version": "1.5.0",
            "_model_name": "HBoxModel",
            "_model_module": "@jupyter-widgets/controls",
            "_view_name": "HBoxView",
            "_view_module": "@jupyter-widgets/controls",
            "_dom_classes": [],
            "layout": "IPY_MODEL_6139fc5e860d4b9da1415125947db9e5",
            "_view_count": null,
            "_model_module_version": "1.5.0",
            "box_style": "",
            "children": [
              "IPY_MODEL_4ae76b6d1fea4e7eb2ee54cca756ec70",
              "IPY_MODEL_3b3336bb98254c16b45551d3829c20ad",
              "IPY_MODEL_9ee8a92d4b0d4581b77d08a5a4a02e04"
            ]
          }
        },
        "54853545ebc7431d938527690290f9aa": {
          "model_module": "@jupyter-widgets/controls",
          "model_name": "HBoxModel",
          "model_module_version": "1.5.0",
          "state": {
            "_view_module_version": "1.5.0",
            "_model_name": "HBoxModel",
            "_model_module": "@jupyter-widgets/controls",
            "_view_name": "HBoxView",
            "_view_module": "@jupyter-widgets/controls",
            "_dom_classes": [],
            "layout": "IPY_MODEL_acf2d2b8b448461e99417fa5a255f081",
            "_view_count": null,
            "_model_module_version": "1.5.0",
            "box_style": "",
            "children": [
              "IPY_MODEL_209a97e9fca044efb073505c6933cf72",
              "IPY_MODEL_bad37d9f07174ba684cea521fc1375b9",
              "IPY_MODEL_8023f55d031b47a088886e3c9ee4ddb0"
            ]
          }
        },
        "9a204c23d1694ab8ae493b8ee842fd1a": {
          "model_module": "@jupyter-widgets/base",
          "model_name": "LayoutModel",
          "model_module_version": "1.2.0",
          "state": {
            "_view_module_version": "1.2.0",
            "_model_name": "LayoutModel",
            "grid_row": null,
            "_model_module": "@jupyter-widgets/base",
            "overflow": null,
            "max_height": null,
            "display": null,
            "grid_auto_flow": null,
            "grid_template_rows": null,
            "align_self": null,
            "grid_auto_columns": null,
            "width": null,
            "grid_area": null,
            "align_items": null,
            "_view_name": "LayoutView",
            "left": null,
            "height": null,
            "_view_module": "@jupyter-widgets/base",
            "object_position": null,
            "justify_content": null,
            "bottom": null,
            "max_width": null,
            "border": null,
            "margin": null,
            "order": null,
            "grid_column": null,
            "grid_auto_rows": null,
            "padding": null,
            "grid_template_columns": null,
            "justify_items": null,
            "object_fit": null,
            "visibility": null,
            "_view_count": null,
            "flex_flow": null,
            "min_height": null,
            "top": null,
            "min_width": null,
            "flex": null,
            "_model_module_version": "1.2.0",
            "grid_template_areas": null,
            "overflow_x": null,
            "right": null,
            "overflow_y": null,
            "grid_gap": null,
            "align_content": null
          }
        },
        "ca2cbe236e4d47f4b5b00653ff67a5c4": {
          "model_module": "@jupyter-widgets/base",
          "model_name": "LayoutModel",
          "model_module_version": "1.2.0",
          "state": {
            "_view_module_version": "1.2.0",
            "_model_name": "LayoutModel",
            "grid_row": null,
            "_model_module": "@jupyter-widgets/base",
            "overflow": null,
            "max_height": null,
            "display": null,
            "grid_auto_flow": null,
            "grid_template_rows": null,
            "align_self": null,
            "grid_auto_columns": null,
            "width": null,
            "grid_area": null,
            "align_items": null,
            "_view_name": "LayoutView",
            "left": null,
            "height": null,
            "_view_module": "@jupyter-widgets/base",
            "object_position": null,
            "justify_content": null,
            "bottom": null,
            "max_width": null,
            "border": null,
            "margin": null,
            "order": null,
            "grid_column": null,
            "grid_auto_rows": null,
            "padding": null,
            "grid_template_columns": null,
            "justify_items": null,
            "object_fit": null,
            "visibility": null,
            "_view_count": null,
            "flex_flow": null,
            "min_height": null,
            "top": null,
            "min_width": null,
            "flex": null,
            "_model_module_version": "1.2.0",
            "grid_template_areas": null,
            "overflow_x": null,
            "right": null,
            "overflow_y": null,
            "grid_gap": null,
            "align_content": null
          }
        },
        "060dff1b5e0d4ea48ec2b82feab6639a": {
          "model_module": "@jupyter-widgets/base",
          "model_name": "LayoutModel",
          "model_module_version": "1.2.0",
          "state": {
            "_view_module_version": "1.2.0",
            "_model_name": "LayoutModel",
            "grid_row": null,
            "_model_module": "@jupyter-widgets/base",
            "overflow": null,
            "max_height": null,
            "display": null,
            "grid_auto_flow": null,
            "grid_template_rows": null,
            "align_self": null,
            "grid_auto_columns": null,
            "width": null,
            "grid_area": null,
            "align_items": null,
            "_view_name": "LayoutView",
            "left": null,
            "height": null,
            "_view_module": "@jupyter-widgets/base",
            "object_position": null,
            "justify_content": null,
            "bottom": null,
            "max_width": null,
            "border": null,
            "margin": null,
            "order": null,
            "grid_column": null,
            "grid_auto_rows": null,
            "padding": null,
            "grid_template_columns": null,
            "justify_items": null,
            "object_fit": null,
            "visibility": null,
            "_view_count": null,
            "flex_flow": null,
            "min_height": null,
            "top": null,
            "min_width": null,
            "flex": null,
            "_model_module_version": "1.2.0",
            "grid_template_areas": null,
            "overflow_x": null,
            "right": null,
            "overflow_y": null,
            "grid_gap": null,
            "align_content": null
          }
        },
        "9ac894d284ab4c1b9a1c9ee50f797667": {
          "model_module": "@jupyter-widgets/controls",
          "model_name": "ProgressStyleModel",
          "model_module_version": "1.5.0",
          "state": {
            "_view_module_version": "1.2.0",
            "_model_name": "ProgressStyleModel",
            "_model_module": "@jupyter-widgets/controls",
            "description_width": "",
            "_view_name": "StyleView",
            "_view_module": "@jupyter-widgets/base",
            "_view_count": null,
            "bar_color": null,
            "_model_module_version": "1.5.0"
          }
        },
        "acf2d2b8b448461e99417fa5a255f081": {
          "model_module": "@jupyter-widgets/base",
          "model_name": "LayoutModel",
          "model_module_version": "1.2.0",
          "state": {
            "_view_module_version": "1.2.0",
            "_model_name": "LayoutModel",
            "grid_row": null,
            "_model_module": "@jupyter-widgets/base",
            "overflow": null,
            "max_height": null,
            "display": null,
            "grid_auto_flow": null,
            "grid_template_rows": null,
            "align_self": null,
            "grid_auto_columns": null,
            "width": null,
            "grid_area": null,
            "align_items": null,
            "_view_name": "LayoutView",
            "left": null,
            "height": null,
            "_view_module": "@jupyter-widgets/base",
            "object_position": null,
            "justify_content": null,
            "bottom": null,
            "max_width": null,
            "border": null,
            "margin": null,
            "order": null,
            "grid_column": null,
            "grid_auto_rows": null,
            "padding": null,
            "grid_template_columns": null,
            "justify_items": null,
            "object_fit": null,
            "visibility": null,
            "_view_count": null,
            "flex_flow": null,
            "min_height": null,
            "top": null,
            "min_width": null,
            "flex": null,
            "_model_module_version": "1.2.0",
            "grid_template_areas": null,
            "overflow_x": null,
            "right": null,
            "overflow_y": null,
            "grid_gap": null,
            "align_content": null
          }
        },
        "39a960837fad4c3ea65e04f90784f4ba": {
          "model_module": "@jupyter-widgets/controls",
          "model_name": "DescriptionStyleModel",
          "model_module_version": "1.5.0",
          "state": {
            "_model_module": "@jupyter-widgets/controls",
            "_model_module_version": "1.5.0",
            "_model_name": "DescriptionStyleModel",
            "_view_count": null,
            "_view_module": "@jupyter-widgets/base",
            "_view_module_version": "1.2.0",
            "_view_name": "StyleView",
            "description_width": ""
          }
        },
        "6139fc5e860d4b9da1415125947db9e5": {
          "model_module": "@jupyter-widgets/base",
          "model_name": "LayoutModel",
          "model_module_version": "1.2.0",
          "state": {
            "_view_module_version": "1.2.0",
            "_model_name": "LayoutModel",
            "grid_row": null,
            "_model_module": "@jupyter-widgets/base",
            "overflow": null,
            "max_height": null,
            "display": null,
            "grid_auto_flow": null,
            "grid_template_rows": null,
            "align_self": null,
            "grid_auto_columns": null,
            "width": null,
            "grid_area": null,
            "align_items": null,
            "_view_name": "LayoutView",
            "left": null,
            "height": null,
            "_view_module": "@jupyter-widgets/base",
            "object_position": null,
            "justify_content": null,
            "bottom": null,
            "max_width": null,
            "border": null,
            "margin": null,
            "order": null,
            "grid_column": null,
            "grid_auto_rows": null,
            "padding": null,
            "grid_template_columns": null,
            "justify_items": null,
            "object_fit": null,
            "visibility": null,
            "_view_count": null,
            "flex_flow": null,
            "min_height": null,
            "top": null,
            "min_width": null,
            "flex": null,
            "_model_module_version": "1.2.0",
            "grid_template_areas": null,
            "overflow_x": null,
            "right": null,
            "overflow_y": null,
            "grid_gap": null,
            "align_content": null
          }
        },
        "6f4b468c0dd84c40a932783fad094850": {
          "model_module": "@jupyter-widgets/controls",
          "model_name": "HBoxModel",
          "model_module_version": "1.5.0",
          "state": {
            "_view_module_version": "1.5.0",
            "_model_name": "HBoxModel",
            "_model_module": "@jupyter-widgets/controls",
            "_view_name": "HBoxView",
            "_view_module": "@jupyter-widgets/controls",
            "_dom_classes": [],
            "layout": "IPY_MODEL_885ee37fa7b1411aa435bc35bd8610c1",
            "_view_count": null,
            "_model_module_version": "1.5.0",
            "box_style": "",
            "children": [
              "IPY_MODEL_e231c0e735294276907ff8e525546c70",
              "IPY_MODEL_91e115a40ff44636af3d6cd3aa56fae0",
              "IPY_MODEL_bdb2f963121648a1beb5f4f9c9ba9e4b"
            ]
          }
        },
        "0a08fe08546f47398ddace77b78e398b": {
          "model_module": "@jupyter-widgets/base",
          "model_name": "LayoutModel",
          "model_module_version": "1.2.0",
          "state": {
            "_view_module_version": "1.2.0",
            "_model_name": "LayoutModel",
            "grid_row": null,
            "_model_module": "@jupyter-widgets/base",
            "overflow": null,
            "max_height": null,
            "display": null,
            "grid_auto_flow": null,
            "grid_template_rows": null,
            "align_self": null,
            "grid_auto_columns": null,
            "width": null,
            "grid_area": null,
            "align_items": null,
            "_view_name": "LayoutView",
            "left": null,
            "height": null,
            "_view_module": "@jupyter-widgets/base",
            "object_position": null,
            "justify_content": null,
            "bottom": null,
            "max_width": null,
            "border": null,
            "margin": null,
            "order": null,
            "grid_column": null,
            "grid_auto_rows": null,
            "padding": null,
            "grid_template_columns": null,
            "justify_items": null,
            "object_fit": null,
            "visibility": null,
            "_view_count": null,
            "flex_flow": null,
            "min_height": null,
            "top": null,
            "min_width": null,
            "flex": null,
            "_model_module_version": "1.2.0",
            "grid_template_areas": null,
            "overflow_x": null,
            "right": null,
            "overflow_y": null,
            "grid_gap": null,
            "align_content": null
          }
        },
        "ce08a6ecdd80444bad92b8ef09e1c087": {
          "model_module": "@jupyter-widgets/base",
          "model_name": "LayoutModel",
          "model_module_version": "1.2.0",
          "state": {
            "_view_module_version": "1.2.0",
            "_model_name": "LayoutModel",
            "grid_row": null,
            "_model_module": "@jupyter-widgets/base",
            "overflow": null,
            "max_height": null,
            "display": null,
            "grid_auto_flow": null,
            "grid_template_rows": null,
            "align_self": null,
            "grid_auto_columns": null,
            "width": null,
            "grid_area": null,
            "align_items": null,
            "_view_name": "LayoutView",
            "left": null,
            "height": null,
            "_view_module": "@jupyter-widgets/base",
            "object_position": null,
            "justify_content": null,
            "bottom": null,
            "max_width": null,
            "border": null,
            "margin": null,
            "order": null,
            "grid_column": null,
            "grid_auto_rows": null,
            "padding": null,
            "grid_template_columns": null,
            "justify_items": null,
            "object_fit": null,
            "visibility": null,
            "_view_count": null,
            "flex_flow": null,
            "min_height": null,
            "top": null,
            "min_width": null,
            "flex": null,
            "_model_module_version": "1.2.0",
            "grid_template_areas": null,
            "overflow_x": null,
            "right": null,
            "overflow_y": null,
            "grid_gap": null,
            "align_content": null
          }
        },
        "101441abcc95432a88724a12497183f0": {
          "model_module": "@jupyter-widgets/controls",
          "model_name": "ProgressStyleModel",
          "model_module_version": "1.5.0",
          "state": {
            "_view_module_version": "1.2.0",
            "_model_name": "ProgressStyleModel",
            "_model_module": "@jupyter-widgets/controls",
            "description_width": "",
            "_view_name": "StyleView",
            "_view_module": "@jupyter-widgets/base",
            "_view_count": null,
            "bar_color": null,
            "_model_module_version": "1.5.0"
          }
        },
        "209a97e9fca044efb073505c6933cf72": {
          "model_module": "@jupyter-widgets/controls",
          "model_name": "HTMLModel",
          "model_module_version": "1.5.0",
          "state": {
            "_view_module_version": "1.5.0",
            "description_tooltip": null,
            "_model_name": "HTMLModel",
            "_model_module": "@jupyter-widgets/controls",
            "_view_name": "HTMLView",
            "_view_module": "@jupyter-widgets/controls",
            "_dom_classes": [],
            "layout": "IPY_MODEL_ca2cbe236e4d47f4b5b00653ff67a5c4",
            "value": "Downloading readme: 100%",
            "style": "IPY_MODEL_5ff0201a4e8d4931a3f30febda7ad7c3",
            "placeholder": "​",
            "_view_count": null,
            "_model_module_version": "1.5.0",
            "description": ""
          }
        },
        "99659a980b9c4a2d80027dfd54b6e2a4": {
          "model_module": "@jupyter-widgets/controls",
          "model_name": "DescriptionStyleModel",
          "model_module_version": "1.5.0",
          "state": {
            "_model_module": "@jupyter-widgets/controls",
            "_model_module_version": "1.5.0",
            "_model_name": "DescriptionStyleModel",
            "_view_count": null,
            "_view_module": "@jupyter-widgets/base",
            "_view_module_version": "1.2.0",
            "_view_name": "StyleView",
            "description_width": ""
          }
        },
        "b9a7bc3b628d471fac3df3d03156f767": {
          "model_module": "@jupyter-widgets/controls",
          "model_name": "ProgressStyleModel",
          "model_module_version": "1.5.0",
          "state": {
            "_view_module_version": "1.2.0",
            "_model_name": "ProgressStyleModel",
            "_model_module": "@jupyter-widgets/controls",
            "description_width": "",
            "_view_name": "StyleView",
            "_view_module": "@jupyter-widgets/base",
            "_view_count": null,
            "bar_color": null,
            "_model_module_version": "1.5.0"
          }
        },
        "65a113f2f2c74eeb8f4ed775492c804f": {
          "model_module": "@jupyter-widgets/base",
          "model_name": "LayoutModel",
          "model_module_version": "1.2.0",
          "state": {
            "_view_module_version": "1.2.0",
            "_model_name": "LayoutModel",
            "grid_row": null,
            "_model_module": "@jupyter-widgets/base",
            "overflow": null,
            "max_height": null,
            "display": null,
            "grid_auto_flow": null,
            "grid_template_rows": null,
            "align_self": null,
            "grid_auto_columns": null,
            "width": null,
            "grid_area": null,
            "align_items": null,
            "_view_name": "LayoutView",
            "left": null,
            "height": null,
            "_view_module": "@jupyter-widgets/base",
            "object_position": null,
            "justify_content": null,
            "bottom": null,
            "max_width": null,
            "border": null,
            "margin": null,
            "order": null,
            "grid_column": null,
            "grid_auto_rows": null,
            "padding": null,
            "grid_template_columns": null,
            "justify_items": null,
            "object_fit": null,
            "visibility": null,
            "_view_count": null,
            "flex_flow": null,
            "min_height": null,
            "top": null,
            "min_width": null,
            "flex": null,
            "_model_module_version": "1.2.0",
            "grid_template_areas": null,
            "overflow_x": null,
            "right": null,
            "overflow_y": null,
            "grid_gap": null,
            "align_content": null
          }
        },
        "9ee8a92d4b0d4581b77d08a5a4a02e04": {
          "model_module": "@jupyter-widgets/controls",
          "model_name": "HTMLModel",
          "model_module_version": "1.5.0",
          "state": {
            "_view_module_version": "1.5.0",
            "description_tooltip": null,
            "_model_name": "HTMLModel",
            "_model_module": "@jupyter-widgets/controls",
            "_view_name": "HTMLView",
            "_view_module": "@jupyter-widgets/controls",
            "_dom_classes": [],
            "layout": "IPY_MODEL_9a204c23d1694ab8ae493b8ee842fd1a",
            "value": " 757/757 [00:00&lt;00:00, 1940.21it/s]",
            "style": "IPY_MODEL_6fdf801db2ca42f0a8622b80f287c7f8",
            "placeholder": "​",
            "_view_count": null,
            "_model_module_version": "1.5.0",
            "description": ""
          }
        },
        "bad37d9f07174ba684cea521fc1375b9": {
          "model_module": "@jupyter-widgets/controls",
          "model_name": "FloatProgressModel",
          "model_module_version": "1.5.0",
          "state": {
            "_view_module_version": "1.5.0",
            "description_tooltip": null,
            "_model_name": "FloatProgressModel",
            "_model_module": "@jupyter-widgets/controls",
            "max": 89191,
            "bar_style": "success",
            "_view_name": "ProgressView",
            "_view_module": "@jupyter-widgets/controls",
            "_dom_classes": [],
            "layout": "IPY_MODEL_40a33f4ddd9b4002bbb7ca336f342947",
            "orientation": "horizontal",
            "value": 89191,
            "style": "IPY_MODEL_101441abcc95432a88724a12497183f0",
            "min": 0,
            "_view_count": null,
            "_model_module_version": "1.5.0",
            "description": ""
          }
        },
        "91e115a40ff44636af3d6cd3aa56fae0": {
          "model_module": "@jupyter-widgets/controls",
          "model_name": "FloatProgressModel",
          "model_module_version": "1.5.0",
          "state": {
            "_view_module_version": "1.5.0",
            "description_tooltip": null,
            "_model_name": "FloatProgressModel",
            "_model_module": "@jupyter-widgets/controls",
            "max": 1,
            "bar_style": "info",
            "_view_name": "ProgressView",
            "_view_module": "@jupyter-widgets/controls",
            "_dom_classes": [],
            "layout": "IPY_MODEL_d595d93f270a48c0a4b4b60b8717a346",
            "orientation": "horizontal",
            "value": 1,
            "style": "IPY_MODEL_b9a7bc3b628d471fac3df3d03156f767",
            "min": 0,
            "_view_count": null,
            "_model_module_version": "1.5.0",
            "description": ""
          }
        },
        "6fdf801db2ca42f0a8622b80f287c7f8": {
          "model_module": "@jupyter-widgets/controls",
          "model_name": "DescriptionStyleModel",
          "model_module_version": "1.5.0",
          "state": {
            "_model_module": "@jupyter-widgets/controls",
            "_model_module_version": "1.5.0",
            "_model_name": "DescriptionStyleModel",
            "_view_count": null,
            "_view_module": "@jupyter-widgets/base",
            "_view_module_version": "1.2.0",
            "_view_name": "StyleView",
            "description_width": ""
          }
        }
      }
    },
    "microsoft": {
      "ms_spell_check": {
        "ms_spell_check_language": "en"
      }
    },
    "kernel_info": {
      "name": "python38-azureml"
    },
    "nteract": {
      "version": "nteract-front-end@1.0.0"
    }
  },
  "nbformat": 4,
  "nbformat_minor": 5
}